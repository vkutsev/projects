{
 "cells": [
  {
   "cell_type": "markdown",
   "metadata": {
    "id": "4mJbK1knrJgz"
   },
   "source": [
    "# Проект: Исследование стартапов"
   ]
  },
  {
   "cell_type": "markdown",
   "metadata": {},
   "source": [
    "- Автор: Владимир Куцев\n",
    "- Дата: 27.04.2025"
   ]
  },
  {
   "cell_type": "markdown",
   "metadata": {
    "id": "P6j0r3worJg0"
   },
   "source": [
    "## Введение "
   ]
  },
  {
   "cell_type": "markdown",
   "metadata": {
    "id": "8lQtbsIUyFG6"
   },
   "source": [
    "**Цель** - проверить ряд исторических данных на адекватность и провести исследовательский анализ рынка стартапов."
   ]
  },
  {
   "cell_type": "markdown",
   "metadata": {},
   "source": [
    "Будут использованы следующие датасеты:\n",
    "- `acquisition` (**df_buys**) - содержит информацию о покупках одними компаниями других компаний\n",
    "- `company_and_rounds` (**df_cnr**) - содержит информацию о компаниях и раундах финансирования\n",
    "- `education` (**df_educ**) - содержит информацию об образовании сотрудника\n",
    "- `people` (**df_ppl**) - cодержит информацию о сотрудниках\n",
    "- `degrees` (**df_dgrs**) - содержит информацию о типе образования сотрудника"
   ]
  },
  {
   "cell_type": "markdown",
   "metadata": {},
   "source": [
    "А также дополнительные (добавятся при необходимости):\n",
    "- `fund` - содержит информацию о фондах\n",
    "- `investment` - одержит информацию о раундах инвестирования"
   ]
  },
  {
   "cell_type": "markdown",
   "metadata": {},
   "source": [
    "**План работы**:\n",
    "1. Знакомство с данными: загрузка и первичная предобработка\n",
    "2. Предобработка данных, предварительное исследование\n",
    "3. Исследовательский анализ объединённых таблиц\n",
    "4. Итоговый вывод и рекомендации"
   ]
  },
  {
   "cell_type": "markdown",
   "metadata": {
    "id": "xqr6uttCrJg0"
   },
   "source": [
    "\n",
    "## Знакомство с данными: загрузка и первичная предобработка\n",
    "\n",
    "\n",
    "\n",
    "### Вывод общей информации, исправление названия столбцов"
   ]
  },
  {
   "cell_type": "code",
   "execution_count": 1,
   "metadata": {
    "colab": {
     "base_uri": "https://localhost:8080/"
    },
    "id": "W_W4jRazrJg0",
    "outputId": "d2409aad-233f-4bb4-ec71-7da96594f9df",
    "vscode": {
     "languageId": "plaintext"
    }
   },
   "outputs": [],
   "source": [
    "import pandas as pd\n",
    "import matplotlib.pyplot as plt\n",
    "import numpy as np\n",
    "import seaborn as sns"
   ]
  },
  {
   "cell_type": "code",
   "execution_count": 2,
   "metadata": {},
   "outputs": [],
   "source": [
    "import warnings\n",
    "warnings.filterwarnings(\"ignore\")"
   ]
  },
  {
   "cell_type": "code",
   "execution_count": 74,
   "metadata": {},
   "outputs": [
    {
     "name": "stdout",
     "output_type": "stream",
     "text": [
      "Collecting phik\n",
      "  Downloading phik-0.12.4-cp39-cp39-manylinux_2_17_x86_64.manylinux2014_x86_64.whl (686 kB)\n",
      "\u001b[K     |████████████████████████████████| 686 kB 1.8 MB/s eta 0:00:01\n",
      "\u001b[?25hRequirement already satisfied: joblib>=0.14.1 in /opt/conda/lib/python3.9/site-packages (from phik) (1.1.0)\n",
      "Requirement already satisfied: scipy>=1.5.2 in /opt/conda/lib/python3.9/site-packages (from phik) (1.9.1)\n",
      "Requirement already satisfied: matplotlib>=2.2.3 in /opt/conda/lib/python3.9/site-packages (from phik) (3.3.4)\n",
      "Requirement already satisfied: pandas>=0.25.1 in /opt/conda/lib/python3.9/site-packages (from phik) (1.2.4)\n",
      "Requirement already satisfied: numpy>=1.18.0 in /opt/conda/lib/python3.9/site-packages (from phik) (1.21.1)\n",
      "Requirement already satisfied: pyparsing!=2.0.4,!=2.1.2,!=2.1.6,>=2.0.3 in /opt/conda/lib/python3.9/site-packages (from matplotlib>=2.2.3->phik) (2.4.7)\n",
      "Requirement already satisfied: kiwisolver>=1.0.1 in /opt/conda/lib/python3.9/site-packages (from matplotlib>=2.2.3->phik) (1.4.4)\n",
      "Requirement already satisfied: python-dateutil>=2.1 in /opt/conda/lib/python3.9/site-packages (from matplotlib>=2.2.3->phik) (2.8.1)\n",
      "Requirement already satisfied: pillow>=6.2.0 in /opt/conda/lib/python3.9/site-packages (from matplotlib>=2.2.3->phik) (8.4.0)\n",
      "Requirement already satisfied: cycler>=0.10 in /opt/conda/lib/python3.9/site-packages (from matplotlib>=2.2.3->phik) (0.11.0)\n",
      "Requirement already satisfied: pytz>=2017.3 in /opt/conda/lib/python3.9/site-packages (from pandas>=0.25.1->phik) (2021.1)\n",
      "Requirement already satisfied: six>=1.5 in /opt/conda/lib/python3.9/site-packages (from python-dateutil>=2.1->matplotlib>=2.2.3->phik) (1.16.0)\n",
      "Installing collected packages: phik\n",
      "Successfully installed phik-0.12.4\n"
     ]
    }
   ],
   "source": [
    "try:\n",
    "    from phik import phik_matrix\n",
    "except ImportError:\n",
    "    !pip install phik\n",
    "    from phik import phik_matrix"
   ]
  },
  {
   "cell_type": "code",
   "execution_count": 5,
   "metadata": {
    "id": "2Tm4Pk__Felf"
   },
   "outputs": [
    {
     "data": {
      "text/html": [
       "<div>\n",
       "<style scoped>\n",
       "    .dataframe tbody tr th:only-of-type {\n",
       "        vertical-align: middle;\n",
       "    }\n",
       "\n",
       "    .dataframe tbody tr th {\n",
       "        vertical-align: top;\n",
       "    }\n",
       "\n",
       "    .dataframe thead th {\n",
       "        text-align: right;\n",
       "    }\n",
       "</style>\n",
       "<table border=\"1\" class=\"dataframe\">\n",
       "  <thead>\n",
       "    <tr style=\"text-align: right;\">\n",
       "      <th></th>\n",
       "      <th>id</th>\n",
       "      <th>acquiring_company_id</th>\n",
       "      <th>acquired_company_id</th>\n",
       "      <th>term_code</th>\n",
       "      <th>price_amount</th>\n",
       "      <th>acquired_at</th>\n",
       "    </tr>\n",
       "  </thead>\n",
       "  <tbody>\n",
       "    <tr>\n",
       "      <th>0</th>\n",
       "      <td>1</td>\n",
       "      <td>11</td>\n",
       "      <td>10</td>\n",
       "      <td>NaN</td>\n",
       "      <td>20000000</td>\n",
       "      <td>2007-05-30</td>\n",
       "    </tr>\n",
       "    <tr>\n",
       "      <th>1</th>\n",
       "      <td>7</td>\n",
       "      <td>59</td>\n",
       "      <td>72</td>\n",
       "      <td>cash</td>\n",
       "      <td>60000000</td>\n",
       "      <td>2007-07-01</td>\n",
       "    </tr>\n",
       "    <tr>\n",
       "      <th>2</th>\n",
       "      <td>8</td>\n",
       "      <td>24</td>\n",
       "      <td>132</td>\n",
       "      <td>cash</td>\n",
       "      <td>280000000</td>\n",
       "      <td>2007-05-01</td>\n",
       "    </tr>\n",
       "    <tr>\n",
       "      <th>3</th>\n",
       "      <td>9</td>\n",
       "      <td>59</td>\n",
       "      <td>155</td>\n",
       "      <td>cash</td>\n",
       "      <td>100000000</td>\n",
       "      <td>2007-06-01</td>\n",
       "    </tr>\n",
       "    <tr>\n",
       "      <th>4</th>\n",
       "      <td>10</td>\n",
       "      <td>212</td>\n",
       "      <td>215</td>\n",
       "      <td>cash</td>\n",
       "      <td>25000000</td>\n",
       "      <td>2007-07-01</td>\n",
       "    </tr>\n",
       "  </tbody>\n",
       "</table>\n",
       "</div>"
      ],
      "text/plain": [
       "   id  acquiring_company_id  acquired_company_id term_code  price_amount  \\\n",
       "0   1                    11                   10       NaN      20000000   \n",
       "1   7                    59                   72      cash      60000000   \n",
       "2   8                    24                  132      cash     280000000   \n",
       "3   9                    59                  155      cash     100000000   \n",
       "4  10                   212                  215      cash      25000000   \n",
       "\n",
       "  acquired_at  \n",
       "0  2007-05-30  \n",
       "1  2007-07-01  \n",
       "2  2007-05-01  \n",
       "3  2007-06-01  \n",
       "4  2007-07-01  "
      ]
     },
     "execution_count": 5,
     "metadata": {},
     "output_type": "execute_result"
    }
   ],
   "source": [
    "df_buys = pd.read_csv('/datasets/acquisition.csv')\n",
    "df_buys.head()"
   ]
  },
  {
   "cell_type": "code",
   "execution_count": 6,
   "metadata": {
    "id": "oNqJ2qpRFebv"
   },
   "outputs": [
    {
     "name": "stdout",
     "output_type": "stream",
     "text": [
      "<class 'pandas.core.frame.DataFrame'>\n",
      "RangeIndex: 9407 entries, 0 to 9406\n",
      "Data columns (total 6 columns):\n",
      " #   Column                Non-Null Count  Dtype \n",
      "---  ------                --------------  ----- \n",
      " 0   id                    9407 non-null   int64 \n",
      " 1   acquiring_company_id  9407 non-null   int64 \n",
      " 2   acquired_company_id   9407 non-null   int64 \n",
      " 3   term_code             1831 non-null   object\n",
      " 4   price_amount          9407 non-null   int64 \n",
      " 5   acquired_at           9378 non-null   object\n",
      "dtypes: int64(4), object(2)\n",
      "memory usage: 441.1+ KB\n"
     ]
    }
   ],
   "source": [
    "df_buys.info()"
   ]
  },
  {
   "cell_type": "code",
   "execution_count": 7,
   "metadata": {
    "scrolled": true
   },
   "outputs": [
    {
     "name": "stdout",
     "output_type": "stream",
     "text": [
      "   company  ID      name category  code     status founded  at closed  at  \\\n",
      "0          1.0  Wetpaint            web  operating  2005-10-17        NaN   \n",
      "1          1.0  Wetpaint            web  operating  2005-10-17        NaN   \n",
      "2          1.0  Wetpaint            web  operating  2005-10-17        NaN   \n",
      "3         10.0   Flektor    games_video   acquired         NaN        NaN   \n",
      "4        100.0     There    games_video   acquired         NaN        NaN   \n",
      "\n",
      "             domain network  username country  code  investment  rounds  ...  \\\n",
      "0  wetpaint-inc.com   BachelrWetpaint           USA                 0.0  ...   \n",
      "1  wetpaint-inc.com   BachelrWetpaint           USA                 0.0  ...   \n",
      "2  wetpaint-inc.com   BachelrWetpaint           USA                 0.0  ...   \n",
      "3       flektor.com               NaN           USA                 0.0  ...   \n",
      "4         there.com               NaN           USA                 0.0  ...   \n",
      "\n",
      "   milestones  funding  round  id  company  id  funded  at  \\\n",
      "0         5.0               888.0          1.0  2005-10-01   \n",
      "1         5.0               889.0          1.0  2007-01-01   \n",
      "2         5.0              2312.0          1.0  2008-05-19   \n",
      "3         0.0                 NaN          NaN         NaN   \n",
      "4         4.0                 NaN          NaN         NaN   \n",
      "\n",
      "   funding  round  type raised  amount pre  money  valuation  participants  \\\n",
      "0              series-a      5250000.0                   0.0           2.0   \n",
      "1              series-b      9500000.0                   0.0           3.0   \n",
      "2             series-c+     25000000.0                   0.0           4.0   \n",
      "3                   NaN            NaN                   NaN           NaN   \n",
      "4                   NaN            NaN                   NaN           NaN   \n",
      "\n",
      "   is  first  round  is  last  round  \n",
      "0               0.0              1.0  \n",
      "1               0.0              0.0  \n",
      "2               1.0              0.0  \n",
      "3               NaN              NaN  \n",
      "4               NaN              NaN  \n",
      "\n",
      "[5 rows x 22 columns]\n"
     ]
    }
   ],
   "source": [
    "df_cnr = pd.read_csv('/datasets/company_and_rounds.csv')\n",
    "print(df_cnr.head())"
   ]
  },
  {
   "cell_type": "code",
   "execution_count": 8,
   "metadata": {
    "scrolled": true
   },
   "outputs": [
    {
     "name": "stdout",
     "output_type": "stream",
     "text": [
      "<class 'pandas.core.frame.DataFrame'>\n",
      "RangeIndex: 217774 entries, 0 to 217773\n",
      "Data columns (total 22 columns):\n",
      " #   Column                 Non-Null Count   Dtype  \n",
      "---  ------                 --------------   -----  \n",
      " 0   company  ID            217472 non-null  float64\n",
      " 1   name                   217472 non-null  object \n",
      " 2   category  code         143886 non-null  object \n",
      " 3   status                 217472 non-null  object \n",
      " 4   founded  at            109956 non-null  object \n",
      " 5   closed  at             3449 non-null    object \n",
      " 6   domain                 147159 non-null  object \n",
      " 7   network  username      95534 non-null   object \n",
      " 8   country  code          108607 non-null  object \n",
      " 9   investment  rounds     217472 non-null  float64\n",
      " 10  funding  rounds        217472 non-null  float64\n",
      " 11  funding  total         217472 non-null  float64\n",
      " 12  milestones             217472 non-null  float64\n",
      " 13  funding  round  id     52928 non-null   float64\n",
      " 14  company  id            52928 non-null   float64\n",
      " 15  funded  at             52680 non-null   object \n",
      " 16  funding  round  type   52928 non-null   object \n",
      " 17  raised  amount         52928 non-null   float64\n",
      " 18  pre  money  valuation  52928 non-null   float64\n",
      " 19  participants           52928 non-null   float64\n",
      " 20  is  first  round       52928 non-null   float64\n",
      " 21  is  last  round        52928 non-null   float64\n",
      "dtypes: float64(12), object(10)\n",
      "memory usage: 36.6+ MB\n"
     ]
    }
   ],
   "source": [
    "df_cnr.info()"
   ]
  },
  {
   "cell_type": "code",
   "execution_count": 9,
   "metadata": {},
   "outputs": [
    {
     "data": {
      "text/html": [
       "<div>\n",
       "<style scoped>\n",
       "    .dataframe tbody tr th:only-of-type {\n",
       "        vertical-align: middle;\n",
       "    }\n",
       "\n",
       "    .dataframe tbody tr th {\n",
       "        vertical-align: top;\n",
       "    }\n",
       "\n",
       "    .dataframe thead th {\n",
       "        text-align: right;\n",
       "    }\n",
       "</style>\n",
       "<table border=\"1\" class=\"dataframe\">\n",
       "  <thead>\n",
       "    <tr style=\"text-align: right;\">\n",
       "      <th></th>\n",
       "      <th>id</th>\n",
       "      <th>first_name</th>\n",
       "      <th>last_name</th>\n",
       "      <th>company_id</th>\n",
       "      <th>network_username</th>\n",
       "    </tr>\n",
       "  </thead>\n",
       "  <tbody>\n",
       "    <tr>\n",
       "      <th>0</th>\n",
       "      <td>10</td>\n",
       "      <td>Mark</td>\n",
       "      <td>Zuckerberg</td>\n",
       "      <td>5.0</td>\n",
       "      <td>NaN</td>\n",
       "    </tr>\n",
       "    <tr>\n",
       "      <th>1</th>\n",
       "      <td>100</td>\n",
       "      <td>Peter</td>\n",
       "      <td>Lester</td>\n",
       "      <td>27.0</td>\n",
       "      <td>NaN</td>\n",
       "    </tr>\n",
       "    <tr>\n",
       "      <th>2</th>\n",
       "      <td>1000</td>\n",
       "      <td>Dr. Steven</td>\n",
       "      <td>E. Saunders</td>\n",
       "      <td>292.0</td>\n",
       "      <td>NaN</td>\n",
       "    </tr>\n",
       "    <tr>\n",
       "      <th>3</th>\n",
       "      <td>10000</td>\n",
       "      <td>Neil</td>\n",
       "      <td>Capel</td>\n",
       "      <td>2526.0</td>\n",
       "      <td>NaN</td>\n",
       "    </tr>\n",
       "    <tr>\n",
       "      <th>4</th>\n",
       "      <td>100000</td>\n",
       "      <td>Sue</td>\n",
       "      <td>Pilsch</td>\n",
       "      <td>NaN</td>\n",
       "      <td>NaN</td>\n",
       "    </tr>\n",
       "  </tbody>\n",
       "</table>\n",
       "</div>"
      ],
      "text/plain": [
       "       id  first_name    last_name  company_id network_username\n",
       "0      10        Mark   Zuckerberg         5.0              NaN\n",
       "1     100       Peter       Lester        27.0              NaN\n",
       "2    1000  Dr. Steven  E. Saunders       292.0              NaN\n",
       "3   10000        Neil        Capel      2526.0              NaN\n",
       "4  100000         Sue       Pilsch         NaN              NaN"
      ]
     },
     "execution_count": 9,
     "metadata": {},
     "output_type": "execute_result"
    }
   ],
   "source": [
    "df_ppl = pd.read_csv('/datasets/people.csv')\n",
    "df_ppl.head()"
   ]
  },
  {
   "cell_type": "code",
   "execution_count": 10,
   "metadata": {},
   "outputs": [
    {
     "name": "stdout",
     "output_type": "stream",
     "text": [
      "<class 'pandas.core.frame.DataFrame'>\n",
      "RangeIndex: 226709 entries, 0 to 226708\n",
      "Data columns (total 5 columns):\n",
      " #   Column            Non-Null Count   Dtype  \n",
      "---  ------            --------------   -----  \n",
      " 0   id                226709 non-null  int64  \n",
      " 1   first_name        226704 non-null  object \n",
      " 2   last_name         226708 non-null  object \n",
      " 3   company_id        34615 non-null   float64\n",
      " 4   network_username  38867 non-null   object \n",
      "dtypes: float64(1), int64(1), object(3)\n",
      "memory usage: 8.6+ MB\n"
     ]
    }
   ],
   "source": [
    "df_ppl.info()"
   ]
  },
  {
   "cell_type": "code",
   "execution_count": 11,
   "metadata": {
    "scrolled": true
   },
   "outputs": [
    {
     "data": {
      "text/html": [
       "<div>\n",
       "<style scoped>\n",
       "    .dataframe tbody tr th:only-of-type {\n",
       "        vertical-align: middle;\n",
       "    }\n",
       "\n",
       "    .dataframe tbody tr th {\n",
       "        vertical-align: top;\n",
       "    }\n",
       "\n",
       "    .dataframe thead th {\n",
       "        text-align: right;\n",
       "    }\n",
       "</style>\n",
       "<table border=\"1\" class=\"dataframe\">\n",
       "  <thead>\n",
       "    <tr style=\"text-align: right;\">\n",
       "      <th></th>\n",
       "      <th>id</th>\n",
       "      <th>person_id</th>\n",
       "      <th>instituition</th>\n",
       "      <th>graduated_at</th>\n",
       "    </tr>\n",
       "  </thead>\n",
       "  <tbody>\n",
       "    <tr>\n",
       "      <th>0</th>\n",
       "      <td>1</td>\n",
       "      <td>6117</td>\n",
       "      <td>NaN</td>\n",
       "      <td>NaN</td>\n",
       "    </tr>\n",
       "    <tr>\n",
       "      <th>1</th>\n",
       "      <td>2</td>\n",
       "      <td>6136</td>\n",
       "      <td>Washington University, St. Louis</td>\n",
       "      <td>1990-01-01</td>\n",
       "    </tr>\n",
       "    <tr>\n",
       "      <th>2</th>\n",
       "      <td>3</td>\n",
       "      <td>6136</td>\n",
       "      <td>Boston University</td>\n",
       "      <td>1992-01-01</td>\n",
       "    </tr>\n",
       "    <tr>\n",
       "      <th>3</th>\n",
       "      <td>4</td>\n",
       "      <td>6005</td>\n",
       "      <td>University of Greenwich</td>\n",
       "      <td>2006-01-01</td>\n",
       "    </tr>\n",
       "    <tr>\n",
       "      <th>4</th>\n",
       "      <td>5</td>\n",
       "      <td>5832</td>\n",
       "      <td>Rice University</td>\n",
       "      <td>NaN</td>\n",
       "    </tr>\n",
       "  </tbody>\n",
       "</table>\n",
       "</div>"
      ],
      "text/plain": [
       "   id  person_id                      instituition graduated_at\n",
       "0   1       6117                               NaN          NaN\n",
       "1   2       6136  Washington University, St. Louis   1990-01-01\n",
       "2   3       6136                 Boston University   1992-01-01\n",
       "3   4       6005           University of Greenwich   2006-01-01\n",
       "4   5       5832                   Rice University          NaN"
      ]
     },
     "execution_count": 11,
     "metadata": {},
     "output_type": "execute_result"
    }
   ],
   "source": [
    "df_educ = pd.read_csv('/datasets/education.csv')\n",
    "df_educ.head()"
   ]
  },
  {
   "cell_type": "code",
   "execution_count": 12,
   "metadata": {
    "scrolled": true
   },
   "outputs": [
    {
     "name": "stdout",
     "output_type": "stream",
     "text": [
      "<class 'pandas.core.frame.DataFrame'>\n",
      "RangeIndex: 109610 entries, 0 to 109609\n",
      "Data columns (total 4 columns):\n",
      " #   Column        Non-Null Count   Dtype \n",
      "---  ------        --------------   ----- \n",
      " 0   id            109610 non-null  int64 \n",
      " 1   person_id     109610 non-null  int64 \n",
      " 2   instituition  109555 non-null  object\n",
      " 3   graduated_at  58054 non-null   object\n",
      "dtypes: int64(2), object(2)\n",
      "memory usage: 3.3+ MB\n"
     ]
    }
   ],
   "source": [
    "df_educ.info()"
   ]
  },
  {
   "cell_type": "code",
   "execution_count": 13,
   "metadata": {},
   "outputs": [
    {
     "data": {
      "text/html": [
       "<div>\n",
       "<style scoped>\n",
       "    .dataframe tbody tr th:only-of-type {\n",
       "        vertical-align: middle;\n",
       "    }\n",
       "\n",
       "    .dataframe tbody tr th {\n",
       "        vertical-align: top;\n",
       "    }\n",
       "\n",
       "    .dataframe thead th {\n",
       "        text-align: right;\n",
       "    }\n",
       "</style>\n",
       "<table border=\"1\" class=\"dataframe\">\n",
       "  <thead>\n",
       "    <tr style=\"text-align: right;\">\n",
       "      <th></th>\n",
       "      <th>id</th>\n",
       "      <th>object_id</th>\n",
       "      <th>degree_type</th>\n",
       "      <th>subject</th>\n",
       "    </tr>\n",
       "  </thead>\n",
       "  <tbody>\n",
       "    <tr>\n",
       "      <th>0</th>\n",
       "      <td>1</td>\n",
       "      <td>p:6117</td>\n",
       "      <td>MBA</td>\n",
       "      <td>NaN</td>\n",
       "    </tr>\n",
       "    <tr>\n",
       "      <th>1</th>\n",
       "      <td>2</td>\n",
       "      <td>p:6136</td>\n",
       "      <td>BA</td>\n",
       "      <td>English, French</td>\n",
       "    </tr>\n",
       "    <tr>\n",
       "      <th>2</th>\n",
       "      <td>3</td>\n",
       "      <td>p:6136</td>\n",
       "      <td>MS</td>\n",
       "      <td>Mass Communication</td>\n",
       "    </tr>\n",
       "    <tr>\n",
       "      <th>3</th>\n",
       "      <td>4</td>\n",
       "      <td>p:6005</td>\n",
       "      <td>MS</td>\n",
       "      <td>Internet Technology</td>\n",
       "    </tr>\n",
       "    <tr>\n",
       "      <th>4</th>\n",
       "      <td>5</td>\n",
       "      <td>p:5832</td>\n",
       "      <td>BCS</td>\n",
       "      <td>Computer Science, Psychology</td>\n",
       "    </tr>\n",
       "  </tbody>\n",
       "</table>\n",
       "</div>"
      ],
      "text/plain": [
       "   id object_id degree_type                       subject\n",
       "0   1    p:6117         MBA                           NaN\n",
       "1   2    p:6136          BA               English, French\n",
       "2   3    p:6136          MS            Mass Communication\n",
       "3   4    p:6005          MS           Internet Technology\n",
       "4   5    p:5832         BCS  Computer Science, Psychology"
      ]
     },
     "execution_count": 13,
     "metadata": {},
     "output_type": "execute_result"
    }
   ],
   "source": [
    "df_dgrs = pd.read_csv('/datasets/degrees.csv')\n",
    "df_dgrs.head()"
   ]
  },
  {
   "cell_type": "code",
   "execution_count": 14,
   "metadata": {},
   "outputs": [
    {
     "name": "stdout",
     "output_type": "stream",
     "text": [
      "<class 'pandas.core.frame.DataFrame'>\n",
      "RangeIndex: 109610 entries, 0 to 109609\n",
      "Data columns (total 4 columns):\n",
      " #   Column       Non-Null Count   Dtype \n",
      "---  ------       --------------   ----- \n",
      " 0   id           109610 non-null  int64 \n",
      " 1   object_id    109610 non-null  object\n",
      " 2   degree_type  98392 non-null   object\n",
      " 3   subject      81298 non-null   object\n",
      "dtypes: int64(1), object(3)\n",
      "memory usage: 3.3+ MB\n"
     ]
    }
   ],
   "source": [
    "df_dgrs.info()"
   ]
  },
  {
   "cell_type": "markdown",
   "metadata": {},
   "source": [
    "Кроме таблицы `df_cnr`, все названия столбцов приведены к snake_case. Исправим искомую таблиицу."
   ]
  },
  {
   "cell_type": "code",
   "execution_count": 15,
   "metadata": {
    "scrolled": true
   },
   "outputs": [
    {
     "data": {
      "text/plain": [
       "Index(['company_ID', 'name', 'category_code', 'status', 'founded_at',\n",
       "       'closed_at', 'domain', 'network_username', 'country_code',\n",
       "       'investment_rounds', 'funding_rounds', 'funding_total', 'milestones',\n",
       "       'funding_round_id', 'company_id', 'funded_at', 'funding_round_type',\n",
       "       'raised_amount', 'pre_money_valuation', 'participants',\n",
       "       'is_first_round', 'is_last_round'],\n",
       "      dtype='object')"
      ]
     },
     "execution_count": 15,
     "metadata": {},
     "output_type": "execute_result"
    }
   ],
   "source": [
    "new_columns = []\n",
    "for column in df_cnr.columns:\n",
    "    new_columns.append(column.replace('  ', '_'))\n",
    "df_cnr.columns = new_columns\n",
    "df_cnr.columns"
   ]
  },
  {
   "cell_type": "markdown",
   "metadata": {},
   "source": [
    "Присутствует также столбец **company_ID** в таблице `df_cnr`, однако у него уже есть дубликат **company_id**, поэтому пока оставим без изменений."
   ]
  },
  {
   "cell_type": "markdown",
   "metadata": {
    "id": "mg2gEwh0rJg0"
   },
   "source": [
    "### Смена типов и анализ пропусков"
   ]
  },
  {
   "cell_type": "markdown",
   "metadata": {
    "id": "FsL0A8RBrJg1",
    "vscode": {
     "languageId": "plaintext"
    }
   },
   "source": [
    "Столбцы с датой встречаются в трех датафреймах, приведем их к нужному формату."
   ]
  },
  {
   "cell_type": "code",
   "execution_count": 16,
   "metadata": {
    "id": "46VskrGyFeJ-"
   },
   "outputs": [],
   "source": [
    "df_buys['acquired_at'] = pd.to_datetime(df_buys['acquired_at'])"
   ]
  },
  {
   "cell_type": "code",
   "execution_count": 17,
   "metadata": {
    "id": "DEg1tl8DFeBn"
   },
   "outputs": [],
   "source": [
    "for column in ['founded_at', 'closed_at', 'funded_at']:\n",
    "    df_cnr[column] = pd.to_datetime(df_cnr[column])"
   ]
  },
  {
   "cell_type": "code",
   "execution_count": 18,
   "metadata": {},
   "outputs": [],
   "source": [
    "df_educ['graduated_at'] = pd.to_datetime(df_buys['acquired_at'])"
   ]
  },
  {
   "cell_type": "markdown",
   "metadata": {},
   "source": [
    "Оценим пропуски"
   ]
  },
  {
   "cell_type": "code",
   "execution_count": 19,
   "metadata": {
    "scrolled": true
   },
   "outputs": [
    {
     "data": {
      "text/plain": [
       "id                      0.000000\n",
       "acquiring_company_id    0.000000\n",
       "acquired_company_id     0.000000\n",
       "term_code               0.805358\n",
       "price_amount            0.000000\n",
       "acquired_at             0.003083\n",
       "dtype: float64"
      ]
     },
     "execution_count": 19,
     "metadata": {},
     "output_type": "execute_result"
    }
   ],
   "source": [
    "df_buys.isna().mean()"
   ]
  },
  {
   "cell_type": "code",
   "execution_count": 20,
   "metadata": {},
   "outputs": [
    {
     "data": {
      "text/plain": [
       "company_ID             0.001387\n",
       "name                   0.001387\n",
       "category_code          0.339288\n",
       "status                 0.001387\n",
       "founded_at             0.495091\n",
       "closed_at              0.984162\n",
       "domain                 0.324258\n",
       "network_username       0.561316\n",
       "country_code           0.501286\n",
       "investment_rounds      0.001387\n",
       "funding_rounds         0.001387\n",
       "funding_total          0.001387\n",
       "milestones             0.001387\n",
       "funding_round_id       0.756959\n",
       "company_id             0.756959\n",
       "funded_at              0.758098\n",
       "funding_round_type     0.756959\n",
       "raised_amount          0.756959\n",
       "pre_money_valuation    0.756959\n",
       "participants           0.756959\n",
       "is_first_round         0.756959\n",
       "is_last_round          0.756959\n",
       "dtype: float64"
      ]
     },
     "execution_count": 20,
     "metadata": {},
     "output_type": "execute_result"
    }
   ],
   "source": [
    "df_cnr.isna().mean()"
   ]
  },
  {
   "cell_type": "code",
   "execution_count": 21,
   "metadata": {},
   "outputs": [
    {
     "data": {
      "text/plain": [
       "id                  0.000000\n",
       "first_name          0.000022\n",
       "last_name           0.000004\n",
       "company_id          0.847315\n",
       "network_username    0.828560\n",
       "dtype: float64"
      ]
     },
     "execution_count": 21,
     "metadata": {},
     "output_type": "execute_result"
    }
   ],
   "source": [
    "df_ppl.isna().mean()"
   ]
  },
  {
   "cell_type": "code",
   "execution_count": 22,
   "metadata": {},
   "outputs": [
    {
     "data": {
      "text/plain": [
       "id             0.000000\n",
       "object_id      0.000000\n",
       "degree_type    0.102345\n",
       "subject        0.258298\n",
       "dtype: float64"
      ]
     },
     "execution_count": 22,
     "metadata": {},
     "output_type": "execute_result"
    }
   ],
   "source": [
    "df_dgrs.isna().mean()"
   ]
  },
  {
   "cell_type": "code",
   "execution_count": 23,
   "metadata": {},
   "outputs": [
    {
     "data": {
      "text/plain": [
       "id              0.000000\n",
       "person_id       0.000000\n",
       "instituition    0.000502\n",
       "graduated_at    0.914442\n",
       "dtype: float64"
      ]
     },
     "execution_count": 23,
     "metadata": {},
     "output_type": "execute_result"
    }
   ],
   "source": [
    "df_educ.isna().mean()"
   ]
  },
  {
   "cell_type": "markdown",
   "metadata": {},
   "source": [
    "Как и было заявлено, данные являются неполными.\n",
    "1. Таблица `df_buys` содержит данные о **9407** покупках. Среди них **0.3%** имеют пропуски в датах транзакций и **80%** в формате оплаты. Кол-во пропусков в датах незначительно, при необходимости их можно удалить.\n",
    "2. Таблица `df_cnr` содержит **217773** записи. Пропуски содержатся во всех столбцах, исследуем дополнительно в пункте **3.4**.\n",
    "3. Таблица `df_ppl` содержит данные о **226709** сотрудниках. Менее **0.1%** пропусков содержат имя и фамилия (для анализа эти столбцы вряд ли полезны), более **80%** - company_id и network_username.\n",
    "4. Таблицы `df_dgrs` и `df_educ` содержит данные о **109609** сотрудниках. Существенные пропуски в degree_type (**10%**), subject (**26%**), graduated_at (**47%**). Название института содержит менее **0.05%**, чем также можно пренебречь.\n",
    "- Общий вывод - среди пропусков нет тех, которые стоит заменить и нет тех, которые стоит удалить."
   ]
  },
  {
   "cell_type": "markdown",
   "metadata": {},
   "source": [
    "Оптимизируем типы данных в таблицах.\n",
    "- таблица `df_buys` содержит 4 столбца в формате **int64** и 2 в **object**: эти типы данных верные, однако их можно оптимизировать\n",
    "- таблица `df_cnr` содержит 3 столбца **datetime64**, 13 столбцов **float64** и 7 **object**. Все численные столбцы целочисленные, однако оптимизировать их мешают пропуски.\n",
    "- в таблицах `df_ppl`, `df_dgrs`, `df_educ` могут быть оптимизирваны только столбцы с **id**"
   ]
  },
  {
   "cell_type": "code",
   "execution_count": 24,
   "metadata": {
    "scrolled": true
   },
   "outputs": [
    {
     "name": "stdout",
     "output_type": "stream",
     "text": [
      "<class 'pandas.core.frame.DataFrame'>\n",
      "RangeIndex: 9407 entries, 0 to 9406\n",
      "Data columns (total 6 columns):\n",
      " #   Column                Non-Null Count  Dtype         \n",
      "---  ------                --------------  -----         \n",
      " 0   id                    9407 non-null   int16         \n",
      " 1   acquiring_company_id  9407 non-null   int32         \n",
      " 2   acquired_company_id   9407 non-null   int32         \n",
      " 3   term_code             1831 non-null   object        \n",
      " 4   price_amount          9407 non-null   int64         \n",
      " 5   acquired_at           9378 non-null   datetime64[ns]\n",
      "dtypes: datetime64[ns](1), int16(1), int32(2), int64(1), object(1)\n",
      "memory usage: 312.5+ KB\n"
     ]
    }
   ],
   "source": [
    "for column in ['id', 'acquiring_company_id', 'acquired_company_id', 'price_amount']:\n",
    "    df_buys[column] = pd.to_numeric(df_buys[column], downcast='integer')\n",
    "df_buys.info()"
   ]
  },
  {
   "cell_type": "code",
   "execution_count": 25,
   "metadata": {},
   "outputs": [],
   "source": [
    "df_ppl['id'] = pd.to_numeric(df_ppl['id'], downcast='integer')\n",
    "df_dgrs['id'] = pd.to_numeric(df_dgrs['id'], downcast='integer')\n"
   ]
  },
  {
   "cell_type": "markdown",
   "metadata": {
    "id": "u60cHsn6rJg1"
   },
   "source": [
    "## Предобработка данных, предварительное исследование"
   ]
  },
  {
   "cell_type": "markdown",
   "metadata": {
    "id": "g2bHIIjcrJg1"
   },
   "source": [
    "\n",
    "### Раунды финансирования по годам"
   ]
  },
  {
   "cell_type": "code",
   "execution_count": 26,
   "metadata": {
    "id": "Cf5IjfOQrJg1",
    "vscode": {
     "languageId": "plaintext"
    }
   },
   "outputs": [
    {
     "data": {
      "text/html": [
       "<div>\n",
       "<style scoped>\n",
       "    .dataframe tbody tr th:only-of-type {\n",
       "        vertical-align: middle;\n",
       "    }\n",
       "\n",
       "    .dataframe tbody tr th {\n",
       "        vertical-align: top;\n",
       "    }\n",
       "\n",
       "    .dataframe thead tr th {\n",
       "        text-align: left;\n",
       "    }\n",
       "\n",
       "    .dataframe thead tr:last-of-type th {\n",
       "        text-align: right;\n",
       "    }\n",
       "</style>\n",
       "<table border=\"1\" class=\"dataframe\">\n",
       "  <thead>\n",
       "    <tr>\n",
       "      <th></th>\n",
       "      <th>count</th>\n",
       "      <th>median</th>\n",
       "    </tr>\n",
       "    <tr>\n",
       "      <th></th>\n",
       "      <th>raised_amount</th>\n",
       "      <th>raised_amount</th>\n",
       "    </tr>\n",
       "    <tr>\n",
       "      <th>funded_at_y</th>\n",
       "      <th></th>\n",
       "      <th></th>\n",
       "    </tr>\n",
       "  </thead>\n",
       "  <tbody>\n",
       "    <tr>\n",
       "      <th>1999.0</th>\n",
       "      <td>76</td>\n",
       "      <td>2000000.0</td>\n",
       "    </tr>\n",
       "    <tr>\n",
       "      <th>2000.0</th>\n",
       "      <td>125</td>\n",
       "      <td>4200000.0</td>\n",
       "    </tr>\n",
       "    <tr>\n",
       "      <th>2001.0</th>\n",
       "      <td>96</td>\n",
       "      <td>3000000.0</td>\n",
       "    </tr>\n",
       "    <tr>\n",
       "      <th>2002.0</th>\n",
       "      <td>116</td>\n",
       "      <td>4200000.0</td>\n",
       "    </tr>\n",
       "    <tr>\n",
       "      <th>2003.0</th>\n",
       "      <td>159</td>\n",
       "      <td>3000000.0</td>\n",
       "    </tr>\n",
       "    <tr>\n",
       "      <th>2004.0</th>\n",
       "      <td>291</td>\n",
       "      <td>5000000.0</td>\n",
       "    </tr>\n",
       "    <tr>\n",
       "      <th>2005.0</th>\n",
       "      <td>1633</td>\n",
       "      <td>5500000.0</td>\n",
       "    </tr>\n",
       "    <tr>\n",
       "      <th>2006.0</th>\n",
       "      <td>2436</td>\n",
       "      <td>5000000.0</td>\n",
       "    </tr>\n",
       "    <tr>\n",
       "      <th>2007.0</th>\n",
       "      <td>3279</td>\n",
       "      <td>3973320.0</td>\n",
       "    </tr>\n",
       "    <tr>\n",
       "      <th>2008.0</th>\n",
       "      <td>3774</td>\n",
       "      <td>3110000.0</td>\n",
       "    </tr>\n",
       "    <tr>\n",
       "      <th>2009.0</th>\n",
       "      <td>4151</td>\n",
       "      <td>2000000.0</td>\n",
       "    </tr>\n",
       "    <tr>\n",
       "      <th>2010.0</th>\n",
       "      <td>6221</td>\n",
       "      <td>1602500.0</td>\n",
       "    </tr>\n",
       "    <tr>\n",
       "      <th>2011.0</th>\n",
       "      <td>9204</td>\n",
       "      <td>1200000.0</td>\n",
       "    </tr>\n",
       "    <tr>\n",
       "      <th>2012.0</th>\n",
       "      <td>9970</td>\n",
       "      <td>1000000.0</td>\n",
       "    </tr>\n",
       "    <tr>\n",
       "      <th>2013.0</th>\n",
       "      <td>11072</td>\n",
       "      <td>1200000.0</td>\n",
       "    </tr>\n",
       "  </tbody>\n",
       "</table>\n",
       "</div>"
      ],
      "text/plain": [
       "                    count        median\n",
       "            raised_amount raised_amount\n",
       "funded_at_y                            \n",
       "1999.0                 76     2000000.0\n",
       "2000.0                125     4200000.0\n",
       "2001.0                 96     3000000.0\n",
       "2002.0                116     4200000.0\n",
       "2003.0                159     3000000.0\n",
       "2004.0                291     5000000.0\n",
       "2005.0               1633     5500000.0\n",
       "2006.0               2436     5000000.0\n",
       "2007.0               3279     3973320.0\n",
       "2008.0               3774     3110000.0\n",
       "2009.0               4151     2000000.0\n",
       "2010.0               6221     1602500.0\n",
       "2011.0               9204     1200000.0\n",
       "2012.0               9970     1000000.0\n",
       "2013.0              11072     1200000.0"
      ]
     },
     "execution_count": 26,
     "metadata": {},
     "output_type": "execute_result"
    }
   ],
   "source": [
    "df_cnr['funded_at_y'] = df_cnr['funded_at'].dt.year\n",
    "df_cnr_yr = df_cnr.pivot_table(index = 'funded_at_y', values='raised_amount', aggfunc=['count', 'median'])\n",
    "df_cnr_yr = df_cnr_yr[df_cnr_yr['count']['raised_amount'] > 50]\n",
    "df_cnr_yr"
   ]
  },
  {
   "cell_type": "code",
   "execution_count": 27,
   "metadata": {
    "id": "8Fbz6KmzFdYP"
   },
   "outputs": [
    {
     "data": {
      "image/png": "[encoded data removed]",
      "text/plain": [
       "<Figure size 1152x576 with 1 Axes>"
      ]
     },
     "metadata": {
      "needs_background": "light"
     },
     "output_type": "display_data"
    }
   ],
   "source": [
    "df_cnr_yr['median']['raised_amount'].plot(kind='line', figsize=(16,8))\n",
    "plt.xlabel('Год')\n",
    "plt.ylabel('Средства (млн.)')\n",
    "plt.title('Типичные средства за раунд')\n",
    "plt.xticks(range(1999, 2014, 1))\n",
    "plt.show()"
   ]
  },
  {
   "cell_type": "markdown",
   "metadata": {
    "id": "Z92DzKMMFdKW"
   },
   "source": [
    "Количество раундов со временем строго растет. Размер средств колеблется с **1999** г. по **2003**, затем растет, достигая пика в **2005** и идет на спад. Однако, хотя о тенденции говорить рано, в **2013** наблюдался небольшой рост."
   ]
  },
  {
   "cell_type": "markdown",
   "metadata": {},
   "source": [
    "При этом количество раундов со временем строго возрастает."
   ]
  },
  {
   "cell_type": "markdown",
   "metadata": {
    "id": "45if1en1rJg2"
   },
   "source": [
    "\n",
    "### Люди и их образование"
   ]
  },
  {
   "cell_type": "code",
   "execution_count": 28,
   "metadata": {
    "id": "psPO7C4MrJg2",
    "scrolled": true,
    "vscode": {
     "languageId": "plaintext"
    }
   },
   "outputs": [
    {
     "data": {
      "text/html": [
       "<div>\n",
       "<style scoped>\n",
       "    .dataframe tbody tr th:only-of-type {\n",
       "        vertical-align: middle;\n",
       "    }\n",
       "\n",
       "    .dataframe tbody tr th {\n",
       "        vertical-align: top;\n",
       "    }\n",
       "\n",
       "    .dataframe thead th {\n",
       "        text-align: right;\n",
       "    }\n",
       "</style>\n",
       "<table border=\"1\" class=\"dataframe\">\n",
       "  <thead>\n",
       "    <tr style=\"text-align: right;\">\n",
       "      <th></th>\n",
       "      <th>id_x</th>\n",
       "      <th>is_educ</th>\n",
       "    </tr>\n",
       "    <tr>\n",
       "      <th>company_id</th>\n",
       "      <th></th>\n",
       "      <th></th>\n",
       "    </tr>\n",
       "  </thead>\n",
       "  <tbody>\n",
       "    <tr>\n",
       "      <th>1.0</th>\n",
       "      <td>3</td>\n",
       "      <td>0.333333</td>\n",
       "    </tr>\n",
       "    <tr>\n",
       "      <th>2.0</th>\n",
       "      <td>1</td>\n",
       "      <td>0.000000</td>\n",
       "    </tr>\n",
       "    <tr>\n",
       "      <th>3.0</th>\n",
       "      <td>5</td>\n",
       "      <td>0.200000</td>\n",
       "    </tr>\n",
       "    <tr>\n",
       "      <th>4.0</th>\n",
       "      <td>18</td>\n",
       "      <td>0.055556</td>\n",
       "    </tr>\n",
       "    <tr>\n",
       "      <th>5.0</th>\n",
       "      <td>84</td>\n",
       "      <td>0.190476</td>\n",
       "    </tr>\n",
       "  </tbody>\n",
       "</table>\n",
       "</div>"
      ],
      "text/plain": [
       "            id_x   is_educ\n",
       "company_id                \n",
       "1.0            3  0.333333\n",
       "2.0            1  0.000000\n",
       "3.0            5  0.200000\n",
       "4.0           18  0.055556\n",
       "5.0           84  0.190476"
      ]
     },
     "execution_count": 28,
     "metadata": {},
     "output_type": "execute_result"
    }
   ],
   "source": [
    "df_ppl_educ = df_ppl.merge(df_educ, how='left', left_on='id', right_on='person_id')\n",
    "df_ppl_educ['is_educ'] = df_ppl_educ['instituition'].isna()\n",
    "df_com_ep = df_ppl_educ.groupby('company_id').agg({'id_x':'count','is_educ':'mean'})\n",
    "df_com_ep.head()"
   ]
  },
  {
   "cell_type": "code",
   "execution_count": 29,
   "metadata": {
    "id": "BThTjpLqFcsm"
   },
   "outputs": [
    {
     "data": {
      "text/plain": [
       "count    22922.000000\n",
       "mean         1.953974\n",
       "std          4.087373\n",
       "min          1.000000\n",
       "25%          1.000000\n",
       "50%          1.000000\n",
       "75%          2.000000\n",
       "max        376.000000\n",
       "Name: id_x, dtype: float64"
      ]
     },
     "execution_count": 29,
     "metadata": {},
     "output_type": "execute_result"
    }
   ],
   "source": [
    "df_com_ep['id_x'].describe()"
   ]
  },
  {
   "cell_type": "markdown",
   "metadata": {
    "id": "4FC98Pd-FcmG"
   },
   "source": [
    "Так как в основном каждая компания представлена лишь одним сотрудником, будем считать большиими компаниями те, где сотрудников больше."
   ]
  },
  {
   "cell_type": "code",
   "execution_count": 30,
   "metadata": {},
   "outputs": [
    {
     "data": {
      "text/plain": [
       "is_big\n",
       "False    0.592862\n",
       "True     0.242852\n",
       "Name: is_educ, dtype: float64"
      ]
     },
     "execution_count": 30,
     "metadata": {},
     "output_type": "execute_result"
    }
   ],
   "source": [
    "df_com_ep['is_big'] = df_com_ep['id_x'] > 1\n",
    "df_com_ep.groupby('is_big')['is_educ'].mean()"
   ]
  },
  {
   "cell_type": "markdown",
   "metadata": {},
   "source": [
    "В небольших компаниях средняя доля струдников с информацией об образовании - **59%**, в больших - **24%**. Можно удтверждать, что количество искомой информации зависит от размера компании."
   ]
  },
  {
   "cell_type": "code",
   "execution_count": 31,
   "metadata": {},
   "outputs": [
    {
     "data": {
      "text/plain": [
       "True"
      ]
     },
     "execution_count": 31,
     "metadata": {},
     "output_type": "execute_result"
    }
   ],
   "source": [
    "educ_ids = set(df_educ['person_id'])\n",
    "df_dgrs['object_id'] = df_dgrs['object_id'].str.replace('p:','').astype('float64') #приведем столбец к единому формату\n",
    "dgrs_ids = set(df_dgrs['object_id'])\n",
    "dgrs_ids == educ_ids"
   ]
  },
  {
   "cell_type": "markdown",
   "metadata": {},
   "source": [
    "Так как `df_dgrs` содержит информацию об образовании тех же сотрудников, добавление этой таблицы не повлияет на результат."
   ]
  },
  {
   "cell_type": "code",
   "execution_count": 32,
   "metadata": {},
   "outputs": [
    {
     "data": {
      "text/html": [
       "<div>\n",
       "<style scoped>\n",
       "    .dataframe tbody tr th:only-of-type {\n",
       "        vertical-align: middle;\n",
       "    }\n",
       "\n",
       "    .dataframe tbody tr th {\n",
       "        vertical-align: top;\n",
       "    }\n",
       "\n",
       "    .dataframe thead th {\n",
       "        text-align: right;\n",
       "    }\n",
       "</style>\n",
       "<table border=\"1\" class=\"dataframe\">\n",
       "  <thead>\n",
       "    <tr style=\"text-align: right;\">\n",
       "      <th></th>\n",
       "      <th>id_x</th>\n",
       "      <th>person_id</th>\n",
       "      <th>instituition</th>\n",
       "      <th>graduated_at</th>\n",
       "      <th>id_y</th>\n",
       "      <th>object_id</th>\n",
       "      <th>degree_type</th>\n",
       "      <th>subject</th>\n",
       "    </tr>\n",
       "  </thead>\n",
       "  <tbody>\n",
       "    <tr>\n",
       "      <th>0</th>\n",
       "      <td>1</td>\n",
       "      <td>6117</td>\n",
       "      <td>NaN</td>\n",
       "      <td>2007-05-30</td>\n",
       "      <td>1</td>\n",
       "      <td>6117.0</td>\n",
       "      <td>MBA</td>\n",
       "      <td>NaN</td>\n",
       "    </tr>\n",
       "    <tr>\n",
       "      <th>1</th>\n",
       "      <td>2</td>\n",
       "      <td>6136</td>\n",
       "      <td>Washington University, St. Louis</td>\n",
       "      <td>2007-07-01</td>\n",
       "      <td>2</td>\n",
       "      <td>6136.0</td>\n",
       "      <td>BA</td>\n",
       "      <td>English, French</td>\n",
       "    </tr>\n",
       "    <tr>\n",
       "      <th>2</th>\n",
       "      <td>2</td>\n",
       "      <td>6136</td>\n",
       "      <td>Washington University, St. Louis</td>\n",
       "      <td>2007-07-01</td>\n",
       "      <td>3</td>\n",
       "      <td>6136.0</td>\n",
       "      <td>MS</td>\n",
       "      <td>Mass Communication</td>\n",
       "    </tr>\n",
       "    <tr>\n",
       "      <th>3</th>\n",
       "      <td>3</td>\n",
       "      <td>6136</td>\n",
       "      <td>Boston University</td>\n",
       "      <td>2007-05-01</td>\n",
       "      <td>2</td>\n",
       "      <td>6136.0</td>\n",
       "      <td>BA</td>\n",
       "      <td>English, French</td>\n",
       "    </tr>\n",
       "    <tr>\n",
       "      <th>4</th>\n",
       "      <td>3</td>\n",
       "      <td>6136</td>\n",
       "      <td>Boston University</td>\n",
       "      <td>2007-05-01</td>\n",
       "      <td>3</td>\n",
       "      <td>6136.0</td>\n",
       "      <td>MS</td>\n",
       "      <td>Mass Communication</td>\n",
       "    </tr>\n",
       "  </tbody>\n",
       "</table>\n",
       "</div>"
      ],
      "text/plain": [
       "   id_x  person_id                      instituition graduated_at  id_y  \\\n",
       "0     1       6117                               NaN   2007-05-30     1   \n",
       "1     2       6136  Washington University, St. Louis   2007-07-01     2   \n",
       "2     2       6136  Washington University, St. Louis   2007-07-01     3   \n",
       "3     3       6136                 Boston University   2007-05-01     2   \n",
       "4     3       6136                 Boston University   2007-05-01     3   \n",
       "\n",
       "   object_id degree_type             subject  \n",
       "0     6117.0         MBA                 NaN  \n",
       "1     6136.0          BA     English, French  \n",
       "2     6136.0          MS  Mass Communication  \n",
       "3     6136.0          BA     English, French  \n",
       "4     6136.0          MS  Mass Communication  "
      ]
     },
     "execution_count": 32,
     "metadata": {},
     "output_type": "execute_result"
    }
   ],
   "source": [
    "df_educ_dgrs = df_educ.merge(df_dgrs, left_on='person_id', right_on='object_id')\n",
    "df_educ_dgrs.head()"
   ]
  },
  {
   "cell_type": "markdown",
   "metadata": {
    "id": "Lz7qjM32xglW"
   },
   "source": [
    "### Объединять или не объединять — вот в чём вопрос"
   ]
  },
  {
   "cell_type": "markdown",
   "metadata": {
    "id": "zyI3rt0rxg1O"
   },
   "source": [
    "Столбец network_username встречается в таблицах `df_cnr` и `df_ppl`. Имеющиеся данные говорят о том, что в первом случае речь о нике компании, а во втором - человека. Проверим:"
   ]
  },
  {
   "cell_type": "code",
   "execution_count": 33,
   "metadata": {
    "id": "RxOS5rwmFcNW"
   },
   "outputs": [
    {
     "name": "stdout",
     "output_type": "stream",
     "text": [
      "Кол-во совпадений: 2200\n",
      "Общее кол-во: 115794, ppl_uns:38422, cnr_uns:79572\n",
      "Доля совпадений: 1.9%\n"
     ]
    }
   ],
   "source": [
    "cnr_uns = set(df_cnr['network_username'])\n",
    "ppl_uns = set(df_ppl['network_username'])\n",
    "print(f'Кол-во совпадений: {len(ppl_uns & cnr_uns)}')\n",
    "print(f'Общее кол-во: {len(ppl_uns | cnr_uns)}, ppl_uns:{len(ppl_uns)}, cnr_uns:{len(cnr_uns)}')\n",
    "print(f'Доля совпадений: {round(len(ppl_uns & cnr_uns)/len(ppl_uns | cnr_uns)*100, 2)}%')"
   ]
  },
  {
   "cell_type": "code",
   "execution_count": 34,
   "metadata": {},
   "outputs": [
    {
     "data": {
      "image/png": "[encoded data removed]",
      "text/plain": [
       "<Figure size 432x288 with 1 Axes>"
      ]
     },
     "metadata": {},
     "output_type": "display_data"
    }
   ],
   "source": [
    "# Код ревьюера\n",
    "!pip install matplotlib-venn -q\n",
    "from matplotlib_venn import venn2\n",
    "first_id = set(df_cnr['network_username'].dropna().unique())\n",
    "second_id = set(df_ppl['network_username'].dropna().unique())\n",
    "# Строим диаграмму Венна\n",
    "venn2([first_id, second_id], set_labels=('df_cnr', 'df_ppl'))\n",
    "\n",
    "# Отображаем график\n",
    "plt.title(\"Пересечение \")\n",
    "plt.show()"
   ]
  },
  {
   "cell_type": "markdown",
   "metadata": {
    "id": "_7gjdrGOFcB2"
   },
   "source": [
    "Доля совпадений подтверждает информацию выше. Столбец непригоден для объединения данных. Во избежание путаницы переименуем столбец в `df_ppl`:"
   ]
  },
  {
   "cell_type": "code",
   "execution_count": 35,
   "metadata": {},
   "outputs": [
    {
     "data": {
      "text/plain": [
       "Index(['id', 'first_name', 'last_name', 'company_id', 'person_nu'], dtype='object')"
      ]
     },
     "execution_count": 35,
     "metadata": {},
     "output_type": "execute_result"
    }
   ],
   "source": [
    "df_ppl = df_ppl.rename(columns={'network_username':'person_nu'})\n",
    "df_ppl.columns"
   ]
  },
  {
   "cell_type": "markdown",
   "metadata": {
    "id": "EHcODomVrJg1"
   },
   "source": [
    "\n",
    "### Проблемный датасет и причина возникновения пропусков"
   ]
  },
  {
   "cell_type": "code",
   "execution_count": 36,
   "metadata": {},
   "outputs": [
    {
     "data": {
      "text/plain": [
       "company_ID             0.001387\n",
       "name                   0.001387\n",
       "category_code          0.339288\n",
       "status                 0.001387\n",
       "founded_at             0.495091\n",
       "closed_at              0.984162\n",
       "domain                 0.324258\n",
       "network_username       0.561316\n",
       "country_code           0.501286\n",
       "investment_rounds      0.001387\n",
       "funding_rounds         0.001387\n",
       "funding_total          0.001387\n",
       "milestones             0.001387\n",
       "funding_round_id       0.756959\n",
       "company_id             0.756959\n",
       "funded_at              0.758098\n",
       "funding_round_type     0.756959\n",
       "raised_amount          0.756959\n",
       "pre_money_valuation    0.756959\n",
       "participants           0.756959\n",
       "is_first_round         0.756959\n",
       "is_last_round          0.756959\n",
       "funded_at_y            0.758098\n",
       "dtype: float64"
      ]
     },
     "execution_count": 36,
     "metadata": {},
     "output_type": "execute_result"
    }
   ],
   "source": [
    "#продублируем проценты пропусков\n",
    "df_cnr.isna().mean()"
   ]
  },
  {
   "cell_type": "code",
   "execution_count": 37,
   "metadata": {
    "scrolled": true
   },
   "outputs": [
    {
     "name": "stdout",
     "output_type": "stream",
     "text": [
      "        company_ID name category_code status founded_at closed_at domain  \\\n",
      "217472         NaN  NaN           NaN    NaN        NaT       NaT    NaN   \n",
      "217473         NaN  NaN           NaN    NaN        NaT       NaT    NaN   \n",
      "217474         NaN  NaN           NaN    NaN        NaT       NaT    NaN   \n",
      "\n",
      "       network_username country_code  investment_rounds  ...  \\\n",
      "217472              NaN          NaN                NaN  ...   \n",
      "217473              NaN          NaN                NaN  ...   \n",
      "217474              NaN          NaN                NaN  ...   \n",
      "\n",
      "        funding_round_id  company_id  funded_at  funding_round_type  \\\n",
      "217472             457.0      1267.0 2005-01-01            series-a   \n",
      "217473             471.0       558.0 2007-01-01               angel   \n",
      "217474             575.0       746.0 2004-09-01               angel   \n",
      "\n",
      "        raised_amount pre_money_valuation participants  is_first_round  \\\n",
      "217472     48000000.0                 0.0          2.0             1.0   \n",
      "217473       300000.0                 0.0          1.0             1.0   \n",
      "217474            0.0                 0.0          0.0             1.0   \n",
      "\n",
      "        is_last_round  funded_at_y  \n",
      "217472            1.0       2005.0  \n",
      "217473            1.0       2007.0  \n",
      "217474            1.0       2004.0  \n",
      "\n",
      "[3 rows x 23 columns]\n"
     ]
    }
   ],
   "source": [
    "print(df_cnr[df_cnr['company_ID'].isna()].head(3))"
   ]
  },
  {
   "cell_type": "code",
   "execution_count": 38,
   "metadata": {},
   "outputs": [
    {
     "data": {
      "text/plain": [
       "0"
      ]
     },
     "execution_count": 38,
     "metadata": {},
     "output_type": "execute_result"
    }
   ],
   "source": [
    "df_cnr[df_cnr['company_ID'].isna()]['company_id'].isna().sum()"
   ]
  },
  {
   "cell_type": "code",
   "execution_count": 39,
   "metadata": {},
   "outputs": [
    {
     "data": {
      "image/png": "[encoded data removed]",
      "text/plain": [
       "<Figure size 1800x720 with 1 Axes>"
      ]
     },
     "metadata": {
      "needs_background": "light"
     },
     "output_type": "display_data"
    }
   ],
   "source": [
    "!pip install missingno -q\n",
    "import missingno as msno\n",
    "df_company_and_rounds_12 = pd.read_csv(r'https://code.s3.yandex.net/datasets/company_and_rounds.csv')\n",
    "msno.dendrogram(df_company_and_rounds_12)\n",
    "plt.show()"
   ]
  },
  {
   "cell_type": "markdown",
   "metadata": {},
   "source": [
    "Гипотеза такова: методом `full` были соединены две таблицы:\n",
    "- **companies** - со столбцами company_ID, name, category_code, status, founded_at, closed_at, domain,  network_username, country_code, investment_rounds.\n",
    "- **rounds** - со столбцами funding_round_id, company_id, funded_at, funding_round_type, raised_amount, pre_money_valuation, participants, is_first_round, is_last_round."
   ]
  },
  {
   "cell_type": "code",
   "execution_count": 40,
   "metadata": {},
   "outputs": [
    {
     "name": "stdout",
     "output_type": "stream",
     "text": [
      "<class 'pandas.core.frame.DataFrame'>\n",
      "Int64Index: 196553 entries, 0 to 217469\n",
      "Data columns (total 13 columns):\n",
      " #   Column             Non-Null Count   Dtype         \n",
      "---  ------             --------------   -----         \n",
      " 0   company_id         196553 non-null  float64       \n",
      " 1   name               196553 non-null  object        \n",
      " 2   category_code      123186 non-null  object        \n",
      " 3   status             196553 non-null  object        \n",
      " 4   founded_at         91227 non-null   datetime64[ns]\n",
      " 5   closed_at          2620 non-null    datetime64[ns]\n",
      " 6   domain             126545 non-null  object        \n",
      " 7   network_username   80591 non-null   object        \n",
      " 8   country_code       87990 non-null   object        \n",
      " 9   investment_rounds  196553 non-null  float64       \n",
      " 10  funding_rounds     196553 non-null  float64       \n",
      " 11  funding_total      196553 non-null  float64       \n",
      " 12  milestones         196553 non-null  float64       \n",
      "dtypes: datetime64[ns](2), float64(5), object(6)\n",
      "memory usage: 21.0+ MB\n"
     ]
    }
   ],
   "source": [
    "#восстановим исходные таблицы\n",
    "df_com = df_cnr.iloc[:, :13]\n",
    "df_com = df_com.dropna(how='all')\n",
    "df_com = df_com.rename(columns={'company_ID':'company_id'}) #теперь можем переименовать столбец в едином формате\n",
    "df_com = df_com.drop_duplicates()\n",
    "df_com.info()"
   ]
  },
  {
   "cell_type": "code",
   "execution_count": 41,
   "metadata": {},
   "outputs": [
    {
     "name": "stdout",
     "output_type": "stream",
     "text": [
      "<class 'pandas.core.frame.DataFrame'>\n",
      "Int64Index: 52928 entries, 0 to 217773\n",
      "Data columns (total 10 columns):\n",
      " #   Column               Non-Null Count  Dtype         \n",
      "---  ------               --------------  -----         \n",
      " 0   funding_round_id     52928 non-null  float64       \n",
      " 1   company_id           52928 non-null  float64       \n",
      " 2   funded_at            52680 non-null  datetime64[ns]\n",
      " 3   funding_round_type   52928 non-null  object        \n",
      " 4   raised_amount        52928 non-null  float64       \n",
      " 5   pre_money_valuation  52928 non-null  float64       \n",
      " 6   participants         52928 non-null  float64       \n",
      " 7   is_first_round       52928 non-null  float64       \n",
      " 8   is_last_round        52928 non-null  float64       \n",
      " 9   funded_at_y          52680 non-null  float64       \n",
      "dtypes: datetime64[ns](1), float64(8), object(1)\n",
      "memory usage: 4.4+ MB\n"
     ]
    }
   ],
   "source": [
    "df_rnd = df_cnr.iloc[:, 13:] #созданный столбец также поместим сюда\n",
    "df_rnd = df_rnd.dropna(how='all')\n",
    "df_rnd.info()"
   ]
  },
  {
   "cell_type": "markdown",
   "metadata": {},
   "source": [
    "Получили две отдельные таблицы. Из пропусков стоит обратить внимание на столбец `closrd_at` - всего **3449** непустых значений, вероятно остальные компании все еще функционируют, в дальнейшем можно создать столбец `is_closed`."
   ]
  },
  {
   "cell_type": "markdown",
   "metadata": {
    "id": "bmVYhphNrJg2"
   },
   "source": [
    "\n",
    "## Исследовательский анализ объединённых таблиц"
   ]
  },
  {
   "cell_type": "markdown",
   "metadata": {
    "id": "3Di6tCT3rJg2"
   },
   "source": [
    "\n",
    "### Объединение данных"
   ]
  },
  {
   "cell_type": "code",
   "execution_count": 42,
   "metadata": {
    "id": "kuV1b5MXFg3_",
    "scrolled": true
   },
   "outputs": [
    {
     "data": {
      "text/html": [
       "<div>\n",
       "<style scoped>\n",
       "    .dataframe tbody tr th:only-of-type {\n",
       "        vertical-align: middle;\n",
       "    }\n",
       "\n",
       "    .dataframe tbody tr th {\n",
       "        vertical-align: top;\n",
       "    }\n",
       "\n",
       "    .dataframe thead th {\n",
       "        text-align: right;\n",
       "    }\n",
       "</style>\n",
       "<table border=\"1\" class=\"dataframe\">\n",
       "  <thead>\n",
       "    <tr style=\"text-align: right;\">\n",
       "      <th></th>\n",
       "      <th>company_id</th>\n",
       "      <th>name</th>\n",
       "      <th>category_code</th>\n",
       "      <th>status</th>\n",
       "      <th>founded_at</th>\n",
       "      <th>closed_at</th>\n",
       "      <th>domain</th>\n",
       "      <th>network_username</th>\n",
       "      <th>country_code</th>\n",
       "      <th>investment_rounds</th>\n",
       "      <th>funding_rounds</th>\n",
       "      <th>funding_total</th>\n",
       "      <th>milestones</th>\n",
       "    </tr>\n",
       "  </thead>\n",
       "  <tbody>\n",
       "    <tr>\n",
       "      <th>0</th>\n",
       "      <td>1.0</td>\n",
       "      <td>Wetpaint</td>\n",
       "      <td>web</td>\n",
       "      <td>operating</td>\n",
       "      <td>2005-10-17</td>\n",
       "      <td>NaT</td>\n",
       "      <td>wetpaint-inc.com</td>\n",
       "      <td>BachelrWetpaint</td>\n",
       "      <td>USA</td>\n",
       "      <td>0.0</td>\n",
       "      <td>3.0</td>\n",
       "      <td>39750000.0</td>\n",
       "      <td>5.0</td>\n",
       "    </tr>\n",
       "    <tr>\n",
       "      <th>3</th>\n",
       "      <td>10.0</td>\n",
       "      <td>Flektor</td>\n",
       "      <td>games_video</td>\n",
       "      <td>acquired</td>\n",
       "      <td>NaT</td>\n",
       "      <td>NaT</td>\n",
       "      <td>flektor.com</td>\n",
       "      <td>NaN</td>\n",
       "      <td>USA</td>\n",
       "      <td>0.0</td>\n",
       "      <td>0.0</td>\n",
       "      <td>0.0</td>\n",
       "      <td>0.0</td>\n",
       "    </tr>\n",
       "    <tr>\n",
       "      <th>4</th>\n",
       "      <td>100.0</td>\n",
       "      <td>There</td>\n",
       "      <td>games_video</td>\n",
       "      <td>acquired</td>\n",
       "      <td>NaT</td>\n",
       "      <td>NaT</td>\n",
       "      <td>there.com</td>\n",
       "      <td>NaN</td>\n",
       "      <td>USA</td>\n",
       "      <td>0.0</td>\n",
       "      <td>0.0</td>\n",
       "      <td>0.0</td>\n",
       "      <td>4.0</td>\n",
       "    </tr>\n",
       "    <tr>\n",
       "      <th>15</th>\n",
       "      <td>1001.0</td>\n",
       "      <td>FriendFeed</td>\n",
       "      <td>web</td>\n",
       "      <td>acquired</td>\n",
       "      <td>2007-10-01</td>\n",
       "      <td>NaT</td>\n",
       "      <td>friendfeed.com</td>\n",
       "      <td>friendfeed</td>\n",
       "      <td>USA</td>\n",
       "      <td>0.0</td>\n",
       "      <td>1.0</td>\n",
       "      <td>5000000.0</td>\n",
       "      <td>3.0</td>\n",
       "    </tr>\n",
       "    <tr>\n",
       "      <th>20</th>\n",
       "      <td>10014.0</td>\n",
       "      <td>Mobclix</td>\n",
       "      <td>mobile</td>\n",
       "      <td>acquired</td>\n",
       "      <td>2008-03-01</td>\n",
       "      <td>NaT</td>\n",
       "      <td>mobclix.com</td>\n",
       "      <td>mobclix</td>\n",
       "      <td>USA</td>\n",
       "      <td>0.0</td>\n",
       "      <td>1.0</td>\n",
       "      <td>0.0</td>\n",
       "      <td>4.0</td>\n",
       "    </tr>\n",
       "  </tbody>\n",
       "</table>\n",
       "</div>"
      ],
      "text/plain": [
       "    company_id        name category_code     status founded_at closed_at  \\\n",
       "0          1.0    Wetpaint           web  operating 2005-10-17       NaT   \n",
       "3         10.0     Flektor   games_video   acquired        NaT       NaT   \n",
       "4        100.0       There   games_video   acquired        NaT       NaT   \n",
       "15      1001.0  FriendFeed           web   acquired 2007-10-01       NaT   \n",
       "20     10014.0     Mobclix        mobile   acquired 2008-03-01       NaT   \n",
       "\n",
       "              domain network_username country_code  investment_rounds  \\\n",
       "0   wetpaint-inc.com  BachelrWetpaint          USA                0.0   \n",
       "3        flektor.com              NaN          USA                0.0   \n",
       "4          there.com              NaN          USA                0.0   \n",
       "15    friendfeed.com       friendfeed          USA                0.0   \n",
       "20       mobclix.com          mobclix          USA                0.0   \n",
       "\n",
       "    funding_rounds  funding_total  milestones  \n",
       "0              3.0     39750000.0         5.0  \n",
       "3              0.0            0.0         0.0  \n",
       "4              0.0            0.0         4.0  \n",
       "15             1.0      5000000.0         3.0  \n",
       "20             1.0            0.0         4.0  "
      ]
     },
     "execution_count": 42,
     "metadata": {},
     "output_type": "execute_result"
    }
   ],
   "source": [
    "df_interest = df_com[(df_com['funding_rounds'] > 0) | (df_com['investment_rounds'] > 0) | (df_com['status'] == 'acquired')]\n",
    "df_interest.head()"
   ]
  },
  {
   "cell_type": "code",
   "execution_count": 43,
   "metadata": {
    "scrolled": true
   },
   "outputs": [
    {
     "name": "stdout",
     "output_type": "stream",
     "text": [
      "<class 'pandas.core.frame.DataFrame'>\n",
      "Int64Index: 40747 entries, 0 to 217469\n",
      "Data columns (total 13 columns):\n",
      " #   Column             Non-Null Count  Dtype         \n",
      "---  ------             --------------  -----         \n",
      " 0   company_id         40747 non-null  float64       \n",
      " 1   name               40747 non-null  object        \n",
      " 2   category_code      35315 non-null  object        \n",
      " 3   status             40747 non-null  object        \n",
      " 4   founded_at         27807 non-null  datetime64[ns]\n",
      " 5   closed_at          2128 non-null   datetime64[ns]\n",
      " 6   domain             35754 non-null  object        \n",
      " 7   network_username   20850 non-null  object        \n",
      " 8   country_code       34742 non-null  object        \n",
      " 9   investment_rounds  40747 non-null  float64       \n",
      " 10  funding_rounds     40747 non-null  float64       \n",
      " 11  funding_total      40747 non-null  float64       \n",
      " 12  milestones         40747 non-null  float64       \n",
      "dtypes: datetime64[ns](2), float64(5), object(6)\n",
      "memory usage: 4.4+ MB\n"
     ]
    }
   ],
   "source": [
    "df_interest.info()"
   ]
  },
  {
   "cell_type": "code",
   "execution_count": 44,
   "metadata": {
    "scrolled": true
   },
   "outputs": [
    {
     "name": "stdout",
     "output_type": "stream",
     "text": [
      "<class 'pandas.core.frame.DataFrame'>\n",
      "Int64Index: 40747 entries, 0 to 217469\n",
      "Data columns (total 13 columns):\n",
      " #   Column             Non-Null Count  Dtype         \n",
      "---  ------             --------------  -----         \n",
      " 0   company_id         40747 non-null  int32         \n",
      " 1   name               40747 non-null  object        \n",
      " 2   category_code      35315 non-null  object        \n",
      " 3   status             40747 non-null  object        \n",
      " 4   founded_at         27807 non-null  datetime64[ns]\n",
      " 5   closed_at          2128 non-null   datetime64[ns]\n",
      " 6   domain             35754 non-null  object        \n",
      " 7   network_username   20850 non-null  object        \n",
      " 8   country_code       34742 non-null  object        \n",
      " 9   investment_rounds  40747 non-null  int16         \n",
      " 10  funding_rounds     40747 non-null  int8          \n",
      " 11  funding_total      40747 non-null  int64         \n",
      " 12  milestones         40747 non-null  int8          \n",
      "dtypes: datetime64[ns](2), int16(1), int32(1), int64(1), int8(2), object(6)\n",
      "memory usage: 3.4+ MB\n"
     ]
    }
   ],
   "source": [
    "for column in ['company_id', 'investment_rounds', 'funding_rounds', 'funding_total', 'milestones']:\n",
    "    df_interest[column] = pd.to_numeric(df_interest[column], downcast='integer')\n",
    "df_interest.info()"
   ]
  },
  {
   "cell_type": "code",
   "execution_count": 45,
   "metadata": {
    "scrolled": true
   },
   "outputs": [
    {
     "data": {
      "text/plain": [
       "company_id           0.000000\n",
       "name                 0.000000\n",
       "category_code        0.133310\n",
       "status               0.000000\n",
       "founded_at           0.317569\n",
       "closed_at            0.947775\n",
       "domain               0.122537\n",
       "network_username     0.488306\n",
       "country_code         0.147373\n",
       "investment_rounds    0.000000\n",
       "funding_rounds       0.000000\n",
       "funding_total        0.000000\n",
       "milestones           0.000000\n",
       "dtype: float64"
      ]
     },
     "execution_count": 45,
     "metadata": {},
     "output_type": "execute_result"
    }
   ],
   "source": [
    "df_interest.isna().mean()"
   ]
  },
  {
   "cell_type": "markdown",
   "metadata": {},
   "source": [
    "Получившаяся таблица корректна. Подходящих для удаления пропусков нет, однако при необходимости все еще есть возможность создать столбец `is_closed`."
   ]
  },
  {
   "cell_type": "markdown",
   "metadata": {
    "id": "DFHINkV3rJg2"
   },
   "source": [
    "\n",
    "### Анализ выбросов\n",
    "\n",
    "Заказчика интересует обычный для рассматриваемого периода размер средств, который предоставлялся компаниям.\n",
    "\n",
    "- По предобработанному столбцу `funding_total` графическим способом оцените, какой размер общего финансирования для одной компании будет типичным, а какой — выбивающимся.\n",
    "- В процессе расчёта значений обратите внимание, например, на показатели, возвращаемые методом `.describe()`, — объясните их. Применимы ли к таким данным обычные способы нахождения типичных значений?"
   ]
  },
  {
   "cell_type": "code",
   "execution_count": 46,
   "metadata": {},
   "outputs": [
    {
     "data": {
      "text/plain": [
       "0.3159250987802783"
      ]
     },
     "execution_count": 46,
     "metadata": {},
     "output_type": "execute_result"
    }
   ],
   "source": [
    "(df_interest['funding_total'] == 0).mean()"
   ]
  },
  {
   "cell_type": "markdown",
   "metadata": {},
   "source": [
    "**31.6%** компаний не финансировались. Исключим их из анализа"
   ]
  },
  {
   "cell_type": "code",
   "execution_count": 47,
   "metadata": {
    "id": "8jm75fKXrJg2",
    "scrolled": true,
    "vscode": {
     "languageId": "plaintext"
    }
   },
   "outputs": [
    {
     "data": {
      "text/plain": [
       "count    2.787400e+04\n",
       "mean     1.481652e+07\n",
       "std      6.775936e+07\n",
       "min      2.910000e+02\n",
       "25%      5.000000e+05\n",
       "50%      2.564500e+06\n",
       "75%      1.100000e+07\n",
       "max      5.700000e+09\n",
       "Name: funding_total, dtype: float64"
      ]
     },
     "execution_count": 47,
     "metadata": {},
     "output_type": "execute_result"
    }
   ],
   "source": [
    "df_funded = df_interest[df_interest['funding_total'] != 0]\n",
    "df_funded['funding_total'].describe()"
   ]
  },
  {
   "cell_type": "markdown",
   "metadata": {
    "id": "S1jrfr7rFhcw"
   },
   "source": [
    "Так как показатели могут отличаться друг от друга кратно, имеет смысл рассмотреть логарифм представленных средств."
   ]
  },
  {
   "cell_type": "code",
   "execution_count": 48,
   "metadata": {},
   "outputs": [
    {
     "data": {
      "text/plain": [
       "count    27874.000000\n",
       "mean        14.605412\n",
       "std          2.202743\n",
       "min          5.673323\n",
       "25%         13.122363\n",
       "50%         14.757274\n",
       "75%         16.213406\n",
       "max         22.463732\n",
       "Name: fd_log, dtype: float64"
      ]
     },
     "execution_count": 48,
     "metadata": {},
     "output_type": "execute_result"
    }
   ],
   "source": [
    "df_funded['fd_log'] = np.log(df_funded['funding_total'])\n",
    "df_funded['fd_log'].describe()"
   ]
  },
  {
   "cell_type": "code",
   "execution_count": 49,
   "metadata": {
    "scrolled": false
   },
   "outputs": [
    {
     "data": {
      "image/png": "[encoded data removed]",
      "text/plain": [
       "<Figure size 1152x288 with 1 Axes>"
      ]
     },
     "metadata": {
      "needs_background": "light"
     },
     "output_type": "display_data"
    }
   ],
   "source": [
    "df_funded['fd_log'].plot(kind='box', vert=False, figsize=(16, 4))\n",
    "plt.xticks(range(5,24,1))\n",
    "plt.title('Разброс логарифма представленных средств')\n",
    "plt.xlabel('Натуральный логарифм средств')\n",
    "plt.show()"
   ]
  },
  {
   "cell_type": "code",
   "execution_count": 50,
   "metadata": {},
   "outputs": [
    {
     "name": "stdout",
     "output_type": "stream",
     "text": [
      "4914.768840299134\n",
      "1318815734.4832146\n"
     ]
    }
   ],
   "source": [
    "print(np.exp(8.5))\n",
    "print(np.exp(21))"
   ]
  },
  {
   "cell_type": "markdown",
   "metadata": {},
   "source": [
    "В таком формате выбросами будут считаться значения меньше **5 тыс. д.е.** и больше **1.3 млрд. д.е.**"
   ]
  },
  {
   "cell_type": "markdown",
   "metadata": {
    "id": "JqkRAQrIrJg2"
   },
   "source": [
    "\n",
    "### Куплены забесплатно?\n",
    "\n",
    "- Исследуем компании, которые были проданы за ноль или за один доллар, и при этом известно, что у них был ненулевой общий объём финансирования.\n",
    "\n",
    "- Рассчитаем аналитически верхнюю и нижнюю границу выбросов для столбца `funding_total` и укажем, каким процентилям границы соответствуют."
   ]
  },
  {
   "cell_type": "code",
   "execution_count": 51,
   "metadata": {
    "id": "wJHXCBwwrJg2",
    "vscode": {
     "languageId": "plaintext"
    }
   },
   "outputs": [
    {
     "data": {
      "text/html": [
       "<div>\n",
       "<style scoped>\n",
       "    .dataframe tbody tr th:only-of-type {\n",
       "        vertical-align: middle;\n",
       "    }\n",
       "\n",
       "    .dataframe tbody tr th {\n",
       "        vertical-align: top;\n",
       "    }\n",
       "\n",
       "    .dataframe thead th {\n",
       "        text-align: right;\n",
       "    }\n",
       "</style>\n",
       "<table border=\"1\" class=\"dataframe\">\n",
       "  <thead>\n",
       "    <tr style=\"text-align: right;\">\n",
       "      <th></th>\n",
       "      <th>company_id</th>\n",
       "      <th>name</th>\n",
       "      <th>category_code</th>\n",
       "      <th>status</th>\n",
       "      <th>founded_at</th>\n",
       "      <th>closed_at</th>\n",
       "      <th>domain</th>\n",
       "      <th>network_username</th>\n",
       "      <th>country_code</th>\n",
       "      <th>investment_rounds</th>\n",
       "      <th>funding_rounds</th>\n",
       "      <th>funding_total</th>\n",
       "      <th>milestones</th>\n",
       "      <th>id</th>\n",
       "      <th>acquiring_company_id</th>\n",
       "      <th>acquired_company_id</th>\n",
       "      <th>term_code</th>\n",
       "      <th>price_amount</th>\n",
       "      <th>acquired_at</th>\n",
       "    </tr>\n",
       "  </thead>\n",
       "  <tbody>\n",
       "    <tr>\n",
       "      <th>0</th>\n",
       "      <td>10</td>\n",
       "      <td>Flektor</td>\n",
       "      <td>games_video</td>\n",
       "      <td>acquired</td>\n",
       "      <td>NaT</td>\n",
       "      <td>NaT</td>\n",
       "      <td>flektor.com</td>\n",
       "      <td>NaN</td>\n",
       "      <td>USA</td>\n",
       "      <td>0</td>\n",
       "      <td>0</td>\n",
       "      <td>0</td>\n",
       "      <td>0</td>\n",
       "      <td>1</td>\n",
       "      <td>11</td>\n",
       "      <td>10</td>\n",
       "      <td>NaN</td>\n",
       "      <td>20000000</td>\n",
       "      <td>2007-05-30</td>\n",
       "    </tr>\n",
       "    <tr>\n",
       "      <th>1</th>\n",
       "      <td>100</td>\n",
       "      <td>There</td>\n",
       "      <td>games_video</td>\n",
       "      <td>acquired</td>\n",
       "      <td>NaT</td>\n",
       "      <td>NaT</td>\n",
       "      <td>there.com</td>\n",
       "      <td>NaN</td>\n",
       "      <td>USA</td>\n",
       "      <td>0</td>\n",
       "      <td>0</td>\n",
       "      <td>0</td>\n",
       "      <td>4</td>\n",
       "      <td>20</td>\n",
       "      <td>377</td>\n",
       "      <td>100</td>\n",
       "      <td>cash</td>\n",
       "      <td>0</td>\n",
       "      <td>2005-05-29</td>\n",
       "    </tr>\n",
       "    <tr>\n",
       "      <th>2</th>\n",
       "      <td>1001</td>\n",
       "      <td>FriendFeed</td>\n",
       "      <td>web</td>\n",
       "      <td>acquired</td>\n",
       "      <td>2007-10-01</td>\n",
       "      <td>NaT</td>\n",
       "      <td>friendfeed.com</td>\n",
       "      <td>friendfeed</td>\n",
       "      <td>USA</td>\n",
       "      <td>0</td>\n",
       "      <td>1</td>\n",
       "      <td>5000000</td>\n",
       "      <td>3</td>\n",
       "      <td>1901</td>\n",
       "      <td>5</td>\n",
       "      <td>1001</td>\n",
       "      <td>cash_and_stock</td>\n",
       "      <td>47500000</td>\n",
       "      <td>2009-08-10</td>\n",
       "    </tr>\n",
       "    <tr>\n",
       "      <th>3</th>\n",
       "      <td>10014</td>\n",
       "      <td>Mobclix</td>\n",
       "      <td>mobile</td>\n",
       "      <td>acquired</td>\n",
       "      <td>2008-03-01</td>\n",
       "      <td>NaT</td>\n",
       "      <td>mobclix.com</td>\n",
       "      <td>mobclix</td>\n",
       "      <td>USA</td>\n",
       "      <td>0</td>\n",
       "      <td>1</td>\n",
       "      <td>0</td>\n",
       "      <td>4</td>\n",
       "      <td>3878</td>\n",
       "      <td>23054</td>\n",
       "      <td>10014</td>\n",
       "      <td>NaN</td>\n",
       "      <td>0</td>\n",
       "      <td>2010-09-30</td>\n",
       "    </tr>\n",
       "    <tr>\n",
       "      <th>4</th>\n",
       "      <td>100265</td>\n",
       "      <td>Coastal Supply Company</td>\n",
       "      <td>NaN</td>\n",
       "      <td>acquired</td>\n",
       "      <td>NaT</td>\n",
       "      <td>NaT</td>\n",
       "      <td>NaN</td>\n",
       "      <td>NaN</td>\n",
       "      <td>NaN</td>\n",
       "      <td>0</td>\n",
       "      <td>0</td>\n",
       "      <td>0</td>\n",
       "      <td>1</td>\n",
       "      <td>6106</td>\n",
       "      <td>38215</td>\n",
       "      <td>100265</td>\n",
       "      <td>NaN</td>\n",
       "      <td>0</td>\n",
       "      <td>2011-09-06</td>\n",
       "    </tr>\n",
       "  </tbody>\n",
       "</table>\n",
       "</div>"
      ],
      "text/plain": [
       "   company_id                    name category_code    status founded_at  \\\n",
       "0          10                 Flektor   games_video  acquired        NaT   \n",
       "1         100                   There   games_video  acquired        NaT   \n",
       "2        1001              FriendFeed           web  acquired 2007-10-01   \n",
       "3       10014                 Mobclix        mobile  acquired 2008-03-01   \n",
       "4      100265  Coastal Supply Company           NaN  acquired        NaT   \n",
       "\n",
       "  closed_at          domain network_username country_code  investment_rounds  \\\n",
       "0       NaT     flektor.com              NaN          USA                  0   \n",
       "1       NaT       there.com              NaN          USA                  0   \n",
       "2       NaT  friendfeed.com       friendfeed          USA                  0   \n",
       "3       NaT     mobclix.com          mobclix          USA                  0   \n",
       "4       NaT             NaN              NaN          NaN                  0   \n",
       "\n",
       "   funding_rounds  funding_total  milestones    id  acquiring_company_id  \\\n",
       "0               0              0           0     1                    11   \n",
       "1               0              0           4    20                   377   \n",
       "2               1        5000000           3  1901                     5   \n",
       "3               1              0           4  3878                 23054   \n",
       "4               0              0           1  6106                 38215   \n",
       "\n",
       "   acquired_company_id       term_code  price_amount acquired_at  \n",
       "0                   10             NaN      20000000  2007-05-30  \n",
       "1                  100            cash             0  2005-05-29  \n",
       "2                 1001  cash_and_stock      47500000  2009-08-10  \n",
       "3                10014             NaN             0  2010-09-30  \n",
       "4               100265             NaN             0  2011-09-06  "
      ]
     },
     "execution_count": 51,
     "metadata": {},
     "output_type": "execute_result"
    }
   ],
   "source": [
    "df_buyed_coms = df_interest.merge(df_buys, how='inner', left_on='company_id', right_on='acquired_company_id')\n",
    "df_buyed_coms.head()"
   ]
  },
  {
   "cell_type": "code",
   "execution_count": 52,
   "metadata": {
    "id": "9IDTHfYQFhuX",
    "scrolled": true
   },
   "outputs": [
    {
     "name": "stdout",
     "output_type": "stream",
     "text": [
      "<class 'pandas.core.frame.DataFrame'>\n",
      "Int64Index: 1618 entries, 7 to 9386\n",
      "Data columns (total 19 columns):\n",
      " #   Column                Non-Null Count  Dtype         \n",
      "---  ------                --------------  -----         \n",
      " 0   company_id            1618 non-null   int32         \n",
      " 1   name                  1618 non-null   object        \n",
      " 2   category_code         1553 non-null   object        \n",
      " 3   status                1618 non-null   object        \n",
      " 4   founded_at            1285 non-null   datetime64[ns]\n",
      " 5   closed_at             13 non-null     datetime64[ns]\n",
      " 6   domain                1546 non-null   object        \n",
      " 7   network_username      812 non-null    object        \n",
      " 8   country_code          1536 non-null   object        \n",
      " 9   investment_rounds     1618 non-null   int16         \n",
      " 10  funding_rounds        1618 non-null   int8          \n",
      " 11  funding_total         1618 non-null   int64         \n",
      " 12  milestones            1618 non-null   int8          \n",
      " 13  id                    1618 non-null   int16         \n",
      " 14  acquiring_company_id  1618 non-null   int32         \n",
      " 15  acquired_company_id   1618 non-null   int32         \n",
      " 16  term_code             121 non-null    object        \n",
      " 17  price_amount          1618 non-null   int64         \n",
      " 18  acquired_at           1614 non-null   datetime64[ns]\n",
      "dtypes: datetime64[ns](3), int16(2), int32(3), int64(2), int8(2), object(7)\n",
      "memory usage: 192.8+ KB\n"
     ]
    }
   ],
   "source": [
    "df_free = df_buyed_coms[(df_buyed_coms['funding_total'] != 0)&((df_buyed_coms['price_amount'] == 1) | (df_buyed_coms['price_amount'] == 0))]\n",
    "df_free.info()"
   ]
  },
  {
   "cell_type": "code",
   "execution_count": 53,
   "metadata": {
    "scrolled": true
   },
   "outputs": [
    {
     "data": {
      "text/html": [
       "<div>\n",
       "<style scoped>\n",
       "    .dataframe tbody tr th:only-of-type {\n",
       "        vertical-align: middle;\n",
       "    }\n",
       "\n",
       "    .dataframe tbody tr th {\n",
       "        vertical-align: top;\n",
       "    }\n",
       "\n",
       "    .dataframe thead th {\n",
       "        text-align: right;\n",
       "    }\n",
       "</style>\n",
       "<table border=\"1\" class=\"dataframe\">\n",
       "  <thead>\n",
       "    <tr style=\"text-align: right;\">\n",
       "      <th></th>\n",
       "      <th>company_id</th>\n",
       "      <th>name</th>\n",
       "      <th>category_code</th>\n",
       "      <th>status</th>\n",
       "      <th>founded_at</th>\n",
       "      <th>closed_at</th>\n",
       "      <th>domain</th>\n",
       "      <th>network_username</th>\n",
       "      <th>country_code</th>\n",
       "      <th>investment_rounds</th>\n",
       "      <th>funding_rounds</th>\n",
       "      <th>funding_total</th>\n",
       "      <th>milestones</th>\n",
       "      <th>id</th>\n",
       "      <th>acquiring_company_id</th>\n",
       "      <th>acquired_company_id</th>\n",
       "      <th>term_code</th>\n",
       "      <th>price_amount</th>\n",
       "      <th>acquired_at</th>\n",
       "    </tr>\n",
       "  </thead>\n",
       "  <tbody>\n",
       "    <tr>\n",
       "      <th>7</th>\n",
       "      <td>10054</td>\n",
       "      <td>Jumptap</td>\n",
       "      <td>mobile</td>\n",
       "      <td>acquired</td>\n",
       "      <td>2005-01-01</td>\n",
       "      <td>NaT</td>\n",
       "      <td>jumptap.com</td>\n",
       "      <td>jumptap</td>\n",
       "      <td>USA</td>\n",
       "      <td>0</td>\n",
       "      <td>7</td>\n",
       "      <td>121500000</td>\n",
       "      <td>3</td>\n",
       "      <td>9288</td>\n",
       "      <td>23283</td>\n",
       "      <td>10054</td>\n",
       "      <td>cash_and_stock</td>\n",
       "      <td>0</td>\n",
       "      <td>2013-08-13</td>\n",
       "    </tr>\n",
       "    <tr>\n",
       "      <th>17</th>\n",
       "      <td>101312</td>\n",
       "      <td>SideTour</td>\n",
       "      <td>web</td>\n",
       "      <td>acquired</td>\n",
       "      <td>2011-06-01</td>\n",
       "      <td>NaT</td>\n",
       "      <td>sidetour.com</td>\n",
       "      <td>sidetour</td>\n",
       "      <td>USA</td>\n",
       "      <td>0</td>\n",
       "      <td>3</td>\n",
       "      <td>4000000</td>\n",
       "      <td>2</td>\n",
       "      <td>9653</td>\n",
       "      <td>11391</td>\n",
       "      <td>101312</td>\n",
       "      <td>NaN</td>\n",
       "      <td>0</td>\n",
       "      <td>2013-09-18</td>\n",
       "    </tr>\n",
       "    <tr>\n",
       "      <th>18</th>\n",
       "      <td>101340</td>\n",
       "      <td>ChoicePass</td>\n",
       "      <td>enterprise</td>\n",
       "      <td>acquired</td>\n",
       "      <td>2011-07-01</td>\n",
       "      <td>NaT</td>\n",
       "      <td>choicepass.com</td>\n",
       "      <td>choicepass</td>\n",
       "      <td>USA</td>\n",
       "      <td>0</td>\n",
       "      <td>1</td>\n",
       "      <td>250000</td>\n",
       "      <td>1</td>\n",
       "      <td>7272</td>\n",
       "      <td>1972</td>\n",
       "      <td>101340</td>\n",
       "      <td>NaN</td>\n",
       "      <td>0</td>\n",
       "      <td>2012-06-18</td>\n",
       "    </tr>\n",
       "    <tr>\n",
       "      <th>19</th>\n",
       "      <td>10137</td>\n",
       "      <td>Producteev</td>\n",
       "      <td>software</td>\n",
       "      <td>acquired</td>\n",
       "      <td>2008-07-08</td>\n",
       "      <td>NaT</td>\n",
       "      <td>producteev.com</td>\n",
       "      <td>producteev</td>\n",
       "      <td>USA</td>\n",
       "      <td>0</td>\n",
       "      <td>3</td>\n",
       "      <td>1310000</td>\n",
       "      <td>2</td>\n",
       "      <td>8254</td>\n",
       "      <td>757</td>\n",
       "      <td>10137</td>\n",
       "      <td>cash_and_stock</td>\n",
       "      <td>0</td>\n",
       "      <td>2012-11-05</td>\n",
       "    </tr>\n",
       "    <tr>\n",
       "      <th>20</th>\n",
       "      <td>10139</td>\n",
       "      <td>TradeCard</td>\n",
       "      <td>enterprise</td>\n",
       "      <td>acquired</td>\n",
       "      <td>1999-01-01</td>\n",
       "      <td>NaT</td>\n",
       "      <td>tradecard.com</td>\n",
       "      <td>TradeCard</td>\n",
       "      <td>USA</td>\n",
       "      <td>0</td>\n",
       "      <td>2</td>\n",
       "      <td>44925000</td>\n",
       "      <td>1</td>\n",
       "      <td>9326</td>\n",
       "      <td>44008</td>\n",
       "      <td>10139</td>\n",
       "      <td>NaN</td>\n",
       "      <td>0</td>\n",
       "      <td>2013-04-01</td>\n",
       "    </tr>\n",
       "  </tbody>\n",
       "</table>\n",
       "</div>"
      ],
      "text/plain": [
       "    company_id        name category_code    status founded_at closed_at  \\\n",
       "7        10054     Jumptap        mobile  acquired 2005-01-01       NaT   \n",
       "17      101312    SideTour           web  acquired 2011-06-01       NaT   \n",
       "18      101340  ChoicePass    enterprise  acquired 2011-07-01       NaT   \n",
       "19       10137  Producteev      software  acquired 2008-07-08       NaT   \n",
       "20       10139   TradeCard    enterprise  acquired 1999-01-01       NaT   \n",
       "\n",
       "            domain network_username country_code  investment_rounds  \\\n",
       "7      jumptap.com          jumptap          USA                  0   \n",
       "17    sidetour.com         sidetour          USA                  0   \n",
       "18  choicepass.com       choicepass          USA                  0   \n",
       "19  producteev.com       producteev          USA                  0   \n",
       "20   tradecard.com        TradeCard          USA                  0   \n",
       "\n",
       "    funding_rounds  funding_total  milestones    id  acquiring_company_id  \\\n",
       "7                7      121500000           3  9288                 23283   \n",
       "17               3        4000000           2  9653                 11391   \n",
       "18               1         250000           1  7272                  1972   \n",
       "19               3        1310000           2  8254                   757   \n",
       "20               2       44925000           1  9326                 44008   \n",
       "\n",
       "    acquired_company_id       term_code  price_amount acquired_at  \n",
       "7                 10054  cash_and_stock             0  2013-08-13  \n",
       "17               101312             NaN             0  2013-09-18  \n",
       "18               101340             NaN             0  2012-06-18  \n",
       "19                10137  cash_and_stock             0  2012-11-05  \n",
       "20                10139             NaN             0  2013-04-01  "
      ]
     },
     "execution_count": 53,
     "metadata": {},
     "output_type": "execute_result"
    }
   ],
   "source": [
    "df_free.head()"
   ]
  },
  {
   "cell_type": "code",
   "execution_count": 54,
   "metadata": {
    "scrolled": true
   },
   "outputs": [
    {
     "data": {
      "text/plain": [
       "count    1.618000e+03\n",
       "mean     1.815296e+07\n",
       "std      1.445030e+08\n",
       "min      3.750000e+03\n",
       "1%       2.000000e+04\n",
       "25%      2.000000e+06\n",
       "50%      6.000000e+06\n",
       "75%      1.550000e+07\n",
       "99%      1.515529e+08\n",
       "max      5.700000e+09\n",
       "Name: funding_total, dtype: float64"
      ]
     },
     "execution_count": 54,
     "metadata": {},
     "output_type": "execute_result"
    }
   ],
   "source": [
    "df_free['funding_total'].describe(percentiles=[0.01, 0.25, 0.75, 0.99])"
   ]
  },
  {
   "cell_type": "markdown",
   "metadata": {},
   "source": [
    "На этот раз разница в значениях не столь велика, поэтому воспользуемся стандартным методом."
   ]
  },
  {
   "cell_type": "code",
   "execution_count": 55,
   "metadata": {
    "scrolled": true
   },
   "outputs": [
    {
     "data": {
      "image/png": "[encoded data removed]",
      "text/plain": [
       "<Figure size 1152x288 with 1 Axes>"
      ]
     },
     "metadata": {
      "needs_background": "light"
     },
     "output_type": "display_data"
    }
   ],
   "source": [
    "df_free['funding_total'].plot(kind='box', vert=False, figsize=(16, 4), showfliers=False)\n",
    "plt.title('Разброс финансирования \"бесплатных\" компаний')\n",
    "plt.xlabel('десятки млн. д.е.')\n",
    "plt.show()"
   ]
  },
  {
   "cell_type": "markdown",
   "metadata": {},
   "source": [
    "График показывает, что имеет смысл считать только верхнюю границу, нижняя - **0**"
   ]
  },
  {
   "cell_type": "code",
   "execution_count": 56,
   "metadata": {},
   "outputs": [
    {
     "data": {
      "text/plain": [
       "35750000.0"
      ]
     },
     "execution_count": 56,
     "metadata": {},
     "output_type": "execute_result"
    }
   ],
   "source": [
    "ft = df_free['funding_total']\n",
    "ft.quantile(0.75) + 1.5*(ft.quantile(0.75) - ft.quantile(0.25))"
   ]
  },
  {
   "cell_type": "markdown",
   "metadata": {},
   "source": [
    "Верхняя граница - **35.75 млн. д.е.**"
   ]
  },
  {
   "cell_type": "code",
   "execution_count": 57,
   "metadata": {},
   "outputs": [
    {
     "data": {
      "text/plain": [
       "90.91470951792337"
      ]
     },
     "execution_count": 57,
     "metadata": {},
     "output_type": "execute_result"
    }
   ],
   "source": [
    "(df_free['funding_total'] <= 35750000).mean()*100"
   ]
  },
  {
   "cell_type": "markdown",
   "metadata": {},
   "source": [
    "Итог: нижней границы нет, перцентиль верхней границы - **91**"
   ]
  },
  {
   "cell_type": "markdown",
   "metadata": {
    "id": "mEiWpROjrJg2"
   },
   "source": [
    "\n",
    "### Цены стартапов по категориям\n",
    "\n",
    "Категории стартапов с типично высокими ценами покупки стартапов и значительным разбросом цен могут быть привлекательными для крупных инвесторов, которые готовы к высоким рискам ради потенциально больших доходов. Среди категорий стартапов выделите категории стартапов, характеризующиеся:\n",
    "\n",
    "- типично высокими ценами;\n",
    "- и наибольшим разбросом цен за стартап.\n",
    "\n",
    "Объясните, почему решили составить топ именно из такого числа категорий и почему рассчитывали именно так."
   ]
  },
  {
   "cell_type": "markdown",
   "metadata": {},
   "source": [
    "Как меру разброса выбрана разность первого и третьего квартилей, так как обильное количество выбросов может исказить меры по типу размаха."
   ]
  },
  {
   "cell_type": "code",
   "execution_count": 58,
   "metadata": {
    "id": "jQ09dYUWrJg2",
    "vscode": {
     "languageId": "plaintext"
    }
   },
   "outputs": [
    {
     "data": {
      "text/html": [
       "<div>\n",
       "<style scoped>\n",
       "    .dataframe tbody tr th:only-of-type {\n",
       "        vertical-align: middle;\n",
       "    }\n",
       "\n",
       "    .dataframe tbody tr th {\n",
       "        vertical-align: top;\n",
       "    }\n",
       "\n",
       "    .dataframe thead th {\n",
       "        text-align: right;\n",
       "    }\n",
       "</style>\n",
       "<table border=\"1\" class=\"dataframe\">\n",
       "  <thead>\n",
       "    <tr style=\"text-align: right;\">\n",
       "      <th></th>\n",
       "      <th>median</th>\n",
       "      <th>q_delta</th>\n",
       "    </tr>\n",
       "    <tr>\n",
       "      <th>category_code</th>\n",
       "      <th></th>\n",
       "      <th></th>\n",
       "    </tr>\n",
       "  </thead>\n",
       "  <tbody>\n",
       "    <tr>\n",
       "      <th>advertising</th>\n",
       "      <td>0</td>\n",
       "      <td>3000000</td>\n",
       "    </tr>\n",
       "    <tr>\n",
       "      <th>analytics</th>\n",
       "      <td>0</td>\n",
       "      <td>0</td>\n",
       "    </tr>\n",
       "    <tr>\n",
       "      <th>automotive</th>\n",
       "      <td>43000000</td>\n",
       "      <td>2400000000</td>\n",
       "    </tr>\n",
       "    <tr>\n",
       "      <th>biotech</th>\n",
       "      <td>13200000</td>\n",
       "      <td>250000000</td>\n",
       "    </tr>\n",
       "    <tr>\n",
       "      <th>cleantech</th>\n",
       "      <td>0</td>\n",
       "      <td>69000000</td>\n",
       "    </tr>\n",
       "    <tr>\n",
       "      <th>consulting</th>\n",
       "      <td>0</td>\n",
       "      <td>0</td>\n",
       "    </tr>\n",
       "    <tr>\n",
       "      <th>design</th>\n",
       "      <td>0</td>\n",
       "      <td>0</td>\n",
       "    </tr>\n",
       "    <tr>\n",
       "      <th>ecommerce</th>\n",
       "      <td>0</td>\n",
       "      <td>0</td>\n",
       "    </tr>\n",
       "    <tr>\n",
       "      <th>education</th>\n",
       "      <td>0</td>\n",
       "      <td>0</td>\n",
       "    </tr>\n",
       "    <tr>\n",
       "      <th>enterprise</th>\n",
       "      <td>0</td>\n",
       "      <td>5700000</td>\n",
       "    </tr>\n",
       "  </tbody>\n",
       "</table>\n",
       "</div>"
      ],
      "text/plain": [
       "                 median     q_delta\n",
       "category_code                      \n",
       "advertising           0     3000000\n",
       "analytics             0           0\n",
       "automotive     43000000  2400000000\n",
       "biotech        13200000   250000000\n",
       "cleantech             0    69000000\n",
       "consulting            0           0\n",
       "design                0           0\n",
       "ecommerce             0           0\n",
       "education             0           0\n",
       "enterprise            0     5700000"
      ]
     },
     "execution_count": 58,
     "metadata": {},
     "output_type": "execute_result"
    }
   ],
   "source": [
    "def q_delta(x):\n",
    "    return x.quantile(0.75) - x.quantile(0.25)\n",
    "df_cat = df_buyed_coms.groupby('category_code')['price_amount'].agg(['median', q_delta])\n",
    "df_cat.head(10)"
   ]
  },
  {
   "cell_type": "code",
   "execution_count": 59,
   "metadata": {
    "id": "eF1aULm5FjfY",
    "scrolled": true
   },
   "outputs": [
    {
     "data": {
      "text/plain": [
       "category_code\n",
       "nanotech         584000000\n",
       "manufacturing     72000000\n",
       "real_estate       50000000\n",
       "automotive        43000000\n",
       "biotech           13200000\n",
       "hospitality       12500000\n",
       "finance             600000\n",
       "news                     0\n",
       "Name: median, dtype: int64"
      ]
     },
     "execution_count": 59,
     "metadata": {},
     "output_type": "execute_result"
    }
   ],
   "source": [
    "df_cat['median'].sort_values(ascending=False)[:8]"
   ]
  },
  {
   "cell_type": "code",
   "execution_count": 60,
   "metadata": {},
   "outputs": [],
   "source": [
    "median_top = df_cat['median'].sort_values(ascending=False)[:7]"
   ]
  },
  {
   "cell_type": "markdown",
   "metadata": {},
   "source": [
    "Мы видим, что ненулевые данные встречаются только для **7** категорий. Можно было бы отфильтровать нулевые покупки еще до группировки, однако мы не знаем причину их возникновения. Поэтому ограничим наш топ именно этим количеством."
   ]
  },
  {
   "cell_type": "code",
   "execution_count": 61,
   "metadata": {},
   "outputs": [
    {
     "data": {
      "text/plain": [
       "category_code\n",
       "automotive        2400000000\n",
       "real_estate        903500000\n",
       "manufacturing      615000000\n",
       "sports             260000000\n",
       "biotech            250000000\n",
       "finance            170750000\n",
       "transportation     125000000\n",
       "Name: q_delta, dtype: int64"
      ]
     },
     "execution_count": 61,
     "metadata": {},
     "output_type": "execute_result"
    }
   ],
   "source": [
    "delta_top = df_cat['q_delta'].sort_values(ascending=False)[:7]\n",
    "delta_top"
   ]
  },
  {
   "cell_type": "code",
   "execution_count": 62,
   "metadata": {},
   "outputs": [
    {
     "data": {
      "image/png": "[encoded data removed]",
      "text/plain": [
       "<Figure size 720x432 with 1 Axes>"
      ]
     },
     "metadata": {
      "needs_background": "light"
     },
     "output_type": "display_data"
    }
   ],
   "source": [
    "median_top.plot(kind='bar', rot=45, figsize=(10,6))\n",
    "plt.title('Топ-7 по типичному значению')\n",
    "plt.ylabel('сотни млн. д.е.')\n",
    "plt.show()"
   ]
  },
  {
   "cell_type": "code",
   "execution_count": 63,
   "metadata": {},
   "outputs": [
    {
     "data": {
      "image/png": "[encoded data removed]",
      "text/plain": [
       "<Figure size 720x432 with 1 Axes>"
      ]
     },
     "metadata": {
      "needs_background": "light"
     },
     "output_type": "display_data"
    }
   ],
   "source": [
    "delta_top.plot(kind='bar', rot=45, figsize=(10,6))\n",
    "plt.title('Топ-7 по разбросу')\n",
    "plt.ylabel('млрд. д.е.')\n",
    "plt.show()"
   ]
  },
  {
   "cell_type": "markdown",
   "metadata": {},
   "source": [
    "Можно заметить, что как категории в обоих топах пересекаются. То есть более дорогие стартапы как правило и более высокие. Исключение - нанотехнологии. Такая аномалия может быть вызвана актуальностью категории."
   ]
  },
  {
   "cell_type": "markdown",
   "metadata": {
    "id": "ADOfyVY_rJg3"
   },
   "source": [
    "\n",
    "### Сколько раундов продержится стартап перед покупкой\n",
    "\n",
    "- Необходимо проанализировать столбец `funding_rounds`. Исследуем значения столбца. Заказчика интересует типичное значение количества раундов для каждого возможного статуса стартапа.\n",
    "- Построим график, который отображает, сколько в среднем раундов финансирования проходило для стартапов из каждой группы."
   ]
  },
  {
   "cell_type": "code",
   "execution_count": 67,
   "metadata": {
    "id": "hgXMPC4WrJg3",
    "vscode": {
     "languageId": "plaintext"
    }
   },
   "outputs": [
    {
     "data": {
      "text/plain": [
       "status\n",
       "acquired     0.523526\n",
       "closed       1.381453\n",
       "ipo          1.934375\n",
       "operating    1.522658\n",
       "Name: funding_rounds, dtype: float64"
      ]
     },
     "execution_count": 67,
     "metadata": {},
     "output_type": "execute_result"
    }
   ],
   "source": [
    "cnt_rounds = df_interest.groupby('status')['funding_rounds'].mean()\n",
    "cnt_rounds.sort_values(ascending=False)\n",
    "rounds_top = cnt_rounds.sort_values(ascending=False)\n",
    "cnt_rounds"
   ]
  },
  {
   "cell_type": "code",
   "execution_count": 70,
   "metadata": {
    "id": "pV3e7kw5Fj1Y",
    "scrolled": true
   },
   "outputs": [
    {
     "data": {
      "image/png": "[encoded data removed]",
      "text/plain": [
       "<Figure size 720x432 with 1 Axes>"
      ]
     },
     "metadata": {
      "needs_background": "light"
     },
     "output_type": "display_data"
    }
   ],
   "source": [
    "cnt_rounds.plot(kind='bar', rot=45, figsize=(10,6))\n",
    "plt.title('Топ-7 по статус')\n",
    "plt.ylabel('Среднее')\n",
    "plt.show()"
   ]
  },
  {
   "cell_type": "markdown",
   "metadata": {},
   "source": [
    "Больше  всего раундов наблюдается у компаний на IPO. У приобретенных компаний раундов меньше всего, что отвергает гипотезу заказчика."
   ]
  },
  {
   "cell_type": "markdown",
   "metadata": {
    "id": "VAFEZ2HBrJg3"
   },
   "source": [
    "\n",
    "## Итоговый вывод и рекомендации\n",
    "\n",
    "Опишите, что было сделано в проекте, какие были сделаны выводы, подкрепляют ли они друг друга или заставляют сомневаться в полученных результатах."
   ]
  },
  {
   "cell_type": "markdown",
   "metadata": {},
   "source": [
    "В ходе проекта был проведен анализ 5 датасетов, содержащих информацию о компаниях и сотруднниках. Исследовательский анализ показал, что проведенной предобработки недостаточно для полноценной работы. Ярким примером являются нулевые покупки, происхождение которых неизвестно, а влияние на результаты существенно."
   ]
  },
  {
   "cell_type": "markdown",
   "metadata": {},
   "source": [
    "Таким образом, главной рекомендацией для заказчика является поиск дополнительной информации, позволяющей скорректировать работу с данными."
   ]
  },
  {
   "cell_type": "markdown",
   "metadata": {},
   "source": [
    "Тем не менее, уже сейчас можно предположить, что приоритетным направлением для покупке является категория **nanotech** (цены продажи крайне высокие, риск сравнительно низкий). Также стоит отметить низкое среднее количество раундов у приобретенных компаний."
   ]
  }
 ],
 "metadata": {
  "ExecuteTimeLog": [
   {
    "duration": 95,
    "start_time": "2025-04-27T15:40:10.656Z"
   },
   {
    "duration": 3382,
    "start_time": "2025-04-27T16:23:59.861Z"
   },
   {
    "duration": 1329,
    "start_time": "2025-04-27T16:24:08.088Z"
   },
   {
    "duration": 158,
    "start_time": "2025-04-27T16:28:00.561Z"
   },
   {
    "duration": 36,
    "start_time": "2025-04-27T16:28:41.878Z"
   },
   {
    "duration": 32,
    "start_time": "2025-04-27T16:29:05.169Z"
   },
   {
    "duration": 11,
    "start_time": "2025-04-27T16:30:22.363Z"
   },
   {
    "duration": 776,
    "start_time": "2025-04-27T16:39:25.979Z"
   },
   {
    "duration": 97,
    "start_time": "2025-04-27T16:40:35.920Z"
   },
   {
    "duration": 600,
    "start_time": "2025-04-27T17:03:22.740Z"
   },
   {
    "duration": 92,
    "start_time": "2025-04-27T17:06:12.959Z"
   },
   {
    "duration": 19,
    "start_time": "2025-04-27T17:07:27.804Z"
   },
   {
    "duration": 202,
    "start_time": "2025-04-27T17:10:25.560Z"
   },
   {
    "duration": 40,
    "start_time": "2025-04-27T17:11:05.205Z"
   },
   {
    "duration": 102,
    "start_time": "2025-04-27T17:14:24.545Z"
   },
   {
    "duration": 9,
    "start_time": "2025-04-27T17:15:38.757Z"
   },
   {
    "duration": 24,
    "start_time": "2025-04-27T17:15:45.749Z"
   },
   {
    "duration": 46,
    "start_time": "2025-04-29T11:18:31.978Z"
   },
   {
    "duration": 1364,
    "start_time": "2025-04-29T11:18:41.105Z"
   },
   {
    "duration": 0,
    "start_time": "2025-04-29T11:18:42.471Z"
   },
   {
    "duration": 0,
    "start_time": "2025-04-29T11:18:42.472Z"
   },
   {
    "duration": 0,
    "start_time": "2025-04-29T11:18:42.473Z"
   },
   {
    "duration": 0,
    "start_time": "2025-04-29T11:18:42.474Z"
   },
   {
    "duration": 0,
    "start_time": "2025-04-29T11:18:42.474Z"
   },
   {
    "duration": 0,
    "start_time": "2025-04-29T11:18:42.475Z"
   },
   {
    "duration": 0,
    "start_time": "2025-04-29T11:18:42.476Z"
   },
   {
    "duration": 0,
    "start_time": "2025-04-29T11:18:42.477Z"
   },
   {
    "duration": 0,
    "start_time": "2025-04-29T11:18:42.478Z"
   },
   {
    "duration": 0,
    "start_time": "2025-04-29T11:18:42.479Z"
   },
   {
    "duration": 0,
    "start_time": "2025-04-29T11:18:42.480Z"
   },
   {
    "duration": 0,
    "start_time": "2025-04-29T11:18:42.481Z"
   },
   {
    "duration": 3730,
    "start_time": "2025-04-29T11:19:08.562Z"
   },
   {
    "duration": 2485,
    "start_time": "2025-04-29T11:19:23.444Z"
   },
   {
    "duration": 1289,
    "start_time": "2025-04-29T11:19:25.933Z"
   },
   {
    "duration": 31,
    "start_time": "2025-04-29T11:19:27.224Z"
   },
   {
    "duration": 12,
    "start_time": "2025-04-29T11:19:27.257Z"
   },
   {
    "duration": 641,
    "start_time": "2025-04-29T11:19:27.270Z"
   },
   {
    "duration": 120,
    "start_time": "2025-04-29T11:19:27.913Z"
   },
   {
    "duration": 91,
    "start_time": "2025-04-29T11:19:28.035Z"
   },
   {
    "duration": 19,
    "start_time": "2025-04-29T11:19:28.128Z"
   },
   {
    "duration": 196,
    "start_time": "2025-04-29T11:19:28.148Z"
   },
   {
    "duration": 41,
    "start_time": "2025-04-29T11:19:28.346Z"
   },
   {
    "duration": 106,
    "start_time": "2025-04-29T11:19:28.389Z"
   },
   {
    "duration": 23,
    "start_time": "2025-04-29T11:19:28.496Z"
   },
   {
    "duration": 107,
    "start_time": "2025-04-29T11:19:28.520Z"
   },
   {
    "duration": 0,
    "start_time": "2025-04-29T11:19:28.629Z"
   },
   {
    "duration": 4,
    "start_time": "2025-04-29T11:19:37.146Z"
   },
   {
    "duration": 4,
    "start_time": "2025-04-29T11:23:21.414Z"
   },
   {
    "duration": 104,
    "start_time": "2025-04-29T11:25:08.302Z"
   },
   {
    "duration": 9,
    "start_time": "2025-04-29T11:25:24.005Z"
   },
   {
    "duration": 5,
    "start_time": "2025-04-29T11:26:19.141Z"
   },
   {
    "duration": 624,
    "start_time": "2025-04-29T11:29:56.522Z"
   },
   {
    "duration": 5,
    "start_time": "2025-04-29T11:31:31.720Z"
   },
   {
    "duration": 609,
    "start_time": "2025-04-29T11:36:50.422Z"
   },
   {
    "duration": 6,
    "start_time": "2025-04-29T12:06:01.646Z"
   },
   {
    "duration": 13,
    "start_time": "2025-04-29T12:09:21.648Z"
   },
   {
    "duration": 1737,
    "start_time": "2025-04-29T12:10:57.622Z"
   },
   {
    "duration": 1758,
    "start_time": "2025-04-29T12:12:06.583Z"
   },
   {
    "duration": 2437,
    "start_time": "2025-04-29T12:12:51.144Z"
   },
   {
    "duration": 1282,
    "start_time": "2025-04-29T12:12:53.583Z"
   },
   {
    "duration": 45,
    "start_time": "2025-04-29T12:12:54.867Z"
   },
   {
    "duration": 13,
    "start_time": "2025-04-29T12:12:54.914Z"
   },
   {
    "duration": 714,
    "start_time": "2025-04-29T12:12:54.929Z"
   },
   {
    "duration": 108,
    "start_time": "2025-04-29T12:12:55.644Z"
   },
   {
    "duration": 97,
    "start_time": "2025-04-29T12:12:55.754Z"
   },
   {
    "duration": 19,
    "start_time": "2025-04-29T12:12:55.852Z"
   },
   {
    "duration": 237,
    "start_time": "2025-04-29T12:12:55.872Z"
   },
   {
    "duration": 37,
    "start_time": "2025-04-29T12:12:56.111Z"
   },
   {
    "duration": 119,
    "start_time": "2025-04-29T12:12:56.149Z"
   },
   {
    "duration": 23,
    "start_time": "2025-04-29T12:12:56.269Z"
   },
   {
    "duration": 20,
    "start_time": "2025-04-29T12:12:56.294Z"
   },
   {
    "duration": 17,
    "start_time": "2025-04-29T12:12:56.316Z"
   },
   {
    "duration": 188,
    "start_time": "2025-04-29T12:12:56.335Z"
   },
   {
    "duration": 98,
    "start_time": "2025-04-29T12:17:44.504Z"
   },
   {
    "duration": 8,
    "start_time": "2025-04-29T12:17:51.163Z"
   },
   {
    "duration": 7,
    "start_time": "2025-04-29T12:18:02.313Z"
   },
   {
    "duration": 69,
    "start_time": "2025-04-29T12:21:27.629Z"
   },
   {
    "duration": 34,
    "start_time": "2025-04-29T12:25:16.986Z"
   },
   {
    "duration": 20,
    "start_time": "2025-04-29T12:26:11.426Z"
   },
   {
    "duration": 15,
    "start_time": "2025-04-29T12:29:18.093Z"
   },
   {
    "duration": 6,
    "start_time": "2025-04-29T12:43:03.436Z"
   },
   {
    "duration": 5,
    "start_time": "2025-04-29T12:43:07.421Z"
   },
   {
    "duration": 3611,
    "start_time": "2025-04-29T23:17:34.111Z"
   },
   {
    "duration": 1427,
    "start_time": "2025-04-29T23:17:37.725Z"
   },
   {
    "duration": 34,
    "start_time": "2025-04-29T23:17:39.153Z"
   },
   {
    "duration": 11,
    "start_time": "2025-04-29T23:17:39.189Z"
   },
   {
    "duration": 662,
    "start_time": "2025-04-29T23:17:39.203Z"
   },
   {
    "duration": 105,
    "start_time": "2025-04-29T23:17:39.867Z"
   },
   {
    "duration": 99,
    "start_time": "2025-04-29T23:17:39.974Z"
   },
   {
    "duration": 19,
    "start_time": "2025-04-29T23:17:40.075Z"
   },
   {
    "duration": 237,
    "start_time": "2025-04-29T23:17:40.096Z"
   },
   {
    "duration": 49,
    "start_time": "2025-04-29T23:17:40.335Z"
   },
   {
    "duration": 117,
    "start_time": "2025-04-29T23:17:40.385Z"
   },
   {
    "duration": 25,
    "start_time": "2025-04-29T23:17:40.504Z"
   },
   {
    "duration": 5,
    "start_time": "2025-04-29T23:17:40.531Z"
   },
   {
    "duration": 25,
    "start_time": "2025-04-29T23:17:40.538Z"
   },
   {
    "duration": 198,
    "start_time": "2025-04-29T23:17:40.565Z"
   },
   {
    "duration": 7,
    "start_time": "2025-04-29T23:17:40.764Z"
   },
   {
    "duration": 90,
    "start_time": "2025-04-29T23:17:40.773Z"
   },
   {
    "duration": 38,
    "start_time": "2025-04-29T23:17:40.865Z"
   },
   {
    "duration": 22,
    "start_time": "2025-04-29T23:17:40.904Z"
   },
   {
    "duration": 41,
    "start_time": "2025-04-29T23:17:40.927Z"
   },
   {
    "duration": 654,
    "start_time": "2025-04-29T23:43:52.998Z"
   },
   {
    "duration": 1539,
    "start_time": "2025-04-29T23:44:50.975Z"
   },
   {
    "duration": 1535,
    "start_time": "2025-04-29T23:45:32.655Z"
   },
   {
    "duration": 91,
    "start_time": "2025-04-29T23:45:43.181Z"
   },
   {
    "duration": 0,
    "start_time": "2025-04-29T23:45:43.274Z"
   },
   {
    "duration": 0,
    "start_time": "2025-04-29T23:45:43.276Z"
   },
   {
    "duration": 0,
    "start_time": "2025-04-29T23:45:43.277Z"
   },
   {
    "duration": 0,
    "start_time": "2025-04-29T23:45:43.279Z"
   },
   {
    "duration": 0,
    "start_time": "2025-04-29T23:45:43.280Z"
   },
   {
    "duration": 0,
    "start_time": "2025-04-29T23:45:43.282Z"
   },
   {
    "duration": 0,
    "start_time": "2025-04-29T23:45:43.284Z"
   },
   {
    "duration": 0,
    "start_time": "2025-04-29T23:45:43.285Z"
   },
   {
    "duration": 0,
    "start_time": "2025-04-29T23:45:43.286Z"
   },
   {
    "duration": 0,
    "start_time": "2025-04-29T23:45:43.288Z"
   },
   {
    "duration": 0,
    "start_time": "2025-04-29T23:45:43.289Z"
   },
   {
    "duration": 0,
    "start_time": "2025-04-29T23:45:43.291Z"
   },
   {
    "duration": 0,
    "start_time": "2025-04-29T23:45:43.292Z"
   },
   {
    "duration": 0,
    "start_time": "2025-04-29T23:45:43.294Z"
   },
   {
    "duration": 0,
    "start_time": "2025-04-29T23:45:43.295Z"
   },
   {
    "duration": 0,
    "start_time": "2025-04-29T23:45:43.297Z"
   },
   {
    "duration": 0,
    "start_time": "2025-04-29T23:45:43.298Z"
   },
   {
    "duration": 0,
    "start_time": "2025-04-29T23:45:43.300Z"
   },
   {
    "duration": 0,
    "start_time": "2025-04-29T23:45:43.301Z"
   },
   {
    "duration": 0,
    "start_time": "2025-04-29T23:45:43.303Z"
   },
   {
    "duration": 2534,
    "start_time": "2025-04-29T23:46:21.770Z"
   },
   {
    "duration": 2504,
    "start_time": "2025-04-29T23:46:40.835Z"
   },
   {
    "duration": 1291,
    "start_time": "2025-04-29T23:46:43.342Z"
   },
   {
    "duration": 33,
    "start_time": "2025-04-29T23:46:44.635Z"
   },
   {
    "duration": 11,
    "start_time": "2025-04-29T23:46:44.670Z"
   },
   {
    "duration": 706,
    "start_time": "2025-04-29T23:46:44.683Z"
   },
   {
    "duration": 119,
    "start_time": "2025-04-29T23:46:45.391Z"
   },
   {
    "duration": 107,
    "start_time": "2025-04-29T23:46:45.512Z"
   },
   {
    "duration": 21,
    "start_time": "2025-04-29T23:46:45.621Z"
   },
   {
    "duration": 229,
    "start_time": "2025-04-29T23:46:45.644Z"
   },
   {
    "duration": 42,
    "start_time": "2025-04-29T23:46:45.876Z"
   },
   {
    "duration": 124,
    "start_time": "2025-04-29T23:46:45.919Z"
   },
   {
    "duration": 30,
    "start_time": "2025-04-29T23:46:46.045Z"
   },
   {
    "duration": 7,
    "start_time": "2025-04-29T23:46:46.077Z"
   },
   {
    "duration": 8,
    "start_time": "2025-04-29T23:46:46.087Z"
   },
   {
    "duration": 208,
    "start_time": "2025-04-29T23:46:46.097Z"
   },
   {
    "duration": 7,
    "start_time": "2025-04-29T23:46:46.307Z"
   },
   {
    "duration": 92,
    "start_time": "2025-04-29T23:46:46.316Z"
   },
   {
    "duration": 37,
    "start_time": "2025-04-29T23:46:46.411Z"
   },
   {
    "duration": 35,
    "start_time": "2025-04-29T23:46:46.450Z"
   },
   {
    "duration": 24,
    "start_time": "2025-04-29T23:46:46.487Z"
   },
   {
    "duration": 12,
    "start_time": "2025-04-29T23:46:46.513Z"
   },
   {
    "duration": 38,
    "start_time": "2025-04-29T23:47:00.414Z"
   },
   {
    "duration": 150,
    "start_time": "2025-04-29T23:47:43.560Z"
   },
   {
    "duration": 15,
    "start_time": "2025-04-29T23:47:48.756Z"
   },
   {
    "duration": 6,
    "start_time": "2025-04-29T23:49:28.951Z"
   },
   {
    "duration": 106,
    "start_time": "2025-04-30T01:58:07.551Z"
   },
   {
    "duration": 10,
    "start_time": "2025-04-30T01:58:15.239Z"
   },
   {
    "duration": 12,
    "start_time": "2025-04-30T01:59:31.070Z"
   },
   {
    "duration": 13,
    "start_time": "2025-04-30T01:59:41.594Z"
   },
   {
    "duration": 66,
    "start_time": "2025-04-30T02:00:29.183Z"
   },
   {
    "duration": 51,
    "start_time": "2025-04-30T02:05:24.841Z"
   },
   {
    "duration": 1459,
    "start_time": "2025-04-30T02:06:09.056Z"
   },
   {
    "duration": 39,
    "start_time": "2025-04-30T02:06:20.127Z"
   },
   {
    "duration": 33,
    "start_time": "2025-04-30T02:06:38.914Z"
   },
   {
    "duration": 41,
    "start_time": "2025-04-30T02:06:46.412Z"
   },
   {
    "duration": 41,
    "start_time": "2025-04-30T02:07:17.176Z"
   },
   {
    "duration": 180,
    "start_time": "2025-04-30T02:09:33.061Z"
   },
   {
    "duration": 144,
    "start_time": "2025-04-30T02:11:59.777Z"
   },
   {
    "duration": 117,
    "start_time": "2025-04-30T02:12:08.556Z"
   },
   {
    "duration": 152,
    "start_time": "2025-04-30T02:14:22.862Z"
   },
   {
    "duration": 165,
    "start_time": "2025-04-30T02:14:57.607Z"
   },
   {
    "duration": 181,
    "start_time": "2025-04-30T02:16:06.546Z"
   },
   {
    "duration": 247,
    "start_time": "2025-04-30T02:16:34.671Z"
   },
   {
    "duration": 4,
    "start_time": "2025-04-30T14:22:02.084Z"
   },
   {
    "duration": 57,
    "start_time": "2025-04-30T14:22:13.126Z"
   },
   {
    "duration": 3840,
    "start_time": "2025-04-30T14:22:20.073Z"
   },
   {
    "duration": 1564,
    "start_time": "2025-04-30T14:22:23.916Z"
   },
   {
    "duration": 71,
    "start_time": "2025-04-30T14:22:25.482Z"
   },
   {
    "duration": 53,
    "start_time": "2025-04-30T14:22:25.556Z"
   },
   {
    "duration": 1071,
    "start_time": "2025-04-30T14:22:25.612Z"
   },
   {
    "duration": 144,
    "start_time": "2025-04-30T14:22:26.685Z"
   },
   {
    "duration": 391,
    "start_time": "2025-04-30T14:22:26.831Z"
   },
   {
    "duration": 48,
    "start_time": "2025-04-30T14:22:27.223Z"
   },
   {
    "duration": 230,
    "start_time": "2025-04-30T14:22:27.275Z"
   },
   {
    "duration": 32,
    "start_time": "2025-04-30T14:22:27.510Z"
   },
   {
    "duration": 186,
    "start_time": "2025-04-30T14:22:27.545Z"
   },
   {
    "duration": 26,
    "start_time": "2025-04-30T14:22:27.733Z"
   },
   {
    "duration": 24,
    "start_time": "2025-04-30T14:22:27.760Z"
   },
   {
    "duration": 59,
    "start_time": "2025-04-30T14:22:27.786Z"
   },
   {
    "duration": 262,
    "start_time": "2025-04-30T14:22:27.848Z"
   },
   {
    "duration": 8,
    "start_time": "2025-04-30T14:22:28.112Z"
   },
   {
    "duration": 106,
    "start_time": "2025-04-30T14:22:28.122Z"
   },
   {
    "duration": 54,
    "start_time": "2025-04-30T14:22:28.230Z"
   },
   {
    "duration": 241,
    "start_time": "2025-04-30T14:22:28.286Z"
   },
   {
    "duration": 18,
    "start_time": "2025-04-30T14:22:28.529Z"
   },
   {
    "duration": 71,
    "start_time": "2025-04-30T14:22:28.549Z"
   },
   {
    "duration": 213,
    "start_time": "2025-04-30T14:22:28.623Z"
   },
   {
    "duration": 99,
    "start_time": "2025-04-30T14:22:28.838Z"
   },
   {
    "duration": 34,
    "start_time": "2025-04-30T14:22:28.939Z"
   },
   {
    "duration": 55,
    "start_time": "2025-04-30T14:22:28.977Z"
   },
   {
    "duration": 5,
    "start_time": "2025-04-30T14:41:41.010Z"
   },
   {
    "duration": 5,
    "start_time": "2025-04-30T14:41:49.866Z"
   },
   {
    "duration": 1363,
    "start_time": "2025-04-30T14:43:15.616Z"
   },
   {
    "duration": 14,
    "start_time": "2025-04-30T14:43:29.128Z"
   },
   {
    "duration": 110,
    "start_time": "2025-04-30T14:43:44.463Z"
   },
   {
    "duration": 97,
    "start_time": "2025-04-30T14:45:27.906Z"
   },
   {
    "duration": 26,
    "start_time": "2025-04-30T14:45:52.281Z"
   },
   {
    "duration": 140,
    "start_time": "2025-04-30T14:46:07.557Z"
   },
   {
    "duration": 95,
    "start_time": "2025-04-30T14:46:46.807Z"
   },
   {
    "duration": 3499,
    "start_time": "2025-04-30T22:08:30.929Z"
   },
   {
    "duration": 1383,
    "start_time": "2025-04-30T22:08:34.430Z"
   },
   {
    "duration": 43,
    "start_time": "2025-04-30T22:08:35.815Z"
   },
   {
    "duration": 11,
    "start_time": "2025-04-30T22:08:35.860Z"
   },
   {
    "duration": 615,
    "start_time": "2025-04-30T22:08:35.872Z"
   },
   {
    "duration": 104,
    "start_time": "2025-04-30T22:08:36.489Z"
   },
   {
    "duration": 209,
    "start_time": "2025-04-30T22:08:36.594Z"
   },
   {
    "duration": 34,
    "start_time": "2025-04-30T22:08:36.804Z"
   },
   {
    "duration": 91,
    "start_time": "2025-04-30T22:08:36.840Z"
   },
   {
    "duration": 17,
    "start_time": "2025-04-30T22:08:36.934Z"
   },
   {
    "duration": 131,
    "start_time": "2025-04-30T22:08:36.961Z"
   },
   {
    "duration": 22,
    "start_time": "2025-04-30T22:08:37.093Z"
   },
   {
    "duration": 6,
    "start_time": "2025-04-30T22:08:37.117Z"
   },
   {
    "duration": 7,
    "start_time": "2025-04-30T22:08:37.124Z"
   },
   {
    "duration": 179,
    "start_time": "2025-04-30T22:08:37.133Z"
   },
   {
    "duration": 6,
    "start_time": "2025-04-30T22:08:37.314Z"
   },
   {
    "duration": 77,
    "start_time": "2025-04-30T22:08:37.322Z"
   },
   {
    "duration": 32,
    "start_time": "2025-04-30T22:08:37.400Z"
   },
   {
    "duration": 31,
    "start_time": "2025-04-30T22:08:37.434Z"
   },
   {
    "duration": 15,
    "start_time": "2025-04-30T22:08:37.466Z"
   },
   {
    "duration": 61,
    "start_time": "2025-04-30T22:08:37.482Z"
   },
   {
    "duration": 187,
    "start_time": "2025-04-30T22:08:37.545Z"
   },
   {
    "duration": 71,
    "start_time": "2025-04-30T22:08:37.734Z"
   },
   {
    "duration": 14,
    "start_time": "2025-04-30T22:08:37.806Z"
   },
   {
    "duration": 4,
    "start_time": "2025-04-30T22:08:37.822Z"
   },
   {
    "duration": 108,
    "start_time": "2025-04-30T22:08:37.828Z"
   },
   {
    "duration": 6,
    "start_time": "2025-04-30T22:08:37.938Z"
   },
   {
    "duration": 153,
    "start_time": "2025-04-30T22:11:38.618Z"
   },
   {
    "duration": 5,
    "start_time": "2025-04-30T22:15:14.811Z"
   },
   {
    "duration": 35,
    "start_time": "2025-04-30T22:16:58.083Z"
   },
   {
    "duration": 37,
    "start_time": "2025-04-30T22:41:02.497Z"
   },
   {
    "duration": 25,
    "start_time": "2025-04-30T22:42:06.115Z"
   },
   {
    "duration": 26,
    "start_time": "2025-04-30T22:43:09.272Z"
   },
   {
    "duration": 65,
    "start_time": "2025-04-30T22:44:19.462Z"
   },
   {
    "duration": 117,
    "start_time": "2025-04-30T22:46:55.288Z"
   },
   {
    "duration": 57,
    "start_time": "2025-04-30T22:47:03.453Z"
   },
   {
    "duration": 88,
    "start_time": "2025-04-30T22:47:16.404Z"
   },
   {
    "duration": 61,
    "start_time": "2025-04-30T22:48:08.061Z"
   },
   {
    "duration": 63,
    "start_time": "2025-04-30T22:50:34.687Z"
   },
   {
    "duration": 10,
    "start_time": "2025-05-01T00:36:46.802Z"
   },
   {
    "duration": 92,
    "start_time": "2025-05-01T01:21:55.944Z"
   },
   {
    "duration": 163,
    "start_time": "2025-05-01T01:22:43.062Z"
   },
   {
    "duration": 175,
    "start_time": "2025-05-01T01:45:32.338Z"
   },
   {
    "duration": 1589,
    "start_time": "2025-05-01T01:45:42.876Z"
   },
   {
    "duration": 105,
    "start_time": "2025-05-01T01:46:27.977Z"
   },
   {
    "duration": 120,
    "start_time": "2025-05-01T01:46:35.679Z"
   },
   {
    "duration": 107,
    "start_time": "2025-05-01T01:49:41.375Z"
   },
   {
    "duration": 8,
    "start_time": "2025-05-01T01:50:04.166Z"
   },
   {
    "duration": 19,
    "start_time": "2025-05-01T01:50:09.529Z"
   },
   {
    "duration": 103,
    "start_time": "2025-05-01T01:51:22.988Z"
   },
   {
    "duration": 119,
    "start_time": "2025-05-01T01:52:44.249Z"
   },
   {
    "duration": 117,
    "start_time": "2025-05-01T01:54:26.624Z"
   },
   {
    "duration": 6,
    "start_time": "2025-05-01T01:54:39.553Z"
   },
   {
    "duration": 6,
    "start_time": "2025-05-01T01:55:01.214Z"
   },
   {
    "duration": 9,
    "start_time": "2025-05-01T01:55:05.901Z"
   },
   {
    "duration": 18,
    "start_time": "2025-05-01T01:56:42.578Z"
   },
   {
    "duration": 106,
    "start_time": "2025-05-01T01:56:56.721Z"
   },
   {
    "duration": 7,
    "start_time": "2025-05-01T01:57:06.550Z"
   },
   {
    "duration": 123,
    "start_time": "2025-05-01T02:04:48.199Z"
   },
   {
    "duration": 119,
    "start_time": "2025-05-01T02:05:13.206Z"
   },
   {
    "duration": 122,
    "start_time": "2025-05-01T02:05:31.263Z"
   },
   {
    "duration": 8,
    "start_time": "2025-05-01T02:14:15.164Z"
   },
   {
    "duration": 1514,
    "start_time": "2025-05-01T02:27:26.848Z"
   },
   {
    "duration": 30,
    "start_time": "2025-05-01T02:27:51.679Z"
   },
   {
    "duration": 37,
    "start_time": "2025-05-01T02:28:09.108Z"
   },
   {
    "duration": 36,
    "start_time": "2025-05-01T02:28:56.058Z"
   },
   {
    "duration": 37,
    "start_time": "2025-05-01T02:29:52.455Z"
   },
   {
    "duration": 106,
    "start_time": "2025-05-01T02:32:20.270Z"
   },
   {
    "duration": 102,
    "start_time": "2025-05-01T02:32:32.652Z"
   },
   {
    "duration": 2291,
    "start_time": "2025-05-01T02:34:37.302Z"
   },
   {
    "duration": 1199,
    "start_time": "2025-05-01T02:34:39.596Z"
   },
   {
    "duration": 31,
    "start_time": "2025-05-01T02:34:40.796Z"
   },
   {
    "duration": 11,
    "start_time": "2025-05-01T02:34:40.828Z"
   },
   {
    "duration": 646,
    "start_time": "2025-05-01T02:34:40.841Z"
   },
   {
    "duration": 106,
    "start_time": "2025-05-01T02:34:41.488Z"
   },
   {
    "duration": 218,
    "start_time": "2025-05-01T02:34:41.596Z"
   },
   {
    "duration": 48,
    "start_time": "2025-05-01T02:34:41.815Z"
   },
   {
    "duration": 98,
    "start_time": "2025-05-01T02:34:41.864Z"
   },
   {
    "duration": 18,
    "start_time": "2025-05-01T02:34:41.964Z"
   },
   {
    "duration": 113,
    "start_time": "2025-05-01T02:34:41.983Z"
   },
   {
    "duration": 24,
    "start_time": "2025-05-01T02:34:42.098Z"
   },
   {
    "duration": 15,
    "start_time": "2025-05-01T02:34:42.124Z"
   },
   {
    "duration": 19,
    "start_time": "2025-05-01T02:34:42.142Z"
   },
   {
    "duration": 189,
    "start_time": "2025-05-01T02:34:42.162Z"
   },
   {
    "duration": 11,
    "start_time": "2025-05-01T02:34:42.352Z"
   },
   {
    "duration": 76,
    "start_time": "2025-05-01T02:34:42.364Z"
   },
   {
    "duration": 58,
    "start_time": "2025-05-01T02:34:42.442Z"
   },
   {
    "duration": 24,
    "start_time": "2025-05-01T02:34:42.501Z"
   },
   {
    "duration": 36,
    "start_time": "2025-05-01T02:34:42.527Z"
   },
   {
    "duration": 63,
    "start_time": "2025-05-01T02:34:42.565Z"
   },
   {
    "duration": 195,
    "start_time": "2025-05-01T02:34:42.630Z"
   },
   {
    "duration": 143,
    "start_time": "2025-05-01T02:34:42.828Z"
   },
   {
    "duration": 7,
    "start_time": "2025-05-01T02:34:42.973Z"
   },
   {
    "duration": 20,
    "start_time": "2025-05-01T02:34:42.982Z"
   },
   {
    "duration": 124,
    "start_time": "2025-05-01T02:34:43.004Z"
   },
   {
    "duration": 76,
    "start_time": "2025-05-01T02:34:43.129Z"
   },
   {
    "duration": 14,
    "start_time": "2025-05-01T02:34:43.206Z"
   },
   {
    "duration": 90,
    "start_time": "2025-05-01T02:34:43.221Z"
   },
   {
    "duration": 14,
    "start_time": "2025-05-01T02:34:43.312Z"
   },
   {
    "duration": 13,
    "start_time": "2025-05-01T02:34:43.327Z"
   },
   {
    "duration": 185,
    "start_time": "2025-05-01T02:34:43.341Z"
   },
   {
    "duration": 62,
    "start_time": "2025-05-01T02:34:43.527Z"
   },
   {
    "duration": 7721,
    "start_time": "2025-05-01T03:15:07.686Z"
   },
   {
    "duration": 1863,
    "start_time": "2025-05-01T03:15:15.410Z"
   },
   {
    "duration": 73,
    "start_time": "2025-05-01T03:15:17.274Z"
   },
   {
    "duration": 15,
    "start_time": "2025-05-01T03:15:17.349Z"
   },
   {
    "duration": 805,
    "start_time": "2025-05-01T03:15:17.368Z"
   },
   {
    "duration": 113,
    "start_time": "2025-05-01T03:15:18.175Z"
   },
   {
    "duration": 242,
    "start_time": "2025-05-01T03:15:18.290Z"
   },
   {
    "duration": 41,
    "start_time": "2025-05-01T03:15:18.534Z"
   },
   {
    "duration": 112,
    "start_time": "2025-05-01T03:15:18.577Z"
   },
   {
    "duration": 23,
    "start_time": "2025-05-01T03:15:18.690Z"
   },
   {
    "duration": 132,
    "start_time": "2025-05-01T03:15:18.715Z"
   },
   {
    "duration": 26,
    "start_time": "2025-05-01T03:15:18.849Z"
   },
   {
    "duration": 93,
    "start_time": "2025-05-01T03:15:18.877Z"
   },
   {
    "duration": 53,
    "start_time": "2025-05-01T03:15:18.973Z"
   },
   {
    "duration": 203,
    "start_time": "2025-05-01T03:15:19.028Z"
   },
   {
    "duration": 9,
    "start_time": "2025-05-01T03:15:19.233Z"
   },
   {
    "duration": 91,
    "start_time": "2025-05-01T03:15:19.244Z"
   },
   {
    "duration": 41,
    "start_time": "2025-05-01T03:15:19.337Z"
   },
   {
    "duration": 44,
    "start_time": "2025-05-01T03:15:19.380Z"
   },
   {
    "duration": 38,
    "start_time": "2025-05-01T03:15:19.425Z"
   },
   {
    "duration": 76,
    "start_time": "2025-05-01T03:15:19.464Z"
   },
   {
    "duration": 204,
    "start_time": "2025-05-01T03:15:19.542Z"
   },
   {
    "duration": 157,
    "start_time": "2025-05-01T03:15:19.748Z"
   },
   {
    "duration": 8,
    "start_time": "2025-05-01T03:15:19.907Z"
   },
   {
    "duration": 68,
    "start_time": "2025-05-01T03:15:19.917Z"
   },
   {
    "duration": 260,
    "start_time": "2025-05-01T03:15:19.987Z"
   },
   {
    "duration": 86,
    "start_time": "2025-05-01T03:15:20.248Z"
   },
   {
    "duration": 31,
    "start_time": "2025-05-01T03:15:20.335Z"
   },
   {
    "duration": 10289,
    "start_time": "2025-05-01T03:15:20.367Z"
   },
   {
    "duration": 0,
    "start_time": "2025-05-01T03:15:30.658Z"
   },
   {
    "duration": 0,
    "start_time": "2025-05-01T03:15:30.659Z"
   },
   {
    "duration": 0,
    "start_time": "2025-05-01T03:15:30.661Z"
   },
   {
    "duration": 0,
    "start_time": "2025-05-01T03:15:30.662Z"
   },
   {
    "duration": 0,
    "start_time": "2025-05-01T03:15:30.663Z"
   },
   {
    "duration": 0,
    "start_time": "2025-05-01T03:15:30.665Z"
   },
   {
    "duration": 2938,
    "start_time": "2025-05-01T03:16:29.156Z"
   },
   {
    "duration": 3,
    "start_time": "2025-05-01T03:16:32.097Z"
   },
   {
    "duration": 94,
    "start_time": "2025-05-01T03:16:32.102Z"
   },
   {
    "duration": 48,
    "start_time": "2025-05-01T03:16:32.198Z"
   },
   {
    "duration": 746,
    "start_time": "2025-05-01T03:16:32.248Z"
   },
   {
    "duration": 121,
    "start_time": "2025-05-01T03:16:32.995Z"
   },
   {
    "duration": 229,
    "start_time": "2025-05-01T03:16:33.118Z"
   },
   {
    "duration": 42,
    "start_time": "2025-05-01T03:16:33.349Z"
   },
   {
    "duration": 124,
    "start_time": "2025-05-01T03:16:33.393Z"
   },
   {
    "duration": 20,
    "start_time": "2025-05-01T03:16:33.519Z"
   },
   {
    "duration": 115,
    "start_time": "2025-05-01T03:16:33.541Z"
   },
   {
    "duration": 26,
    "start_time": "2025-05-01T03:16:33.658Z"
   },
   {
    "duration": 19,
    "start_time": "2025-05-01T03:16:33.686Z"
   },
   {
    "duration": 8,
    "start_time": "2025-05-01T03:16:33.709Z"
   },
   {
    "duration": 169,
    "start_time": "2025-05-01T03:16:33.719Z"
   },
   {
    "duration": 8,
    "start_time": "2025-05-01T03:16:33.890Z"
   },
   {
    "duration": 91,
    "start_time": "2025-05-01T03:16:33.899Z"
   },
   {
    "duration": 39,
    "start_time": "2025-05-01T03:16:33.992Z"
   },
   {
    "duration": 73,
    "start_time": "2025-05-01T03:16:34.032Z"
   },
   {
    "duration": 26,
    "start_time": "2025-05-01T03:16:34.106Z"
   },
   {
    "duration": 65,
    "start_time": "2025-05-01T03:16:34.133Z"
   },
   {
    "duration": 225,
    "start_time": "2025-05-01T03:16:34.200Z"
   },
   {
    "duration": 155,
    "start_time": "2025-05-01T03:16:34.427Z"
   },
   {
    "duration": 33,
    "start_time": "2025-05-01T03:16:34.584Z"
   },
   {
    "duration": 18,
    "start_time": "2025-05-01T03:16:34.619Z"
   },
   {
    "duration": 129,
    "start_time": "2025-05-01T03:16:34.638Z"
   },
   {
    "duration": 84,
    "start_time": "2025-05-01T03:16:34.769Z"
   },
   {
    "duration": 2972,
    "start_time": "2025-05-01T03:16:34.855Z"
   },
   {
    "duration": 18,
    "start_time": "2025-05-01T03:16:37.829Z"
   },
   {
    "duration": 106,
    "start_time": "2025-05-01T03:16:37.849Z"
   },
   {
    "duration": 16,
    "start_time": "2025-05-01T03:16:37.957Z"
   },
   {
    "duration": 9,
    "start_time": "2025-05-01T03:16:37.976Z"
   },
   {
    "duration": 5655,
    "start_time": "2025-05-01T03:16:37.987Z"
   },
   {
    "duration": 188,
    "start_time": "2025-05-01T03:16:43.644Z"
   },
   {
    "duration": 42,
    "start_time": "2025-05-01T03:16:43.833Z"
   },
   {
    "duration": 1275,
    "start_time": "2025-05-01T12:49:59.931Z"
   },
   {
    "duration": 73,
    "start_time": "2025-05-01T12:50:01.208Z"
   },
   {
    "duration": 0,
    "start_time": "2025-05-01T12:50:01.284Z"
   },
   {
    "duration": 0,
    "start_time": "2025-05-01T12:50:01.286Z"
   },
   {
    "duration": 0,
    "start_time": "2025-05-01T12:50:01.288Z"
   },
   {
    "duration": 0,
    "start_time": "2025-05-01T12:50:01.289Z"
   },
   {
    "duration": 0,
    "start_time": "2025-05-01T12:50:01.291Z"
   },
   {
    "duration": 0,
    "start_time": "2025-05-01T12:50:01.292Z"
   },
   {
    "duration": 0,
    "start_time": "2025-05-01T12:50:01.294Z"
   },
   {
    "duration": 0,
    "start_time": "2025-05-01T12:50:01.295Z"
   },
   {
    "duration": 0,
    "start_time": "2025-05-01T12:50:01.297Z"
   },
   {
    "duration": 0,
    "start_time": "2025-05-01T12:50:01.299Z"
   },
   {
    "duration": 0,
    "start_time": "2025-05-01T12:50:01.300Z"
   },
   {
    "duration": 0,
    "start_time": "2025-05-01T12:50:01.302Z"
   },
   {
    "duration": 0,
    "start_time": "2025-05-01T12:50:01.304Z"
   },
   {
    "duration": 0,
    "start_time": "2025-05-01T12:50:01.306Z"
   },
   {
    "duration": 0,
    "start_time": "2025-05-01T12:50:01.307Z"
   },
   {
    "duration": 0,
    "start_time": "2025-05-01T12:50:01.308Z"
   },
   {
    "duration": 0,
    "start_time": "2025-05-01T12:50:01.310Z"
   },
   {
    "duration": 0,
    "start_time": "2025-05-01T12:50:01.311Z"
   },
   {
    "duration": 0,
    "start_time": "2025-05-01T12:50:01.313Z"
   },
   {
    "duration": 0,
    "start_time": "2025-05-01T12:50:01.314Z"
   },
   {
    "duration": 0,
    "start_time": "2025-05-01T12:50:01.316Z"
   },
   {
    "duration": 0,
    "start_time": "2025-05-01T12:50:01.317Z"
   },
   {
    "duration": 0,
    "start_time": "2025-05-01T12:50:01.319Z"
   },
   {
    "duration": 0,
    "start_time": "2025-05-01T12:50:01.320Z"
   },
   {
    "duration": 0,
    "start_time": "2025-05-01T12:50:01.321Z"
   },
   {
    "duration": 0,
    "start_time": "2025-05-01T12:50:01.322Z"
   },
   {
    "duration": 0,
    "start_time": "2025-05-01T12:50:01.323Z"
   },
   {
    "duration": 0,
    "start_time": "2025-05-01T12:50:01.376Z"
   },
   {
    "duration": 0,
    "start_time": "2025-05-01T12:50:01.378Z"
   },
   {
    "duration": 0,
    "start_time": "2025-05-01T12:50:01.379Z"
   },
   {
    "duration": 0,
    "start_time": "2025-05-01T12:50:01.380Z"
   },
   {
    "duration": 0,
    "start_time": "2025-05-01T12:50:01.382Z"
   },
   {
    "duration": 0,
    "start_time": "2025-05-01T12:50:01.383Z"
   },
   {
    "duration": 73,
    "start_time": "2025-05-01T12:53:41.750Z"
   },
   {
    "duration": 3324,
    "start_time": "2025-05-01T12:54:09.690Z"
   },
   {
    "duration": 56,
    "start_time": "2025-05-01T13:00:29.972Z"
   },
   {
    "duration": 2,
    "start_time": "2025-05-01T13:05:15.099Z"
   },
   {
    "duration": 1262,
    "start_time": "2025-05-01T13:18:29.950Z"
   },
   {
    "duration": 46,
    "start_time": "2025-05-01T13:18:31.214Z"
   },
   {
    "duration": 2,
    "start_time": "2025-05-01T13:18:31.262Z"
   },
   {
    "duration": 109,
    "start_time": "2025-05-01T13:18:31.265Z"
   },
   {
    "duration": 15,
    "start_time": "2025-05-01T13:18:31.377Z"
   },
   {
    "duration": 912,
    "start_time": "2025-05-01T13:18:31.394Z"
   },
   {
    "duration": 100,
    "start_time": "2025-05-01T13:18:32.308Z"
   },
   {
    "duration": 221,
    "start_time": "2025-05-01T13:18:32.410Z"
   },
   {
    "duration": 44,
    "start_time": "2025-05-01T13:18:32.633Z"
   },
   {
    "duration": 119,
    "start_time": "2025-05-01T13:18:32.679Z"
   },
   {
    "duration": 21,
    "start_time": "2025-05-01T13:18:32.800Z"
   },
   {
    "duration": 118,
    "start_time": "2025-05-01T13:18:32.823Z"
   },
   {
    "duration": 25,
    "start_time": "2025-05-01T13:18:32.943Z"
   },
   {
    "duration": 12,
    "start_time": "2025-05-01T13:18:32.978Z"
   },
   {
    "duration": 29,
    "start_time": "2025-05-01T13:18:32.992Z"
   },
   {
    "duration": 249,
    "start_time": "2025-05-01T13:18:33.023Z"
   },
   {
    "duration": 7,
    "start_time": "2025-05-01T13:18:33.274Z"
   },
   {
    "duration": 208,
    "start_time": "2025-05-01T13:18:33.282Z"
   },
   {
    "duration": 34,
    "start_time": "2025-05-01T13:18:33.492Z"
   },
   {
    "duration": 58,
    "start_time": "2025-05-01T13:18:33.528Z"
   },
   {
    "duration": 27,
    "start_time": "2025-05-01T13:18:33.587Z"
   },
   {
    "duration": 76,
    "start_time": "2025-05-01T13:18:33.615Z"
   },
   {
    "duration": 189,
    "start_time": "2025-05-01T13:18:33.693Z"
   },
   {
    "duration": 144,
    "start_time": "2025-05-01T13:18:33.884Z"
   },
   {
    "duration": 7,
    "start_time": "2025-05-01T13:18:34.030Z"
   },
   {
    "duration": 14,
    "start_time": "2025-05-01T13:18:34.039Z"
   },
   {
    "duration": 129,
    "start_time": "2025-05-01T13:18:34.055Z"
   },
   {
    "duration": 78,
    "start_time": "2025-05-01T13:18:34.186Z"
   },
   {
    "duration": 8268,
    "start_time": "2025-05-01T13:18:34.276Z"
   },
   {
    "duration": 23,
    "start_time": "2025-05-01T13:18:42.545Z"
   },
   {
    "duration": 117,
    "start_time": "2025-05-01T13:18:42.569Z"
   },
   {
    "duration": 15,
    "start_time": "2025-05-01T13:18:42.687Z"
   },
   {
    "duration": 17,
    "start_time": "2025-05-01T13:18:42.704Z"
   },
   {
    "duration": 4867,
    "start_time": "2025-05-01T13:18:42.723Z"
   },
   {
    "duration": 183,
    "start_time": "2025-05-01T13:18:47.592Z"
   },
   {
    "duration": 39,
    "start_time": "2025-05-01T13:18:47.777Z"
   },
   {
    "duration": 18,
    "start_time": "2025-05-01T14:11:40.088Z"
   },
   {
    "duration": 201,
    "start_time": "2025-05-01T14:22:20.793Z"
   },
   {
    "duration": 199,
    "start_time": "2025-05-01T14:22:29.050Z"
   },
   {
    "duration": 123,
    "start_time": "2025-05-01T14:53:15.142Z"
   },
   {
    "duration": 79,
    "start_time": "2025-05-01T14:54:14.606Z"
   },
   {
    "duration": 100,
    "start_time": "2025-05-01T14:58:15.542Z"
   },
   {
    "duration": 85,
    "start_time": "2025-05-01T15:06:24.155Z"
   },
   {
    "duration": 765,
    "start_time": "2025-05-01T15:06:33.542Z"
   },
   {
    "duration": 191,
    "start_time": "2025-05-01T15:06:53.930Z"
   },
   {
    "duration": 41,
    "start_time": "2025-05-01T15:07:28.688Z"
   },
   {
    "duration": 84,
    "start_time": "2025-05-01T15:23:08.539Z"
   },
   {
    "duration": 14,
    "start_time": "2025-05-01T15:28:28.094Z"
   },
   {
    "duration": 11,
    "start_time": "2025-05-01T15:29:23.647Z"
   },
   {
    "duration": 12,
    "start_time": "2025-05-01T15:29:43.298Z"
   },
   {
    "duration": 13,
    "start_time": "2025-05-01T15:29:51.618Z"
   },
   {
    "duration": 13,
    "start_time": "2025-05-01T15:30:33.153Z"
   },
   {
    "duration": 6,
    "start_time": "2025-05-01T15:48:20.686Z"
   },
   {
    "duration": 15,
    "start_time": "2025-05-01T15:52:23.742Z"
   },
   {
    "duration": 16,
    "start_time": "2025-05-01T15:52:53.697Z"
   },
   {
    "duration": 8,
    "start_time": "2025-05-01T15:53:02.468Z"
   },
   {
    "duration": 12,
    "start_time": "2025-05-01T15:57:47.721Z"
   },
   {
    "duration": 6,
    "start_time": "2025-05-01T15:57:55.968Z"
   },
   {
    "duration": 15,
    "start_time": "2025-05-01T16:05:11.914Z"
   },
   {
    "duration": 19,
    "start_time": "2025-05-01T16:05:35.892Z"
   },
   {
    "duration": 14,
    "start_time": "2025-05-01T16:05:54.355Z"
   },
   {
    "duration": 6,
    "start_time": "2025-05-01T16:06:05.002Z"
   },
   {
    "duration": 80,
    "start_time": "2025-05-01T16:07:14.162Z"
   },
   {
    "duration": 14,
    "start_time": "2025-05-01T16:11:55.325Z"
   },
   {
    "duration": 47,
    "start_time": "2025-05-01T16:17:29.996Z"
   },
   {
    "duration": 21,
    "start_time": "2025-05-01T16:23:32.118Z"
   },
   {
    "duration": 12,
    "start_time": "2025-05-01T16:23:43.786Z"
   },
   {
    "duration": 18,
    "start_time": "2025-05-01T16:27:26.985Z"
   },
   {
    "duration": 21,
    "start_time": "2025-05-01T16:28:40.182Z"
   },
   {
    "duration": 43,
    "start_time": "2025-05-01T16:39:23.311Z"
   },
   {
    "duration": 16,
    "start_time": "2025-05-01T16:39:52.233Z"
   },
   {
    "duration": 53,
    "start_time": "2025-05-01T21:03:32.885Z"
   },
   {
    "duration": 1470,
    "start_time": "2025-05-01T21:03:46.952Z"
   },
   {
    "duration": 5,
    "start_time": "2025-05-01T21:03:48.424Z"
   },
   {
    "duration": 24,
    "start_time": "2025-05-01T21:03:48.431Z"
   },
   {
    "duration": 75,
    "start_time": "2025-05-01T21:03:48.457Z"
   },
   {
    "duration": 15,
    "start_time": "2025-05-01T21:03:48.536Z"
   },
   {
    "duration": 811,
    "start_time": "2025-05-01T21:03:48.553Z"
   },
   {
    "duration": 111,
    "start_time": "2025-05-01T21:03:49.366Z"
   },
   {
    "duration": 229,
    "start_time": "2025-05-01T21:03:49.479Z"
   },
   {
    "duration": 42,
    "start_time": "2025-05-01T21:03:49.709Z"
   },
   {
    "duration": 176,
    "start_time": "2025-05-01T21:03:49.761Z"
   },
   {
    "duration": 22,
    "start_time": "2025-05-01T21:03:49.939Z"
   },
   {
    "duration": 214,
    "start_time": "2025-05-01T21:03:49.963Z"
   },
   {
    "duration": 26,
    "start_time": "2025-05-01T21:03:50.179Z"
   },
   {
    "duration": 6,
    "start_time": "2025-05-01T21:03:50.208Z"
   },
   {
    "duration": 25,
    "start_time": "2025-05-01T21:03:50.216Z"
   },
   {
    "duration": 196,
    "start_time": "2025-05-01T21:03:50.242Z"
   },
   {
    "duration": 22,
    "start_time": "2025-05-01T21:03:50.439Z"
   },
   {
    "duration": 7,
    "start_time": "2025-05-01T21:03:50.462Z"
   },
   {
    "duration": 90,
    "start_time": "2025-05-01T21:03:50.471Z"
   },
   {
    "duration": 37,
    "start_time": "2025-05-01T21:03:50.563Z"
   },
   {
    "duration": 21,
    "start_time": "2025-05-01T21:03:50.601Z"
   },
   {
    "duration": 19,
    "start_time": "2025-05-01T21:03:50.624Z"
   },
   {
    "duration": 31,
    "start_time": "2025-05-01T21:03:50.645Z"
   },
   {
    "duration": 29,
    "start_time": "2025-05-01T21:03:50.678Z"
   },
   {
    "duration": 78,
    "start_time": "2025-05-01T21:03:50.708Z"
   },
   {
    "duration": 224,
    "start_time": "2025-05-01T21:03:50.787Z"
   },
   {
    "duration": 152,
    "start_time": "2025-05-01T21:03:51.013Z"
   },
   {
    "duration": 9,
    "start_time": "2025-05-01T21:03:51.166Z"
   },
   {
    "duration": 31,
    "start_time": "2025-05-01T21:03:51.177Z"
   },
   {
    "duration": 152,
    "start_time": "2025-05-01T21:03:51.210Z"
   },
   {
    "duration": 99,
    "start_time": "2025-05-01T21:03:51.364Z"
   },
   {
    "duration": 78,
    "start_time": "2025-05-01T21:03:51.464Z"
   },
   {
    "duration": 9219,
    "start_time": "2025-05-01T21:03:51.543Z"
   },
   {
    "duration": 22,
    "start_time": "2025-05-01T21:04:00.764Z"
   },
   {
    "duration": 286,
    "start_time": "2025-05-01T21:04:00.788Z"
   },
   {
    "duration": 16,
    "start_time": "2025-05-01T21:04:01.075Z"
   },
   {
    "duration": 96,
    "start_time": "2025-05-01T21:04:01.093Z"
   },
   {
    "duration": 5394,
    "start_time": "2025-05-01T21:04:01.191Z"
   },
   {
    "duration": 460,
    "start_time": "2025-05-01T21:04:06.588Z"
   },
   {
    "duration": 49,
    "start_time": "2025-05-01T21:04:07.050Z"
   },
   {
    "duration": 74,
    "start_time": "2025-05-01T21:04:23.901Z"
   },
   {
    "duration": 3482,
    "start_time": "2025-05-01T21:04:31.610Z"
   },
   {
    "duration": 60,
    "start_time": "2025-05-01T21:16:20.681Z"
   },
   {
    "duration": 95,
    "start_time": "2025-05-01T21:16:29.014Z"
   },
   {
    "duration": 35,
    "start_time": "2025-05-01T21:17:00.772Z"
   },
   {
    "duration": 51,
    "start_time": "2025-05-01T21:19:06.453Z"
   },
   {
    "duration": 38,
    "start_time": "2025-05-01T21:22:07.291Z"
   },
   {
    "duration": 25,
    "start_time": "2025-05-01T21:23:54.979Z"
   },
   {
    "duration": 37,
    "start_time": "2025-05-01T21:44:56.342Z"
   },
   {
    "duration": 2,
    "start_time": "2025-05-01T21:46:19.604Z"
   },
   {
    "duration": 84,
    "start_time": "2025-05-01T21:46:25.058Z"
   },
   {
    "duration": 34,
    "start_time": "2025-05-01T21:46:45.183Z"
   },
   {
    "duration": 23,
    "start_time": "2025-05-01T21:49:04.544Z"
   },
   {
    "duration": 143,
    "start_time": "2025-05-01T21:58:43.830Z"
   },
   {
    "duration": 120,
    "start_time": "2025-05-01T21:59:10.455Z"
   },
   {
    "duration": 152,
    "start_time": "2025-05-01T22:04:51.221Z"
   },
   {
    "duration": 142,
    "start_time": "2025-05-01T22:06:19.249Z"
   },
   {
    "duration": 11,
    "start_time": "2025-05-01T22:07:15.381Z"
   },
   {
    "duration": 10,
    "start_time": "2025-05-01T22:07:22.400Z"
   },
   {
    "duration": 21,
    "start_time": "2025-05-01T22:49:45.278Z"
   },
   {
    "duration": 5,
    "start_time": "2025-05-01T22:50:57.523Z"
   },
   {
    "duration": 15,
    "start_time": "2025-05-01T22:53:07.376Z"
   },
   {
    "duration": 19,
    "start_time": "2025-05-01T23:04:50.635Z"
   },
   {
    "duration": 222,
    "start_time": "2025-05-01T23:14:09.586Z"
   },
   {
    "duration": 119,
    "start_time": "2025-05-01T23:15:22.662Z"
   },
   {
    "duration": 142,
    "start_time": "2025-05-01T23:15:48.758Z"
   },
   {
    "duration": 126,
    "start_time": "2025-05-01T23:21:57.238Z"
   },
   {
    "duration": 118,
    "start_time": "2025-05-01T23:22:13.834Z"
   },
   {
    "duration": 81,
    "start_time": "2025-05-01T23:28:33.312Z"
   },
   {
    "duration": 159,
    "start_time": "2025-05-01T23:29:00.988Z"
   },
   {
    "duration": 128,
    "start_time": "2025-05-01T23:29:11.449Z"
   },
   {
    "duration": 155,
    "start_time": "2025-05-01T23:29:25.772Z"
   },
   {
    "duration": 153,
    "start_time": "2025-05-01T23:29:45.982Z"
   },
   {
    "duration": 169,
    "start_time": "2025-05-01T23:33:51.577Z"
   },
   {
    "duration": 4,
    "start_time": "2025-05-01T23:44:04.687Z"
   },
   {
    "duration": 4,
    "start_time": "2025-05-01T23:44:40.956Z"
   },
   {
    "duration": 4,
    "start_time": "2025-05-02T00:14:39.346Z"
   },
   {
    "duration": 29,
    "start_time": "2025-05-02T00:15:00.688Z"
   },
   {
    "duration": 30,
    "start_time": "2025-05-02T00:15:04.916Z"
   },
   {
    "duration": 40,
    "start_time": "2025-05-02T00:17:06.718Z"
   },
   {
    "duration": 1231,
    "start_time": "2025-05-02T00:18:56.004Z"
   },
   {
    "duration": 11,
    "start_time": "2025-05-02T00:19:19.283Z"
   },
   {
    "duration": 20,
    "start_time": "2025-05-02T00:20:05.062Z"
   },
   {
    "duration": 19,
    "start_time": "2025-05-02T00:20:55.134Z"
   },
   {
    "duration": 21,
    "start_time": "2025-05-02T00:21:13.130Z"
   },
   {
    "duration": 16,
    "start_time": "2025-05-02T00:21:33.134Z"
   },
   {
    "duration": 16,
    "start_time": "2025-05-02T00:22:01.251Z"
   },
   {
    "duration": 14,
    "start_time": "2025-05-02T00:22:37.215Z"
   },
   {
    "duration": 15,
    "start_time": "2025-05-02T00:22:58.723Z"
   },
   {
    "duration": 16,
    "start_time": "2025-05-02T00:23:06.143Z"
   },
   {
    "duration": 17,
    "start_time": "2025-05-02T00:23:26.052Z"
   },
   {
    "duration": 15,
    "start_time": "2025-05-02T00:37:26.238Z"
   },
   {
    "duration": 11,
    "start_time": "2025-05-02T00:37:29.470Z"
   },
   {
    "duration": 122,
    "start_time": "2025-05-02T00:38:15.925Z"
   },
   {
    "duration": 134,
    "start_time": "2025-05-02T00:41:43.664Z"
   },
   {
    "duration": 245,
    "start_time": "2025-05-02T00:44:57.780Z"
   },
   {
    "duration": 11,
    "start_time": "2025-05-02T00:45:39.856Z"
   },
   {
    "duration": 11,
    "start_time": "2025-05-02T00:45:48.459Z"
   },
   {
    "duration": 134,
    "start_time": "2025-05-02T00:52:12.743Z"
   },
   {
    "duration": 9,
    "start_time": "2025-05-02T00:53:29.475Z"
   },
   {
    "duration": 11,
    "start_time": "2025-05-02T00:56:11.919Z"
   },
   {
    "duration": 8,
    "start_time": "2025-05-02T00:57:01.586Z"
   },
   {
    "duration": 8,
    "start_time": "2025-05-02T00:58:25.793Z"
   },
   {
    "duration": 5,
    "start_time": "2025-05-02T01:04:53.080Z"
   },
   {
    "duration": 26,
    "start_time": "2025-05-02T01:31:10.109Z"
   },
   {
    "duration": 15,
    "start_time": "2025-05-02T01:33:04.894Z"
   },
   {
    "duration": 60,
    "start_time": "2025-05-02T01:35:34.386Z"
   },
   {
    "duration": 52,
    "start_time": "2025-05-02T01:39:39.646Z"
   },
   {
    "duration": 57,
    "start_time": "2025-05-02T01:40:09.525Z"
   },
   {
    "duration": 11,
    "start_time": "2025-05-02T01:42:13.955Z"
   },
   {
    "duration": 10,
    "start_time": "2025-05-02T01:48:55.095Z"
   },
   {
    "duration": 6,
    "start_time": "2025-05-02T01:49:09.641Z"
   },
   {
    "duration": 5,
    "start_time": "2025-05-02T01:49:24.797Z"
   },
   {
    "duration": 6,
    "start_time": "2025-05-02T01:49:51.397Z"
   },
   {
    "duration": 6,
    "start_time": "2025-05-02T01:51:25.310Z"
   },
   {
    "duration": 6,
    "start_time": "2025-05-02T01:51:33.000Z"
   },
   {
    "duration": 6,
    "start_time": "2025-05-02T01:51:49.951Z"
   },
   {
    "duration": 5,
    "start_time": "2025-05-02T02:03:05.695Z"
   },
   {
    "duration": 6,
    "start_time": "2025-05-02T02:07:16.449Z"
   },
   {
    "duration": 10,
    "start_time": "2025-05-02T02:08:47.747Z"
   },
   {
    "duration": 142,
    "start_time": "2025-05-02T02:09:00.751Z"
   },
   {
    "duration": 11,
    "start_time": "2025-05-02T02:11:25.231Z"
   },
   {
    "duration": 3,
    "start_time": "2025-05-02T02:11:33.266Z"
   },
   {
    "duration": 6,
    "start_time": "2025-05-02T02:11:35.653Z"
   },
   {
    "duration": 284,
    "start_time": "2025-05-02T02:11:36.269Z"
   },
   {
    "duration": 163,
    "start_time": "2025-05-02T02:12:05.768Z"
   },
   {
    "duration": 160,
    "start_time": "2025-05-02T02:13:06.510Z"
   },
   {
    "duration": 177,
    "start_time": "2025-05-02T02:13:16.571Z"
   },
   {
    "duration": 163,
    "start_time": "2025-05-02T02:13:27.624Z"
   },
   {
    "duration": 161,
    "start_time": "2025-05-02T02:14:03.977Z"
   },
   {
    "duration": 17,
    "start_time": "2025-05-02T02:27:27.476Z"
   },
   {
    "duration": 15,
    "start_time": "2025-05-02T02:28:28.332Z"
   },
   {
    "duration": 9,
    "start_time": "2025-05-02T02:28:48.860Z"
   },
   {
    "duration": 13,
    "start_time": "2025-05-02T02:29:53.466Z"
   },
   {
    "duration": 11,
    "start_time": "2025-05-02T02:35:59.115Z"
   },
   {
    "duration": 9,
    "start_time": "2025-05-02T02:38:02.658Z"
   },
   {
    "duration": 161,
    "start_time": "2025-05-02T02:39:03.687Z"
   },
   {
    "duration": 92,
    "start_time": "2025-05-02T02:44:18.804Z"
   },
   {
    "duration": 1237,
    "start_time": "2025-05-02T02:59:50.776Z"
   },
   {
    "duration": 3,
    "start_time": "2025-05-02T02:59:52.015Z"
   },
   {
    "duration": 79,
    "start_time": "2025-05-02T02:59:52.020Z"
   },
   {
    "duration": 2,
    "start_time": "2025-05-02T02:59:52.101Z"
   },
   {
    "duration": 58,
    "start_time": "2025-05-02T02:59:52.106Z"
   },
   {
    "duration": 12,
    "start_time": "2025-05-02T02:59:52.166Z"
   },
   {
    "duration": 717,
    "start_time": "2025-05-02T02:59:52.180Z"
   },
   {
    "duration": 103,
    "start_time": "2025-05-02T02:59:52.899Z"
   },
   {
    "duration": 240,
    "start_time": "2025-05-02T02:59:53.004Z"
   },
   {
    "duration": 41,
    "start_time": "2025-05-02T02:59:53.246Z"
   },
   {
    "duration": 113,
    "start_time": "2025-05-02T02:59:53.289Z"
   },
   {
    "duration": 20,
    "start_time": "2025-05-02T02:59:53.404Z"
   },
   {
    "duration": 128,
    "start_time": "2025-05-02T02:59:53.426Z"
   },
   {
    "duration": 26,
    "start_time": "2025-05-02T02:59:53.557Z"
   },
   {
    "duration": 77,
    "start_time": "2025-05-02T02:59:53.585Z"
   },
   {
    "duration": 70,
    "start_time": "2025-05-02T02:59:53.664Z"
   },
   {
    "duration": 401,
    "start_time": "2025-05-02T02:59:53.735Z"
   },
   {
    "duration": 23,
    "start_time": "2025-05-02T02:59:54.138Z"
   },
   {
    "duration": 39,
    "start_time": "2025-05-02T02:59:54.163Z"
   },
   {
    "duration": 109,
    "start_time": "2025-05-02T02:59:54.204Z"
   },
   {
    "duration": 38,
    "start_time": "2025-05-02T02:59:54.314Z"
   },
   {
    "duration": 30,
    "start_time": "2025-05-02T02:59:54.361Z"
   },
   {
    "duration": 84,
    "start_time": "2025-05-02T02:59:54.393Z"
   },
   {
    "duration": 38,
    "start_time": "2025-05-02T02:59:54.479Z"
   },
   {
    "duration": 32,
    "start_time": "2025-05-02T02:59:54.519Z"
   },
   {
    "duration": 105,
    "start_time": "2025-05-02T02:59:54.553Z"
   },
   {
    "duration": 234,
    "start_time": "2025-05-02T02:59:54.659Z"
   },
   {
    "duration": 149,
    "start_time": "2025-05-02T02:59:54.896Z"
   },
   {
    "duration": 16,
    "start_time": "2025-05-02T02:59:55.047Z"
   },
   {
    "duration": 32,
    "start_time": "2025-05-02T02:59:55.065Z"
   },
   {
    "duration": 127,
    "start_time": "2025-05-02T02:59:55.099Z"
   },
   {
    "duration": 89,
    "start_time": "2025-05-02T02:59:55.228Z"
   },
   {
    "duration": 80,
    "start_time": "2025-05-02T02:59:55.319Z"
   },
   {
    "duration": 2807,
    "start_time": "2025-05-02T02:59:55.401Z"
   },
   {
    "duration": 21,
    "start_time": "2025-05-02T02:59:58.210Z"
   },
   {
    "duration": 106,
    "start_time": "2025-05-02T02:59:58.232Z"
   },
   {
    "duration": 25,
    "start_time": "2025-05-02T02:59:58.340Z"
   },
   {
    "duration": 7,
    "start_time": "2025-05-02T02:59:58.367Z"
   },
   {
    "duration": 4722,
    "start_time": "2025-05-02T02:59:58.376Z"
   },
   {
    "duration": 439,
    "start_time": "2025-05-02T03:00:03.101Z"
   },
   {
    "duration": 47,
    "start_time": "2025-05-02T03:00:03.546Z"
   },
   {
    "duration": 422,
    "start_time": "2025-05-02T03:00:03.595Z"
   },
   {
    "duration": 29,
    "start_time": "2025-05-02T03:00:04.019Z"
   },
   {
    "duration": 44,
    "start_time": "2025-05-02T03:00:04.050Z"
   },
   {
    "duration": 25,
    "start_time": "2025-05-02T03:00:04.097Z"
   },
   {
    "duration": 13,
    "start_time": "2025-05-02T03:00:04.125Z"
   },
   {
    "duration": 39,
    "start_time": "2025-05-02T03:00:04.140Z"
   },
   {
    "duration": 12,
    "start_time": "2025-05-02T03:00:04.181Z"
   },
   {
    "duration": 192,
    "start_time": "2025-05-02T03:00:04.195Z"
   },
   {
    "duration": 4,
    "start_time": "2025-05-02T03:00:04.389Z"
   },
   {
    "duration": 167,
    "start_time": "2025-05-02T03:00:04.395Z"
   },
   {
    "duration": 49,
    "start_time": "2025-05-02T03:00:04.564Z"
   },
   {
    "duration": 15,
    "start_time": "2025-05-02T03:00:04.615Z"
   },
   {
    "duration": 50,
    "start_time": "2025-05-02T03:00:04.632Z"
   },
   {
    "duration": 252,
    "start_time": "2025-05-02T03:00:04.683Z"
   },
   {
    "duration": 10,
    "start_time": "2025-05-02T03:00:04.938Z"
   },
   {
    "duration": 133,
    "start_time": "2025-05-02T03:00:04.950Z"
   },
   {
    "duration": 70,
    "start_time": "2025-05-02T03:00:05.085Z"
   },
   {
    "duration": 7,
    "start_time": "2025-05-02T03:00:05.158Z"
   },
   {
    "duration": 18,
    "start_time": "2025-05-02T03:00:05.167Z"
   },
   {
    "duration": 24,
    "start_time": "2025-05-02T03:00:05.187Z"
   },
   {
    "duration": 193,
    "start_time": "2025-05-02T03:00:05.213Z"
   },
   {
    "duration": 297,
    "start_time": "2025-05-02T03:00:05.408Z"
   },
   {
    "duration": 59,
    "start_time": "2025-05-02T03:00:05.707Z"
   },
   {
    "duration": 318,
    "start_time": "2025-05-02T03:00:05.768Z"
   },
   {
    "duration": 53,
    "start_time": "2025-05-03T10:43:35.388Z"
   },
   {
    "duration": 1402,
    "start_time": "2025-05-03T10:43:44.008Z"
   },
   {
    "duration": 3,
    "start_time": "2025-05-03T10:43:45.412Z"
   },
   {
    "duration": 14,
    "start_time": "2025-05-03T10:43:45.416Z"
   },
   {
    "duration": 9,
    "start_time": "2025-05-03T10:43:45.432Z"
   },
   {
    "duration": 54,
    "start_time": "2025-05-03T10:43:45.443Z"
   },
   {
    "duration": 13,
    "start_time": "2025-05-03T10:43:45.499Z"
   },
   {
    "duration": 674,
    "start_time": "2025-05-03T10:43:45.515Z"
   },
   {
    "duration": 122,
    "start_time": "2025-05-03T10:43:46.191Z"
   },
   {
    "duration": 222,
    "start_time": "2025-05-03T10:43:46.315Z"
   },
   {
    "duration": 48,
    "start_time": "2025-05-03T10:43:46.539Z"
   },
   {
    "duration": 100,
    "start_time": "2025-05-03T10:43:46.589Z"
   },
   {
    "duration": 20,
    "start_time": "2025-05-03T10:43:46.692Z"
   },
   {
    "duration": 131,
    "start_time": "2025-05-03T10:43:46.714Z"
   },
   {
    "duration": 24,
    "start_time": "2025-05-03T10:43:46.850Z"
   },
   {
    "duration": 5,
    "start_time": "2025-05-03T10:43:46.875Z"
   },
   {
    "duration": 9,
    "start_time": "2025-05-03T10:43:46.882Z"
   },
   {
    "duration": 208,
    "start_time": "2025-05-03T10:43:46.892Z"
   },
   {
    "duration": 17,
    "start_time": "2025-05-03T10:43:47.101Z"
   },
   {
    "duration": 8,
    "start_time": "2025-05-03T10:43:47.119Z"
   },
   {
    "duration": 100,
    "start_time": "2025-05-03T10:43:47.129Z"
   },
   {
    "duration": 55,
    "start_time": "2025-05-03T10:43:47.231Z"
   },
   {
    "duration": 39,
    "start_time": "2025-05-03T10:43:47.288Z"
   },
   {
    "duration": 36,
    "start_time": "2025-05-03T10:43:47.329Z"
   },
   {
    "duration": 22,
    "start_time": "2025-05-03T10:43:47.367Z"
   },
   {
    "duration": 14,
    "start_time": "2025-05-03T10:43:47.391Z"
   },
   {
    "duration": 95,
    "start_time": "2025-05-03T10:43:47.407Z"
   },
   {
    "duration": 222,
    "start_time": "2025-05-03T10:43:47.504Z"
   },
   {
    "duration": 144,
    "start_time": "2025-05-03T10:43:47.728Z"
   },
   {
    "duration": 8,
    "start_time": "2025-05-03T10:43:47.874Z"
   },
   {
    "duration": 7,
    "start_time": "2025-05-03T10:43:47.883Z"
   },
   {
    "duration": 149,
    "start_time": "2025-05-03T10:43:47.891Z"
   },
   {
    "duration": 82,
    "start_time": "2025-05-03T10:43:48.042Z"
   },
   {
    "duration": 86,
    "start_time": "2025-05-03T10:43:48.126Z"
   },
   {
    "duration": 8802,
    "start_time": "2025-05-03T10:43:48.213Z"
   },
   {
    "duration": 21,
    "start_time": "2025-05-03T10:43:57.017Z"
   },
   {
    "duration": 101,
    "start_time": "2025-05-03T10:43:57.040Z"
   },
   {
    "duration": 24,
    "start_time": "2025-05-03T10:43:57.143Z"
   },
   {
    "duration": 5,
    "start_time": "2025-05-03T10:43:57.169Z"
   },
   {
    "duration": 5006,
    "start_time": "2025-05-03T10:43:57.176Z"
   },
   {
    "duration": 415,
    "start_time": "2025-05-03T10:44:02.184Z"
   },
   {
    "duration": 44,
    "start_time": "2025-05-03T10:44:02.604Z"
   },
   {
    "duration": 45,
    "start_time": "2025-05-03T10:44:02.651Z"
   },
   {
    "duration": 32,
    "start_time": "2025-05-03T10:44:02.697Z"
   },
   {
    "duration": 52,
    "start_time": "2025-05-03T10:44:02.730Z"
   },
   {
    "duration": 21,
    "start_time": "2025-05-03T10:44:02.784Z"
   },
   {
    "duration": 19,
    "start_time": "2025-05-03T10:44:02.807Z"
   },
   {
    "duration": 15,
    "start_time": "2025-05-03T10:44:02.828Z"
   },
   {
    "duration": 22,
    "start_time": "2025-05-03T10:44:02.844Z"
   },
   {
    "duration": 186,
    "start_time": "2025-05-03T10:44:02.868Z"
   },
   {
    "duration": 7,
    "start_time": "2025-05-03T10:44:03.056Z"
   },
   {
    "duration": 67,
    "start_time": "2025-05-03T10:44:03.065Z"
   },
   {
    "duration": 19,
    "start_time": "2025-05-03T10:44:03.134Z"
   },
   {
    "duration": 16,
    "start_time": "2025-05-03T10:44:03.155Z"
   },
   {
    "duration": 42,
    "start_time": "2025-05-03T10:44:03.173Z"
   },
   {
    "duration": 139,
    "start_time": "2025-05-03T10:44:03.216Z"
   },
   {
    "duration": 10,
    "start_time": "2025-05-03T10:44:03.357Z"
   },
   {
    "duration": 16,
    "start_time": "2025-05-03T10:44:03.368Z"
   },
   {
    "duration": 61,
    "start_time": "2025-05-03T10:44:03.386Z"
   },
   {
    "duration": 16,
    "start_time": "2025-05-03T10:44:03.450Z"
   },
   {
    "duration": 12,
    "start_time": "2025-05-03T10:44:03.468Z"
   },
   {
    "duration": 22,
    "start_time": "2025-05-03T10:44:03.481Z"
   },
   {
    "duration": 164,
    "start_time": "2025-05-03T10:44:03.505Z"
   },
   {
    "duration": 171,
    "start_time": "2025-05-03T10:44:03.671Z"
   },
   {
    "duration": 18,
    "start_time": "2025-05-03T10:44:03.844Z"
   },
   {
    "duration": 271,
    "start_time": "2025-05-03T10:44:03.864Z"
   },
   {
    "duration": 152,
    "start_time": "2025-05-03T10:45:22.023Z"
   },
   {
    "duration": 11,
    "start_time": "2025-05-03T10:47:02.940Z"
   },
   {
    "duration": 150,
    "start_time": "2025-05-03T10:47:38.670Z"
   },
   {
    "duration": 158,
    "start_time": "2025-05-03T10:51:50.665Z"
   },
   {
    "duration": 143,
    "start_time": "2025-05-03T10:52:39.802Z"
   },
   {
    "duration": 88,
    "start_time": "2025-05-03T11:05:33.764Z"
   },
   {
    "duration": 3,
    "start_time": "2025-05-03T11:05:52.471Z"
   },
   {
    "duration": 3225,
    "start_time": "2025-05-03T11:06:08.613Z"
   }
  ],
  "colab": {
   "provenance": []
  },
  "kernelspec": {
   "display_name": "Python 3 (ipykernel)",
   "language": "python",
   "name": "python3"
  },
  "language_info": {
   "codemirror_mode": {
    "name": "ipython",
    "version": 3
   },
   "file_extension": ".py",
   "mimetype": "text/x-python",
   "name": "python",
   "nbconvert_exporter": "python",
   "pygments_lexer": "ipython3",
   "version": "3.9.5"
  },
  "toc": {
   "base_numbering": 1,
   "nav_menu": {},
   "number_sections": true,
   "sideBar": true,
   "skip_h1_title": true,
   "title_cell": "Table of Contents",
   "title_sidebar": "Contents",
   "toc_cell": false,
   "toc_position": {},
   "toc_section_display": true,
   "toc_window_display": false
  }
 },
 "nbformat": 4,
 "nbformat_minor": 1
}
