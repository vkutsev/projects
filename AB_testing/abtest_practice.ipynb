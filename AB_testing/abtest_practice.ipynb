{
 "cells": [
  {
   "cell_type": "markdown",
   "metadata": {
    "id": "u98L9TgH0eMk"
   },
   "source": [
    "# Разработка A/B-тестирования и анализ результатов\n",
    "\n",
    "Продукт: приложение с бесконечной лентой и короткими видео.\n",
    "\n",
    "Ситуация: проверка эффективности нового алгаритма рекомендательной системы."
   ]
  },
  {
   "cell_type": "markdown",
   "metadata": {
    "id": "LJBRALHs0eMf"
   },
   "source": [
    "## Описание данных\n",
    "\n",
    "- `sessions_project_history.csv` — таблица с историческими данными по сессиям пользователей на период с 2025-08-11 по 2025-09-23.\n",
    "\n",
    "- `sessions_project_test_part.csv` — таблица с данными за первый день проведения A/B-теста, то есть за 2025-10-14.\n",
    "\n",
    "- `sessions_project_test.csv` — таблица с данными за весь период проведения A/B-теста, то есть с 2025-10-14 по 2025-11-02.\n",
    "\n",
    "У этих таблиц почти совпадает структура и содержание колонок, различаются лишь периоды наблюдения.\n",
    "\n",
    "Поля таблиц `sessions_project_history.csv`, `sessions_project_test.csv`, `sessions_project_test_part.csv`:\n",
    "\n",
    "- `user_id` — идентификатор пользователя;\n",
    "\n",
    "- `session_id` — идентификатор сессии в приложении;\n",
    "\n",
    "- `session_date` — дата сессии;\n",
    "\n",
    "- `session_start_ts` — дата и время начала сессии;\n",
    "\n",
    "- `install_date` — дата установки приложения;\n",
    "\n",
    "- `session_number` — порядковый номер сессии для конкретного пользователя;\n",
    "\n",
    "- `registration_flag` — является ли пользователь зарегистрированным;\n",
    "\n",
    "- `page_counter` — количество просмотренных страниц во время сессии;\n",
    "\n",
    "- `region` — регион пользователя;\n",
    "\n",
    "- `device` — тип устройства пользователя;\n",
    "\n",
    "- `test_group` — тестовая группа (в таблице с историческими данными этого столбца нет).\n",
    "\n",
    "\n",
    "## Что нужно сделать\n",
    "Задача: рассчитать параметры теста, оценить корректность его проведения и проанализировать результаты эксперимента."
   ]
  },
  {
   "cell_type": "markdown",
   "metadata": {
    "id": "UpOucjID0eMl"
   },
   "source": [
    "### 1. Работа с историческими данными (EDA)"
   ]
  },
  {
   "cell_type": "markdown",
   "metadata": {
    "id": "8iJMtL-30eMl"
   },
   "source": [
    "#### 1.1. Загрузка исторических данных"
   ]
  },
  {
   "cell_type": "code",
   "execution_count": 1,
   "metadata": {
    "id": "6TPR2-1RPboT"
   },
   "outputs": [],
   "source": [
    "import pandas as pd\n",
    "import matplotlib.pyplot as plt\n",
    "from scipy.stats import ttest_ind\n",
    "from statsmodels.stats.proportion import proportions_ztest"
   ]
  },
  {
   "cell_type": "code",
   "execution_count": 2,
   "metadata": {},
   "outputs": [
    {
     "data": {
      "text/html": [
       "<div>\n",
       "<style scoped>\n",
       "    .dataframe tbody tr th:only-of-type {\n",
       "        vertical-align: middle;\n",
       "    }\n",
       "\n",
       "    .dataframe tbody tr th {\n",
       "        vertical-align: top;\n",
       "    }\n",
       "\n",
       "    .dataframe thead th {\n",
       "        text-align: right;\n",
       "    }\n",
       "</style>\n",
       "<table border=\"1\" class=\"dataframe\">\n",
       "  <thead>\n",
       "    <tr style=\"text-align: right;\">\n",
       "      <th></th>\n",
       "      <th>user_id</th>\n",
       "      <th>session_id</th>\n",
       "      <th>session_date</th>\n",
       "      <th>session_start_ts</th>\n",
       "      <th>install_date</th>\n",
       "      <th>session_number</th>\n",
       "      <th>registration_flag</th>\n",
       "      <th>page_counter</th>\n",
       "      <th>region</th>\n",
       "      <th>device</th>\n",
       "    </tr>\n",
       "  </thead>\n",
       "  <tbody>\n",
       "    <tr>\n",
       "      <th>0</th>\n",
       "      <td>E302123B7000BFE4</td>\n",
       "      <td>F9AF61A0C2023832</td>\n",
       "      <td>2025-08-15</td>\n",
       "      <td>2025-08-15 17:47:35</td>\n",
       "      <td>2025-08-15</td>\n",
       "      <td>1</td>\n",
       "      <td>0</td>\n",
       "      <td>3</td>\n",
       "      <td>CIS</td>\n",
       "      <td>iPhone</td>\n",
       "    </tr>\n",
       "    <tr>\n",
       "      <th>1</th>\n",
       "      <td>2530F72E221829FB</td>\n",
       "      <td>85003A206CBDAC6F</td>\n",
       "      <td>2025-08-15</td>\n",
       "      <td>2025-08-15 16:42:14</td>\n",
       "      <td>2025-08-15</td>\n",
       "      <td>1</td>\n",
       "      <td>0</td>\n",
       "      <td>4</td>\n",
       "      <td>MENA</td>\n",
       "      <td>Android</td>\n",
       "    </tr>\n",
       "    <tr>\n",
       "      <th>2</th>\n",
       "      <td>876E020A4FC512F5</td>\n",
       "      <td>3677423E49D72DEE</td>\n",
       "      <td>2025-08-15</td>\n",
       "      <td>2025-08-15 12:30:00</td>\n",
       "      <td>2025-08-15</td>\n",
       "      <td>1</td>\n",
       "      <td>0</td>\n",
       "      <td>4</td>\n",
       "      <td>EU</td>\n",
       "      <td>PC</td>\n",
       "    </tr>\n",
       "    <tr>\n",
       "      <th>3</th>\n",
       "      <td>2640B349E1D81584</td>\n",
       "      <td>956B45F5915CA225</td>\n",
       "      <td>2025-08-15</td>\n",
       "      <td>2025-08-15 15:31:31</td>\n",
       "      <td>2025-08-15</td>\n",
       "      <td>1</td>\n",
       "      <td>0</td>\n",
       "      <td>4</td>\n",
       "      <td>CIS</td>\n",
       "      <td>Android</td>\n",
       "    </tr>\n",
       "    <tr>\n",
       "      <th>4</th>\n",
       "      <td>94E1CBFAEF1F5EE9</td>\n",
       "      <td>83BF0DA35F9F1F40</td>\n",
       "      <td>2025-08-15</td>\n",
       "      <td>2025-08-15 21:33:53</td>\n",
       "      <td>2025-08-15</td>\n",
       "      <td>1</td>\n",
       "      <td>0</td>\n",
       "      <td>3</td>\n",
       "      <td>CIS</td>\n",
       "      <td>Android</td>\n",
       "    </tr>\n",
       "  </tbody>\n",
       "</table>\n",
       "</div>"
      ],
      "text/plain": [
       "            user_id        session_id session_date     session_start_ts  \\\n",
       "0  E302123B7000BFE4  F9AF61A0C2023832   2025-08-15  2025-08-15 17:47:35   \n",
       "1  2530F72E221829FB  85003A206CBDAC6F   2025-08-15  2025-08-15 16:42:14   \n",
       "2  876E020A4FC512F5  3677423E49D72DEE   2025-08-15  2025-08-15 12:30:00   \n",
       "3  2640B349E1D81584  956B45F5915CA225   2025-08-15  2025-08-15 15:31:31   \n",
       "4  94E1CBFAEF1F5EE9  83BF0DA35F9F1F40   2025-08-15  2025-08-15 21:33:53   \n",
       "\n",
       "  install_date  session_number  registration_flag  page_counter region  \\\n",
       "0   2025-08-15               1                  0             3    CIS   \n",
       "1   2025-08-15               1                  0             4   MENA   \n",
       "2   2025-08-15               1                  0             4     EU   \n",
       "3   2025-08-15               1                  0             4    CIS   \n",
       "4   2025-08-15               1                  0             3    CIS   \n",
       "\n",
       "    device  \n",
       "0   iPhone  \n",
       "1  Android  \n",
       "2       PC  \n",
       "3  Android  \n",
       "4  Android  "
      ]
     },
     "execution_count": 2,
     "metadata": {},
     "output_type": "execute_result"
    }
   ],
   "source": [
    "sessions_history = pd.read_csv('/datasets/sessions_project_history.csv')\n",
    "sessions_history.head()"
   ]
  },
  {
   "cell_type": "markdown",
   "metadata": {
    "id": "qTDoiODz0eMo"
   },
   "source": [
    "#### 1.2. Знакомство с данными\n",
    "- Для каждого уникального пользователя `user_id` рассчитаем количество уникальных сессий `session_id`.\n",
    "\n",
    "- Выведем на экран все данные из таблицы `sessions_history` для одного пользователя с наибольшим количеством сессий."
   ]
  },
  {
   "cell_type": "code",
   "execution_count": 3,
   "metadata": {
    "id": "PWZO9vTIPbPN",
    "scrolled": false
   },
   "outputs": [
    {
     "data": {
      "text/html": [
       "<div>\n",
       "<style scoped>\n",
       "    .dataframe tbody tr th:only-of-type {\n",
       "        vertical-align: middle;\n",
       "    }\n",
       "\n",
       "    .dataframe tbody tr th {\n",
       "        vertical-align: top;\n",
       "    }\n",
       "\n",
       "    .dataframe thead th {\n",
       "        text-align: right;\n",
       "    }\n",
       "</style>\n",
       "<table border=\"1\" class=\"dataframe\">\n",
       "  <thead>\n",
       "    <tr style=\"text-align: right;\">\n",
       "      <th></th>\n",
       "      <th>user_id</th>\n",
       "      <th>session_id</th>\n",
       "      <th>session_date</th>\n",
       "      <th>session_start_ts</th>\n",
       "      <th>install_date</th>\n",
       "      <th>session_number</th>\n",
       "      <th>registration_flag</th>\n",
       "      <th>page_counter</th>\n",
       "      <th>region</th>\n",
       "      <th>device</th>\n",
       "    </tr>\n",
       "  </thead>\n",
       "  <tbody>\n",
       "    <tr>\n",
       "      <th>115558</th>\n",
       "      <td>10E0DEFC1ABDBBE0</td>\n",
       "      <td>B8F0423BBFFCF5DC</td>\n",
       "      <td>2025-08-14</td>\n",
       "      <td>2025-08-14 13:57:39</td>\n",
       "      <td>2025-08-14</td>\n",
       "      <td>1</td>\n",
       "      <td>0</td>\n",
       "      <td>4</td>\n",
       "      <td>CIS</td>\n",
       "      <td>Android</td>\n",
       "    </tr>\n",
       "    <tr>\n",
       "      <th>191751</th>\n",
       "      <td>10E0DEFC1ABDBBE0</td>\n",
       "      <td>87CA2FA549473837</td>\n",
       "      <td>2025-08-15</td>\n",
       "      <td>2025-08-15 16:42:10</td>\n",
       "      <td>2025-08-14</td>\n",
       "      <td>2</td>\n",
       "      <td>0</td>\n",
       "      <td>3</td>\n",
       "      <td>CIS</td>\n",
       "      <td>Android</td>\n",
       "    </tr>\n",
       "    <tr>\n",
       "      <th>239370</th>\n",
       "      <td>10E0DEFC1ABDBBE0</td>\n",
       "      <td>4ADD8011DCDCE318</td>\n",
       "      <td>2025-08-16</td>\n",
       "      <td>2025-08-16 19:53:21</td>\n",
       "      <td>2025-08-14</td>\n",
       "      <td>3</td>\n",
       "      <td>0</td>\n",
       "      <td>3</td>\n",
       "      <td>CIS</td>\n",
       "      <td>Android</td>\n",
       "    </tr>\n",
       "    <tr>\n",
       "      <th>274629</th>\n",
       "      <td>10E0DEFC1ABDBBE0</td>\n",
       "      <td>DF0FD0E09BF1F3D7</td>\n",
       "      <td>2025-08-17</td>\n",
       "      <td>2025-08-17 15:03:43</td>\n",
       "      <td>2025-08-14</td>\n",
       "      <td>4</td>\n",
       "      <td>0</td>\n",
       "      <td>1</td>\n",
       "      <td>CIS</td>\n",
       "      <td>Android</td>\n",
       "    </tr>\n",
       "    <tr>\n",
       "      <th>302501</th>\n",
       "      <td>10E0DEFC1ABDBBE0</td>\n",
       "      <td>3C221774B4DE6885</td>\n",
       "      <td>2025-08-18</td>\n",
       "      <td>2025-08-18 17:29:14</td>\n",
       "      <td>2025-08-14</td>\n",
       "      <td>5</td>\n",
       "      <td>0</td>\n",
       "      <td>4</td>\n",
       "      <td>CIS</td>\n",
       "      <td>Android</td>\n",
       "    </tr>\n",
       "    <tr>\n",
       "      <th>325557</th>\n",
       "      <td>10E0DEFC1ABDBBE0</td>\n",
       "      <td>031BD7A67048105B</td>\n",
       "      <td>2025-08-19</td>\n",
       "      <td>2025-08-19 13:23:55</td>\n",
       "      <td>2025-08-14</td>\n",
       "      <td>6</td>\n",
       "      <td>0</td>\n",
       "      <td>2</td>\n",
       "      <td>CIS</td>\n",
       "      <td>Android</td>\n",
       "    </tr>\n",
       "    <tr>\n",
       "      <th>345336</th>\n",
       "      <td>10E0DEFC1ABDBBE0</td>\n",
       "      <td>FF4315CF4AD4B100</td>\n",
       "      <td>2025-08-20</td>\n",
       "      <td>2025-08-20 19:31:54</td>\n",
       "      <td>2025-08-14</td>\n",
       "      <td>7</td>\n",
       "      <td>0</td>\n",
       "      <td>2</td>\n",
       "      <td>CIS</td>\n",
       "      <td>Android</td>\n",
       "    </tr>\n",
       "    <tr>\n",
       "      <th>377532</th>\n",
       "      <td>10E0DEFC1ABDBBE0</td>\n",
       "      <td>4045FEA0747203B4</td>\n",
       "      <td>2025-08-22</td>\n",
       "      <td>2025-08-22 17:54:13</td>\n",
       "      <td>2025-08-14</td>\n",
       "      <td>8</td>\n",
       "      <td>0</td>\n",
       "      <td>2</td>\n",
       "      <td>CIS</td>\n",
       "      <td>Android</td>\n",
       "    </tr>\n",
       "    <tr>\n",
       "      <th>403538</th>\n",
       "      <td>10E0DEFC1ABDBBE0</td>\n",
       "      <td>344B086C421C7F37</td>\n",
       "      <td>2025-08-24</td>\n",
       "      <td>2025-08-24 14:46:13</td>\n",
       "      <td>2025-08-14</td>\n",
       "      <td>9</td>\n",
       "      <td>0</td>\n",
       "      <td>2</td>\n",
       "      <td>CIS</td>\n",
       "      <td>Android</td>\n",
       "    </tr>\n",
       "    <tr>\n",
       "      <th>414743</th>\n",
       "      <td>10E0DEFC1ABDBBE0</td>\n",
       "      <td>054F20BA371E4C9D</td>\n",
       "      <td>2025-08-25</td>\n",
       "      <td>2025-08-25 18:36:41</td>\n",
       "      <td>2025-08-14</td>\n",
       "      <td>10</td>\n",
       "      <td>0</td>\n",
       "      <td>3</td>\n",
       "      <td>CIS</td>\n",
       "      <td>Android</td>\n",
       "    </tr>\n",
       "  </tbody>\n",
       "</table>\n",
       "</div>"
      ],
      "text/plain": [
       "                 user_id        session_id session_date     session_start_ts  \\\n",
       "115558  10E0DEFC1ABDBBE0  B8F0423BBFFCF5DC   2025-08-14  2025-08-14 13:57:39   \n",
       "191751  10E0DEFC1ABDBBE0  87CA2FA549473837   2025-08-15  2025-08-15 16:42:10   \n",
       "239370  10E0DEFC1ABDBBE0  4ADD8011DCDCE318   2025-08-16  2025-08-16 19:53:21   \n",
       "274629  10E0DEFC1ABDBBE0  DF0FD0E09BF1F3D7   2025-08-17  2025-08-17 15:03:43   \n",
       "302501  10E0DEFC1ABDBBE0  3C221774B4DE6885   2025-08-18  2025-08-18 17:29:14   \n",
       "325557  10E0DEFC1ABDBBE0  031BD7A67048105B   2025-08-19  2025-08-19 13:23:55   \n",
       "345336  10E0DEFC1ABDBBE0  FF4315CF4AD4B100   2025-08-20  2025-08-20 19:31:54   \n",
       "377532  10E0DEFC1ABDBBE0  4045FEA0747203B4   2025-08-22  2025-08-22 17:54:13   \n",
       "403538  10E0DEFC1ABDBBE0  344B086C421C7F37   2025-08-24  2025-08-24 14:46:13   \n",
       "414743  10E0DEFC1ABDBBE0  054F20BA371E4C9D   2025-08-25  2025-08-25 18:36:41   \n",
       "\n",
       "       install_date  session_number  registration_flag  page_counter region  \\\n",
       "115558   2025-08-14               1                  0             4    CIS   \n",
       "191751   2025-08-14               2                  0             3    CIS   \n",
       "239370   2025-08-14               3                  0             3    CIS   \n",
       "274629   2025-08-14               4                  0             1    CIS   \n",
       "302501   2025-08-14               5                  0             4    CIS   \n",
       "325557   2025-08-14               6                  0             2    CIS   \n",
       "345336   2025-08-14               7                  0             2    CIS   \n",
       "377532   2025-08-14               8                  0             2    CIS   \n",
       "403538   2025-08-14               9                  0             2    CIS   \n",
       "414743   2025-08-14              10                  0             3    CIS   \n",
       "\n",
       "         device  \n",
       "115558  Android  \n",
       "191751  Android  \n",
       "239370  Android  \n",
       "274629  Android  \n",
       "302501  Android  \n",
       "325557  Android  \n",
       "345336  Android  \n",
       "377532  Android  \n",
       "403538  Android  \n",
       "414743  Android  "
      ]
     },
     "execution_count": 3,
     "metadata": {},
     "output_type": "execute_result"
    }
   ],
   "source": [
    "top_user_id = sessions_history.groupby('user_id')['session_id'].nunique().sort_values(ascending=False).reset_index()['user_id'][0]\n",
    "top_sessions_user = sessions_history[sessions_history['user_id'] == top_user_id]\n",
    "top_sessions_user"
   ]
  },
  {
   "cell_type": "markdown",
   "metadata": {
    "id": "CmcGpJTP0eMq"
   },
   "source": [
    "#### 1.3. Анализ числа регистраций\n",
    "Используя исторические данные, визуализируем, как менялось число регистраций в приложении за время его существования."
   ]
  },
  {
   "cell_type": "code",
   "execution_count": 4,
   "metadata": {
    "id": "tN_6Ml3EPatS"
   },
   "outputs": [
    {
     "data": {
      "image/png": "[encoded data removed]",
      "text/plain": [
       "<Figure size 864x576 with 2 Axes>"
      ]
     },
     "metadata": {
      "needs_background": "light"
     },
     "output_type": "display_data"
    }
   ],
   "source": [
    "plt.figure(figsize=(12,8))\n",
    "plt.subplot(2,1,1)\n",
    "users_per_day = sessions_history.groupby('session_date')['user_id'].nunique()\n",
    "users_per_day.plot(kind='line', label='Все пользователи')\n",
    "reg_users_per_day = sessions_history[sessions_history['registration_flag']==1].groupby('session_date')['user_id'].nunique()\n",
    "reg_users_per_day.plot(kind='line', label='Пользователи с регистрацией')\n",
    "plt.title('Уникальные пользователи по времени')\n",
    "plt.xlabel('')\n",
    "plt.ylabel('Количество пользователей')\n",
    "plt.legend()\n",
    "plt.subplot(2,1,2)\n",
    "reg_users_share = reg_users_per_day/users_per_day\n",
    "reg_users_share.plot(kind='line', label='Пользователи с регистрацией')\n",
    "plt.title('Доля регистраций по времени')\n",
    "plt.xlabel('Дата')\n",
    "plt.ylabel('Доля пользователей')\n",
    "plt.show()"
   ]
  },
  {
   "cell_type": "markdown",
   "metadata": {
    "id": "UR7D7RhF0eMr"
   },
   "source": [
    "#### 1.4. Анализ числа просмотренных страниц\n",
    "Найдем количество сессий для каждого значения количества просмотренных страниц. Построим столбчатую диаграмму."
   ]
  },
  {
   "cell_type": "code",
   "execution_count": 5,
   "metadata": {
    "id": "cb6hPlVzPaSf"
   },
   "outputs": [
    {
     "data": {
      "image/png": "[encoded data removed]",
      "text/plain": [
       "<Figure size 864x576 with 1 Axes>"
      ]
     },
     "metadata": {
      "needs_background": "light"
     },
     "output_type": "display_data"
    }
   ],
   "source": [
    "sessions_by_pages = sessions_history.groupby('page_counter')['session_id'].count()\n",
    "plt.figure(figsize=(12,8))\n",
    "sessions_by_pages.plot(kind='bar')\n",
    "plt.title('Сессии по количеству просмотренных страниц')\n",
    "plt.xlabel('Количество страниц')\n",
    "plt.ylabel('Количество сессий')\n",
    "plt.xticks(rotation=0)\n",
    "plt.show()"
   ]
  },
  {
   "cell_type": "markdown",
   "metadata": {
    "id": "xDltSpVP0eMr"
   },
   "source": [
    "#### 1.5. Доля пользователей, просмотревших четыре и более страницы\n",
    "Построим график со средним значением доли успешных сессий (с просмотром 4 и более страниц) от всех сессий по дням за весь период наблюдения."
   ]
  },
  {
   "cell_type": "code",
   "execution_count": 6,
   "metadata": {
    "id": "iygaPfixPYMW"
   },
   "outputs": [
    {
     "data": {
      "image/png": "[encoded data removed]",
      "text/plain": [
       "<Figure size 864x576 with 1 Axes>"
      ]
     },
     "metadata": {
      "needs_background": "light"
     },
     "output_type": "display_data"
    }
   ],
   "source": [
    "sessions_history['good_session'] = sessions_history['page_counter'] >= 4\n",
    "good_share = sessions_history.groupby('session_date')['good_session'].mean()\n",
    "plt.figure(figsize=(12,8))\n",
    "good_share.plot(kind='line')\n",
    "plt.title('Доля успешных сессий по времени')\n",
    "plt.xlabel('Дата')\n",
    "plt.ylabel('Доля успешных сессий')\n",
    "plt.show()"
   ]
  },
  {
   "cell_type": "markdown",
   "metadata": {
    "id": "21JcG77Y0eMt"
   },
   "source": [
    "### 2. Подготовка к тесту"
   ]
  },
  {
   "cell_type": "markdown",
   "metadata": {
    "id": "kXdcwkjf859k"
   },
   "source": [
    "#### 2.1 Формулировка нулевой и альтернативной гипотез\n"
   ]
  },
  {
   "cell_type": "markdown",
   "metadata": {
    "id": "RiKI8eT49h3F"
   },
   "source": [
    "Сформулируем нулевую и альтернативную гипотезы:\n",
    "\n",
    "\n",
    "\n",
    "\n"
   ]
  },
  {
   "cell_type": "markdown",
   "metadata": {},
   "source": [
    "**H0**: Новый алгоритм рекомендательных систем не повлияет на долю успешных сессий."
   ]
  },
  {
   "cell_type": "markdown",
   "metadata": {},
   "source": [
    "**H1**: Новый алгоритм рекомендательных систем позволит увеличить долю успешных сессий."
   ]
  },
  {
   "cell_type": "markdown",
   "metadata": {
    "id": "uzaeln270eMt"
   },
   "source": [
    "#### 2.2. Расчёт размера выборки\n",
    "Рассчитаем необходимое для эксперимента количество пользователей"
   ]
  },
  {
   "cell_type": "code",
   "execution_count": 7,
   "metadata": {
    "id": "zSxJyPGPNdaI"
   },
   "outputs": [
    {
     "name": "stdout",
     "output_type": "stream",
     "text": [
      "Необходимый размер выборки для каждой группы: 41040\n"
     ]
    }
   ],
   "source": [
    "from statsmodels.stats.power import NormalIndPower\n",
    "from statsmodels.stats.proportion import proportion_effectsize\n",
    "\n",
    "# Задаём параметры\n",
    "alpha = 0.05  # Уровень значимости\n",
    "beta = 0.2  # Ошибка второго рода, часто 1 - мощность\n",
    "power = 0.8  # Мощность теста\n",
    "p = 0.3 # Базовый уровень доли\n",
    "mde = 0.03 * p  # Минимальный детектируемый эффект\n",
    "effect_size = proportion_effectsize(p, p + mde)\n",
    "\n",
    "# Инициализируем класс NormalIndPower\n",
    "power_analysis = NormalIndPower()\n",
    "\n",
    "# Рассчитываем размер выборки\n",
    "sample_size = power_analysis.solve_power(\n",
    "    effect_size = effect_size,\n",
    "    power = power,\n",
    "    alpha = alpha,\n",
    "    ratio = 1 # Равномерное распределение выборок\n",
    ")\n",
    "\n",
    "print(f\"Необходимый размер выборки для каждой группы: {int(sample_size)}\")"
   ]
  },
  {
   "cell_type": "markdown",
   "metadata": {
    "id": "qLEv4RoV0eMu"
   },
   "source": [
    "#### 2.3. Расчёт длительности A/B-теста\n",
    "\n",
    "Используем данные о количестве пользователей в каждой выборке и среднем количестве пользователей приложения."
   ]
  },
  {
   "cell_type": "code",
   "execution_count": 8,
   "metadata": {
    "id": "KZDRbryDOGHa"
   },
   "outputs": [
    {
     "name": "stdout",
     "output_type": "stream",
     "text": [
      "Рассчитанная длительность A/B-теста при текущем уровене трафика в 9907.363636363636 пользователей в день составит 9 дней\n"
     ]
    }
   ],
   "source": [
    "from math import ceil\n",
    "\n",
    "# Среднее количество пользователей приложения в день по историческим данным\n",
    "avg_daily_users = users_per_day.mean()\n",
    "\n",
    "# Рассчитываем длительность теста в днях как отношение размера выборки к среднему числу пользователей\n",
    "test_duration = ceil(sample_size*2/avg_daily_users)\n",
    "\n",
    "print(f\"Рассчитанная длительность A/B-теста при текущем уровене трафика в {avg_daily_users} пользователей в день составит {test_duration} дней\")"
   ]
  },
  {
   "cell_type": "markdown",
   "metadata": {
    "id": "ZuvtAdha0eMv"
   },
   "source": [
    "### 3. Мониторинг А/В-теста"
   ]
  },
  {
   "cell_type": "markdown",
   "metadata": {
    "id": "jq5sE3Ya0eMv"
   },
   "source": [
    "#### 3.1. Проверка распределения пользователей\n",
    "\n",
    "Рассчитаем процентную разницу в количестве пользователей в группах A и B."
   ]
  },
  {
   "cell_type": "code",
   "execution_count": 9,
   "metadata": {
    "id": "G1bqIzDJOUiz",
    "scrolled": true
   },
   "outputs": [
    {
     "data": {
      "text/html": [
       "<div>\n",
       "<style scoped>\n",
       "    .dataframe tbody tr th:only-of-type {\n",
       "        vertical-align: middle;\n",
       "    }\n",
       "\n",
       "    .dataframe tbody tr th {\n",
       "        vertical-align: top;\n",
       "    }\n",
       "\n",
       "    .dataframe thead th {\n",
       "        text-align: right;\n",
       "    }\n",
       "</style>\n",
       "<table border=\"1\" class=\"dataframe\">\n",
       "  <thead>\n",
       "    <tr style=\"text-align: right;\">\n",
       "      <th></th>\n",
       "      <th>user_id</th>\n",
       "      <th>session_id</th>\n",
       "      <th>session_date</th>\n",
       "      <th>session_start_ts</th>\n",
       "      <th>install_date</th>\n",
       "      <th>session_number</th>\n",
       "      <th>registration_flag</th>\n",
       "      <th>page_counter</th>\n",
       "      <th>region</th>\n",
       "      <th>device</th>\n",
       "      <th>test_group</th>\n",
       "    </tr>\n",
       "  </thead>\n",
       "  <tbody>\n",
       "    <tr>\n",
       "      <th>0</th>\n",
       "      <td>3404844B53442747</td>\n",
       "      <td>B4901323BD537E45</td>\n",
       "      <td>2025-10-14</td>\n",
       "      <td>2025-10-14 19:28:49</td>\n",
       "      <td>2025-10-14</td>\n",
       "      <td>1</td>\n",
       "      <td>0</td>\n",
       "      <td>3</td>\n",
       "      <td>CIS</td>\n",
       "      <td>Android</td>\n",
       "      <td>B</td>\n",
       "    </tr>\n",
       "    <tr>\n",
       "      <th>1</th>\n",
       "      <td>3A2BF4D364E62D89</td>\n",
       "      <td>216FC619308F8788</td>\n",
       "      <td>2025-10-14</td>\n",
       "      <td>2025-10-14 21:11:04</td>\n",
       "      <td>2025-10-14</td>\n",
       "      <td>1</td>\n",
       "      <td>0</td>\n",
       "      <td>3</td>\n",
       "      <td>MENA</td>\n",
       "      <td>iPhone</td>\n",
       "      <td>A</td>\n",
       "    </tr>\n",
       "    <tr>\n",
       "      <th>2</th>\n",
       "      <td>79CDAE11E32B1597</td>\n",
       "      <td>EDFCE4AC1A504074</td>\n",
       "      <td>2025-10-14</td>\n",
       "      <td>2025-10-14 21:44:03</td>\n",
       "      <td>2025-10-14</td>\n",
       "      <td>1</td>\n",
       "      <td>0</td>\n",
       "      <td>3</td>\n",
       "      <td>CIS</td>\n",
       "      <td>iPhone</td>\n",
       "      <td>A</td>\n",
       "    </tr>\n",
       "    <tr>\n",
       "      <th>3</th>\n",
       "      <td>D6AF8D78297A931F</td>\n",
       "      <td>CF0AC0EEDE92C690</td>\n",
       "      <td>2025-10-14</td>\n",
       "      <td>2025-10-14 19:07:55</td>\n",
       "      <td>2025-10-14</td>\n",
       "      <td>1</td>\n",
       "      <td>0</td>\n",
       "      <td>4</td>\n",
       "      <td>CIS</td>\n",
       "      <td>PC</td>\n",
       "      <td>A</td>\n",
       "    </tr>\n",
       "    <tr>\n",
       "      <th>4</th>\n",
       "      <td>37E0CE723AE568E0</td>\n",
       "      <td>2E6ED45E8C86C4E9</td>\n",
       "      <td>2025-10-14</td>\n",
       "      <td>2025-10-14 15:39:44</td>\n",
       "      <td>2025-10-14</td>\n",
       "      <td>1</td>\n",
       "      <td>0</td>\n",
       "      <td>3</td>\n",
       "      <td>CIS</td>\n",
       "      <td>Mac</td>\n",
       "      <td>B</td>\n",
       "    </tr>\n",
       "  </tbody>\n",
       "</table>\n",
       "</div>"
      ],
      "text/plain": [
       "            user_id        session_id session_date     session_start_ts  \\\n",
       "0  3404844B53442747  B4901323BD537E45   2025-10-14  2025-10-14 19:28:49   \n",
       "1  3A2BF4D364E62D89  216FC619308F8788   2025-10-14  2025-10-14 21:11:04   \n",
       "2  79CDAE11E32B1597  EDFCE4AC1A504074   2025-10-14  2025-10-14 21:44:03   \n",
       "3  D6AF8D78297A931F  CF0AC0EEDE92C690   2025-10-14  2025-10-14 19:07:55   \n",
       "4  37E0CE723AE568E0  2E6ED45E8C86C4E9   2025-10-14  2025-10-14 15:39:44   \n",
       "\n",
       "  install_date  session_number  registration_flag  page_counter region  \\\n",
       "0   2025-10-14               1                  0             3    CIS   \n",
       "1   2025-10-14               1                  0             3   MENA   \n",
       "2   2025-10-14               1                  0             3    CIS   \n",
       "3   2025-10-14               1                  0             4    CIS   \n",
       "4   2025-10-14               1                  0             3    CIS   \n",
       "\n",
       "    device test_group  \n",
       "0  Android          B  \n",
       "1   iPhone          A  \n",
       "2   iPhone          A  \n",
       "3       PC          A  \n",
       "4      Mac          B  "
      ]
     },
     "execution_count": 9,
     "metadata": {},
     "output_type": "execute_result"
    }
   ],
   "source": [
    "sessions_test_part = pd.read_csv('/datasets/sessions_project_test_part.csv')\n",
    "sessions_test_part.head()"
   ]
  },
  {
   "cell_type": "code",
   "execution_count": 10,
   "metadata": {},
   "outputs": [
    {
     "data": {
      "text/plain": [
       "test_group\n",
       "A    1477\n",
       "B    1466\n",
       "Name: user_id, dtype: int64"
      ]
     },
     "execution_count": 10,
     "metadata": {},
     "output_type": "execute_result"
    }
   ],
   "source": [
    "ab_users = sessions_test_part.groupby('test_group')['user_id'].nunique()\n",
    "ab_users"
   ]
  },
  {
   "cell_type": "code",
   "execution_count": 11,
   "metadata": {},
   "outputs": [
    {
     "data": {
      "text/plain": [
       "1466"
      ]
     },
     "execution_count": 11,
     "metadata": {},
     "output_type": "execute_result"
    }
   ],
   "source": [
    "ab_users['B']"
   ]
  },
  {
   "cell_type": "code",
   "execution_count": 12,
   "metadata": {},
   "outputs": [
    {
     "name": "stdout",
     "output_type": "stream",
     "text": [
      "В группе A количество пользователей отличается от группы B на 0.74%\n"
     ]
    }
   ],
   "source": [
    "delta = round((ab_users['A'] - ab_users['B'])/ab_users['A']*100, 2)\n",
    "print(f'В группе A количество пользователей отличается от группы B на {delta}%')"
   ]
  },
  {
   "cell_type": "code",
   "execution_count": 13,
   "metadata": {},
   "outputs": [
    {
     "data": {
      "image/png": "[encoded data removed]",
      "text/plain": [
       "<Figure size 432x288 with 1 Axes>"
      ]
     },
     "metadata": {
      "needs_background": "light"
     },
     "output_type": "display_data"
    }
   ],
   "source": [
    "ab_users.plot(kind='bar')\n",
    "plt.xticks(rotation=0)\n",
    "plt.title('Количество уникальных пользователей по группам')\n",
    "plt.xlabel('Группа')\n",
    "plt.ylabel('Кол-во пользователей')\n",
    "plt.show()"
   ]
  },
  {
   "cell_type": "markdown",
   "metadata": {
    "id": "sgpNY5bv0eM0"
   },
   "source": [
    "#### 3.2. Проверка пересечений пользователей\n",
    "Рассчитаем количество пользователей, которые встречаются одновременно в группах A и B и убедимся, что таких нет."
   ]
  },
  {
   "cell_type": "code",
   "execution_count": 14,
   "metadata": {
    "id": "E72ozN9FOX1u"
   },
   "outputs": [
    {
     "data": {
      "text/plain": [
       "0"
      ]
     },
     "execution_count": 14,
     "metadata": {},
     "output_type": "execute_result"
    }
   ],
   "source": [
    "len(set(sessions_test_part[sessions_test_part['test_group']=='A']['user_id'].to_list()) & set(sessions_test_part[sessions_test_part['test_group']=='B']['user_id'].to_list()))"
   ]
  },
  {
   "cell_type": "markdown",
   "metadata": {},
   "source": [
    "Группы независимы"
   ]
  },
  {
   "cell_type": "markdown",
   "metadata": {
    "id": "6RvkNLrg0eM1"
   },
   "source": [
    "#### 3.3. Равномерность разделения пользователей по устройствам\n",
    "Построим две диаграммы:\n",
    "\n",
    "- доля каждого типа устройства для пользователей из группы A,\n",
    "\n",
    "- доля каждого типа устройства для пользователей из группы B."
   ]
  },
  {
   "cell_type": "code",
   "execution_count": 15,
   "metadata": {
    "id": "x_IP6PUNPWHC"
   },
   "outputs": [
    {
     "data": {
      "image/png": "[encoded data removed]",
      "text/plain": [
       "<Figure size 432x288 with 1 Axes>"
      ]
     },
     "metadata": {
      "needs_background": "light"
     },
     "output_type": "display_data"
    }
   ],
   "source": [
    "n_users_a = sessions_test_part['user_id'][sessions_test_part['test_group']=='A'].nunique()\n",
    "(sessions_test_part[sessions_test_part['test_group']=='A'].groupby('device')['user_id'].nunique()/n_users_a).sort_values().plot(kind='bar')\n",
    "plt.title('Доли пользователей группы А по устройствам')\n",
    "plt.xlabel('Устройство')\n",
    "plt.ylabel('Кол-во пользователей')\n",
    "plt.xticks(rotation=0)\n",
    "plt.show()"
   ]
  },
  {
   "cell_type": "code",
   "execution_count": 16,
   "metadata": {
    "scrolled": true
   },
   "outputs": [
    {
     "data": {
      "image/png": "[encoded data removed]",
      "text/plain": [
       "<Figure size 432x288 with 1 Axes>"
      ]
     },
     "metadata": {
      "needs_background": "light"
     },
     "output_type": "display_data"
    }
   ],
   "source": [
    "n_users_b = sessions_test_part['user_id'][sessions_test_part['test_group']=='B'].nunique()\n",
    "(sessions_test_part[sessions_test_part['test_group']=='B'].groupby('device')['user_id'].nunique()/n_users_b).sort_values().plot(kind='bar')\n",
    "plt.title('Доли пользователей группы B по устройствам')\n",
    "plt.xlabel('Устройство')\n",
    "plt.ylabel('Кол-во пользователей')\n",
    "plt.xticks(rotation=0)\n",
    "plt.show()"
   ]
  },
  {
   "cell_type": "markdown",
   "metadata": {},
   "source": [
    "Получили 2 идентичных графика."
   ]
  },
  {
   "cell_type": "markdown",
   "metadata": {
    "id": "gAgmP6vo0eM1"
   },
   "source": [
    "#### 3.4. Равномерность распределения пользователей по регионам\n",
    "Построим две диаграммы:\n",
    "\n",
    "- доля каждого региона для пользователей из группы A,\n",
    "\n",
    "- доля каждого региона для пользователей из группы B."
   ]
  },
  {
   "cell_type": "code",
   "execution_count": 17,
   "metadata": {
    "id": "3hAq-FG4OdYM",
    "scrolled": true
   },
   "outputs": [
    {
     "data": {
      "image/png": "[encoded data removed]",
      "text/plain": [
       "<Figure size 432x288 with 1 Axes>"
      ]
     },
     "metadata": {},
     "output_type": "display_data"
    }
   ],
   "source": [
    "users_per_region_a = sessions_test_part[sessions_test_part['test_group']=='A'].groupby('region')['user_id'].nunique().sort_values().reset_index()\n",
    "plt.pie(users_per_region_a['user_id'], labels=users_per_region_a['region'], autopct='%.1f%%')\n",
    "plt.title('Распределение пользователей группы А по регионам')\n",
    "plt.ylabel('')\n",
    "plt.show()"
   ]
  },
  {
   "cell_type": "code",
   "execution_count": 18,
   "metadata": {},
   "outputs": [
    {
     "data": {
      "image/png": "[encoded data removed]",
      "text/plain": [
       "<Figure size 432x288 with 1 Axes>"
      ]
     },
     "metadata": {},
     "output_type": "display_data"
    }
   ],
   "source": [
    "users_per_region_b = sessions_test_part[sessions_test_part['test_group']=='B'].groupby('region')['user_id'].nunique().sort_values().reset_index()\n",
    "plt.pie(users_per_region_b['user_id'], labels=users_per_region_b['region'], autopct='%.1f%%')\n",
    "plt.title('Распределение пользователей группы B по регионам')\n",
    "plt.ylabel('')\n",
    "plt.show()"
   ]
  },
  {
   "cell_type": "markdown",
   "metadata": {},
   "source": [
    "Графики снова показали одинаковый результат"
   ]
  },
  {
   "cell_type": "markdown",
   "metadata": {
    "id": "X2WSZ-sDrSUi"
   },
   "source": [
    "#### 3.5. Вывод после проверки A/B-теста"
   ]
  },
  {
   "cell_type": "markdown",
   "metadata": {
    "id": "dDELHlAcOi8d"
   },
   "source": [
    "- При проверке различие в количестве пользователей по группам оказалось несущественным (менее 1%).\n",
    "- Пересечение пользователей не обнаружено.\n",
    "- Распределения по категориальным переменным также различаются несущественно."
   ]
  },
  {
   "cell_type": "markdown",
   "metadata": {},
   "source": [
    "Таким образом, нарушений в распределении по группам не выявлено, A/B-тест проверку прошел."
   ]
  },
  {
   "cell_type": "markdown",
   "metadata": {
    "id": "nudRr_BQ0eM2"
   },
   "source": [
    "### 4. Проверка результатов A/B-теста"
   ]
  },
  {
   "cell_type": "markdown",
   "metadata": {
    "id": "JVve-YBB0eM2"
   },
   "source": [
    "#### 4.1. Получение результатов теста и подсчёт основной метрики\n",
    "- В датафрейме `sessions_test` создадим дополнительный столбец `good_session`. В него войдёт значение `1`, если за одну сессию было просмотрено 4 и более страниц, и значение `0`, если просмотрено меньше."
   ]
  },
  {
   "cell_type": "code",
   "execution_count": 19,
   "metadata": {
    "id": "EqRlwMtKPTir"
   },
   "outputs": [],
   "source": [
    "sessions_test = pd.read_csv('/datasets/sessions_project_test.csv')\n",
    "sessions_test['good_session'] = sessions_test['page_counter'] >= 4"
   ]
  },
  {
   "cell_type": "markdown",
   "metadata": {
    "id": "aeYhrMYy0eM2"
   },
   "source": [
    "#### 4.2. Проверка корректности результатов теста\n",
    "\n",
    "Прежде чем приступать к анализу ключевых продуктовых метрик, необходимо убедиться, что тест проведён корректно и мы будем сравнивать две сопоставимые группы."
   ]
  },
  {
   "cell_type": "code",
   "execution_count": 20,
   "metadata": {
    "id": "5NUlcltkTTSU"
   },
   "outputs": [
    {
     "data": {
      "text/plain": [
       "0.938219304859116"
      ]
     },
     "execution_count": 20,
     "metadata": {},
     "output_type": "execute_result"
    }
   ],
   "source": [
    "a_metric = sessions_test[sessions_test['test_group']=='A'].groupby('session_date')['session_id'].nunique()\n",
    "b_metric = sessions_test[sessions_test['test_group']=='B'].groupby('session_date')['session_id'].nunique()\n",
    "stat_ttest, p_value_ttest = ttest_ind(a_metric, b_metric, equal_var=True, alternative='two-sided')\n",
    "p_value_ttest"
   ]
  },
  {
   "cell_type": "markdown",
   "metadata": {},
   "source": [
    "Нулевая гипотеза не отвергается даже на уровне значимости 10%. Можно говорить о том, что существенных различий в выборках нет."
   ]
  },
  {
   "cell_type": "markdown",
   "metadata": {
    "id": "7kwRxzg70eM3"
   },
   "source": [
    "#### 4.3. Сравнение доли успешных сессий\n",
    "\n",
    "Можно переходить к анализу ключевой метрики — доли успешных сессий."
   ]
  },
  {
   "cell_type": "code",
   "execution_count": 21,
   "metadata": {
    "id": "Uku-V1CpPRCz"
   },
   "outputs": [
    {
     "name": "stdout",
     "output_type": "stream",
     "text": [
      "0.3077233557344958\n",
      "0.31828992745867524\n",
      "-0.010566571724179463\n"
     ]
    }
   ],
   "source": [
    "a_good_share = sessions_test[sessions_test['test_group']=='A']['good_session'].mean()\n",
    "b_good_share = sessions_test[sessions_test['test_group']=='B']['good_session'].mean()\n",
    "print(a_good_share)\n",
    "print(b_good_share)\n",
    "print(a_good_share - b_good_share)"
   ]
  },
  {
   "cell_type": "markdown",
   "metadata": {
    "id": "9fMFuja10eM4"
   },
   "source": [
    "#### 4.4. Насколько статистически значимо изменение ключевой метрики\n",
    "\n",
    "На предыдущем шаге мы убедились, что количество успешных сессий в тестовой выборке примерно на 1.1% выше, чем в контрольной.\n",
    "\n",
    "Проверим, является ли изменение в метрике доли успешных сессий статистически значимым."
   ]
  },
  {
   "cell_type": "code",
   "execution_count": 22,
   "metadata": {
    "id": "gFvhRGwlPLS0"
   },
   "outputs": [
    {
     "name": "stdout",
     "output_type": "stream",
     "text": [
      "0.0001574739988036123\n"
     ]
    }
   ],
   "source": [
    "n_a = sessions_test[sessions_test['test_group']=='A']['session_id'].nunique()\n",
    "n_b = sessions_test[sessions_test['test_group']=='B']['session_id'].nunique()\n",
    "m_a = sessions_test[(sessions_test['test_group']=='A')&(sessions_test['good_session']==1)]['session_id'].nunique()\n",
    "m_b = sessions_test[(sessions_test['test_group']=='B')&(sessions_test['good_session']==1)]['session_id'].nunique()\n",
    "stat_ztest, p_value_ztest = proportions_ztest([m_a, m_b], [n_a, n_b], alternative='smaller')\n",
    "print(p_value_ztest)"
   ]
  },
  {
   "cell_type": "markdown",
   "metadata": {},
   "source": [
    "На уровне значимости 5% нулевая гипотеза отвергается. Можно утверждать, что новый алгоритм рекомендаций положительно влияет на успешность сессии (количество просмотренных страниц)."
   ]
  },
  {
   "cell_type": "markdown",
   "metadata": {
    "id": "GnJrkY9Q63zS"
   },
   "source": [
    "#### 4.5. Вывод по результатам A/B-эксперимента"
   ]
  },
  {
   "cell_type": "markdown",
   "metadata": {
    "id": "rri8KRIgPMrW"
   },
   "source": [
    "Был проведен A/B эксперимент с альтернативной гипотезой о положительном влиянии нового алгоритма рекомендаций на активность пользователей. Ключевой метрикой был выбран факт посещения минимум 4-х страниц за одну сессию. Для этого использовались данные о 100005 сессиях, собранные в течение 20 дней."
   ]
  },
  {
   "cell_type": "markdown",
   "metadata": {},
   "source": [
    "В результате было получено значение p-value **0.02%**, что позволило отвергнуть нулевую гипотезу о незначительности эффекта. Таким образом, благодаря найденному положительному эффекту (порядка 1 п.п.) рекомендуется внедрить рассматриваемое нововведение."
   ]
  },
  {
   "cell_type": "markdown",
   "metadata": {},
   "source": [
    "<div>\n",
    "<b></b>\n",
    "</div>"
   ]
  }
 ],
 "metadata": {
  "ExecuteTimeLog": [
   {
    "duration": 465,
    "start_time": "2025-06-28T20:33:48.710Z"
   },
   {
    "duration": 143,
    "start_time": "2025-06-28T20:34:37.406Z"
   },
   {
    "duration": 1187,
    "start_time": "2025-06-28T20:35:13.673Z"
   },
   {
    "duration": 1176,
    "start_time": "2025-06-28T20:35:30.500Z"
   },
   {
    "duration": 654,
    "start_time": "2025-06-28T20:37:44.704Z"
   },
   {
    "duration": 613,
    "start_time": "2025-06-28T20:38:07.284Z"
   },
   {
    "duration": 610,
    "start_time": "2025-06-28T20:38:19.835Z"
   },
   {
    "duration": 596,
    "start_time": "2025-06-28T20:38:27.605Z"
   },
   {
    "duration": 598,
    "start_time": "2025-06-28T20:39:02.367Z"
   },
   {
    "duration": 1917,
    "start_time": "2025-06-28T20:39:11.431Z"
   },
   {
    "duration": 605,
    "start_time": "2025-06-28T20:39:50.254Z"
   },
   {
    "duration": 672,
    "start_time": "2025-06-28T20:41:27.727Z"
   },
   {
    "duration": 662,
    "start_time": "2025-06-28T20:42:26.785Z"
   },
   {
    "duration": 71,
    "start_time": "2025-06-28T21:04:30.856Z"
   },
   {
    "duration": 97,
    "start_time": "2025-06-28T21:05:22.045Z"
   },
   {
    "duration": 721,
    "start_time": "2025-06-28T21:05:36.800Z"
   },
   {
    "duration": 365,
    "start_time": "2025-06-28T21:07:40.090Z"
   },
   {
    "duration": 355,
    "start_time": "2025-06-28T21:08:39.453Z"
   },
   {
    "duration": 338,
    "start_time": "2025-06-28T21:08:50.611Z"
   },
   {
    "duration": 400,
    "start_time": "2025-06-28T21:09:00.392Z"
   },
   {
    "duration": 366,
    "start_time": "2025-06-28T21:10:13.301Z"
   },
   {
    "duration": 5,
    "start_time": "2025-06-28T21:10:31.548Z"
   },
   {
    "duration": 351,
    "start_time": "2025-06-28T21:10:35.751Z"
   },
   {
    "duration": 352,
    "start_time": "2025-06-28T21:10:53.186Z"
   },
   {
    "duration": 420,
    "start_time": "2025-06-28T21:11:05.887Z"
   },
   {
    "duration": 409,
    "start_time": "2025-06-28T21:11:17.652Z"
   },
   {
    "duration": 398,
    "start_time": "2025-06-28T21:11:28.877Z"
   },
   {
    "duration": 376,
    "start_time": "2025-06-28T21:11:38.614Z"
   },
   {
    "duration": 380,
    "start_time": "2025-06-28T21:11:46.407Z"
   },
   {
    "duration": 403,
    "start_time": "2025-06-28T21:12:59.586Z"
   },
   {
    "duration": 390,
    "start_time": "2025-06-28T21:14:34.753Z"
   },
   {
    "duration": 414,
    "start_time": "2025-06-28T21:17:40.341Z"
   },
   {
    "duration": 169,
    "start_time": "2025-06-28T21:20:35.370Z"
   },
   {
    "duration": 11,
    "start_time": "2025-06-28T21:28:22.019Z"
   },
   {
    "duration": 11,
    "start_time": "2025-06-28T21:28:35.396Z"
   },
   {
    "duration": 179,
    "start_time": "2025-06-28T21:28:50.937Z"
   },
   {
    "duration": 251,
    "start_time": "2025-06-28T21:29:18.992Z"
   },
   {
    "duration": 175,
    "start_time": "2025-06-28T21:29:28.156Z"
   },
   {
    "duration": 190,
    "start_time": "2025-06-28T21:31:43.531Z"
   },
   {
    "duration": 189,
    "start_time": "2025-06-28T21:32:23.902Z"
   },
   {
    "duration": 197,
    "start_time": "2025-06-28T21:32:28.938Z"
   },
   {
    "duration": 10,
    "start_time": "2025-06-28T21:37:57.686Z"
   },
   {
    "duration": 9,
    "start_time": "2025-06-28T21:38:03.699Z"
   },
   {
    "duration": 200,
    "start_time": "2025-06-28T21:38:23.958Z"
   },
   {
    "duration": 601,
    "start_time": "2025-06-28T21:59:57.703Z"
   },
   {
    "duration": 15,
    "start_time": "2025-06-28T22:00:44.801Z"
   },
   {
    "duration": 4,
    "start_time": "2025-06-28T22:09:28.397Z"
   },
   {
    "duration": 35,
    "start_time": "2025-06-28T22:44:46.913Z"
   },
   {
    "duration": 5,
    "start_time": "2025-06-28T22:47:27.248Z"
   },
   {
    "duration": 7,
    "start_time": "2025-06-28T22:47:34.416Z"
   },
   {
    "duration": 10,
    "start_time": "2025-06-28T22:47:52.903Z"
   },
   {
    "duration": 113,
    "start_time": "2025-06-28T22:48:07.073Z"
   },
   {
    "duration": 6,
    "start_time": "2025-06-28T22:49:02.891Z"
   },
   {
    "duration": 5,
    "start_time": "2025-06-28T22:49:28.174Z"
   },
   {
    "duration": 7,
    "start_time": "2025-06-28T22:49:35.420Z"
   },
   {
    "duration": 4,
    "start_time": "2025-06-28T22:52:23.001Z"
   },
   {
    "duration": 108,
    "start_time": "2025-06-28T22:52:33.321Z"
   },
   {
    "duration": 124,
    "start_time": "2025-06-28T22:52:59.666Z"
   },
   {
    "duration": 105,
    "start_time": "2025-06-28T22:53:21.065Z"
   },
   {
    "duration": 10,
    "start_time": "2025-06-28T22:54:46.815Z"
   },
   {
    "duration": 1413,
    "start_time": "2025-06-28T22:55:06.966Z"
   },
   {
    "duration": 2126,
    "start_time": "2025-06-28T22:55:39.073Z"
   },
   {
    "duration": 9,
    "start_time": "2025-06-28T22:56:45.411Z"
   },
   {
    "duration": 8,
    "start_time": "2025-06-28T22:57:59.330Z"
   },
   {
    "duration": 87,
    "start_time": "2025-06-28T22:58:17.763Z"
   },
   {
    "duration": 8,
    "start_time": "2025-06-28T23:03:30.342Z"
   },
   {
    "duration": 7,
    "start_time": "2025-06-28T23:03:38.742Z"
   },
   {
    "duration": 125,
    "start_time": "2025-06-28T23:07:16.440Z"
   },
   {
    "duration": 118,
    "start_time": "2025-06-28T23:07:49.073Z"
   },
   {
    "duration": 123,
    "start_time": "2025-06-28T23:09:02.749Z"
   },
   {
    "duration": 127,
    "start_time": "2025-06-28T23:09:47.928Z"
   },
   {
    "duration": 134,
    "start_time": "2025-06-28T23:09:56.976Z"
   },
   {
    "duration": 136,
    "start_time": "2025-06-28T23:10:12.450Z"
   },
   {
    "duration": 199,
    "start_time": "2025-06-28T23:12:05.398Z"
   },
   {
    "duration": 83,
    "start_time": "2025-06-28T23:13:07.598Z"
   },
   {
    "duration": 81,
    "start_time": "2025-06-28T23:13:32.683Z"
   },
   {
    "duration": 89,
    "start_time": "2025-06-28T23:13:50.397Z"
   },
   {
    "duration": 78,
    "start_time": "2025-06-28T23:13:54.588Z"
   },
   {
    "duration": 78,
    "start_time": "2025-06-28T23:14:21.899Z"
   },
   {
    "duration": 2004,
    "start_time": "2025-06-28T23:30:54.084Z"
   },
   {
    "duration": 257,
    "start_time": "2025-06-28T23:31:08.780Z"
   },
   {
    "duration": 9,
    "start_time": "2025-06-28T23:52:32.062Z"
   },
   {
    "duration": 36,
    "start_time": "2025-06-28T23:52:52.015Z"
   },
   {
    "duration": 76,
    "start_time": "2025-06-28T23:55:15.856Z"
   },
   {
    "duration": 3,
    "start_time": "2025-06-28T23:56:22.674Z"
   },
   {
    "duration": 77,
    "start_time": "2025-06-28T23:56:28.984Z"
   },
   {
    "duration": 69,
    "start_time": "2025-06-28T23:56:36.593Z"
   },
   {
    "duration": 4,
    "start_time": "2025-06-29T00:06:07.924Z"
   },
   {
    "duration": 37,
    "start_time": "2025-06-29T00:07:00.659Z"
   },
   {
    "duration": 35,
    "start_time": "2025-06-29T00:07:10.156Z"
   },
   {
    "duration": 34,
    "start_time": "2025-06-29T00:07:33.907Z"
   },
   {
    "duration": 2,
    "start_time": "2025-06-29T00:31:25.546Z"
   },
   {
    "duration": 109,
    "start_time": "2025-06-29T00:34:34.625Z"
   },
   {
    "duration": 4,
    "start_time": "2025-06-29T00:43:40.004Z"
   },
   {
    "duration": 9,
    "start_time": "2025-06-29T00:44:39.027Z"
   },
   {
    "duration": 82,
    "start_time": "2025-06-29T00:45:06.490Z"
   },
   {
    "duration": 80,
    "start_time": "2025-06-29T00:45:10.388Z"
   },
   {
    "duration": 1363,
    "start_time": "2025-06-29T03:27:20.086Z"
   },
   {
    "duration": 1096,
    "start_time": "2025-06-29T03:27:21.451Z"
   },
   {
    "duration": 630,
    "start_time": "2025-06-29T03:27:22.548Z"
   },
   {
    "duration": 422,
    "start_time": "2025-06-29T03:27:23.180Z"
   },
   {
    "duration": 176,
    "start_time": "2025-06-29T03:27:23.604Z"
   },
   {
    "duration": 206,
    "start_time": "2025-06-29T03:27:23.782Z"
   },
   {
    "duration": 210,
    "start_time": "2025-06-29T03:27:23.990Z"
   },
   {
    "duration": 15,
    "start_time": "2025-06-29T03:27:24.202Z"
   },
   {
    "duration": 5,
    "start_time": "2025-06-29T03:27:24.218Z"
   },
   {
    "duration": 32,
    "start_time": "2025-06-29T03:27:24.224Z"
   },
   {
    "duration": 19,
    "start_time": "2025-06-29T03:27:24.258Z"
   },
   {
    "duration": 4,
    "start_time": "2025-06-29T03:27:24.279Z"
   },
   {
    "duration": 128,
    "start_time": "2025-06-29T03:27:24.285Z"
   },
   {
    "duration": 9,
    "start_time": "2025-06-29T03:27:24.416Z"
   },
   {
    "duration": 173,
    "start_time": "2025-06-29T03:27:24.427Z"
   },
   {
    "duration": 127,
    "start_time": "2025-06-29T03:27:24.601Z"
   },
   {
    "duration": 83,
    "start_time": "2025-06-29T03:27:24.730Z"
   },
   {
    "duration": 86,
    "start_time": "2025-06-29T03:27:24.815Z"
   },
   {
    "duration": 251,
    "start_time": "2025-06-29T03:27:24.903Z"
   },
   {
    "duration": 61,
    "start_time": "2025-06-29T03:27:25.156Z"
   },
   {
    "duration": 31,
    "start_time": "2025-06-29T03:27:25.219Z"
   },
   {
    "duration": 97,
    "start_time": "2025-06-29T03:27:25.251Z"
   },
   {
    "duration": 3,
    "start_time": "2025-06-29T03:35:15.253Z"
   },
   {
    "duration": 1143,
    "start_time": "2025-06-29T03:41:26.497Z"
   },
   {
    "duration": 1003,
    "start_time": "2025-06-29T03:41:27.642Z"
   },
   {
    "duration": 610,
    "start_time": "2025-06-29T03:41:28.646Z"
   },
   {
    "duration": 405,
    "start_time": "2025-06-29T03:41:29.258Z"
   },
   {
    "duration": 169,
    "start_time": "2025-06-29T03:41:29.666Z"
   },
   {
    "duration": 200,
    "start_time": "2025-06-29T03:41:29.837Z"
   },
   {
    "duration": 200,
    "start_time": "2025-06-29T03:41:30.038Z"
   },
   {
    "duration": 14,
    "start_time": "2025-06-29T03:41:30.239Z"
   },
   {
    "duration": 42,
    "start_time": "2025-06-29T03:41:30.254Z"
   },
   {
    "duration": 60,
    "start_time": "2025-06-29T03:41:30.298Z"
   },
   {
    "duration": 6,
    "start_time": "2025-06-29T03:41:30.359Z"
   },
   {
    "duration": 14,
    "start_time": "2025-06-29T03:41:30.367Z"
   },
   {
    "duration": 5,
    "start_time": "2025-06-29T03:41:30.382Z"
   },
   {
    "duration": 109,
    "start_time": "2025-06-29T03:41:30.390Z"
   },
   {
    "duration": 8,
    "start_time": "2025-06-29T03:41:30.500Z"
   },
   {
    "duration": 164,
    "start_time": "2025-06-29T03:41:30.509Z"
   },
   {
    "duration": 140,
    "start_time": "2025-06-29T03:41:30.674Z"
   },
   {
    "duration": 88,
    "start_time": "2025-06-29T03:41:30.815Z"
   },
   {
    "duration": 147,
    "start_time": "2025-06-29T03:41:30.905Z"
   },
   {
    "duration": 257,
    "start_time": "2025-06-29T03:41:31.053Z"
   },
   {
    "duration": 71,
    "start_time": "2025-06-29T03:41:31.312Z"
   },
   {
    "duration": 32,
    "start_time": "2025-06-29T03:41:31.384Z"
   },
   {
    "duration": 99,
    "start_time": "2025-06-29T03:41:31.418Z"
   },
   {
    "duration": 57,
    "start_time": "2025-06-29T11:21:11.792Z"
   },
   {
    "duration": 1277,
    "start_time": "2025-06-29T11:21:21.948Z"
   },
   {
    "duration": 1071,
    "start_time": "2025-06-29T11:21:23.236Z"
   },
   {
    "duration": 615,
    "start_time": "2025-06-29T11:21:24.308Z"
   },
   {
    "duration": 491,
    "start_time": "2025-06-29T11:21:24.925Z"
   },
   {
    "duration": 176,
    "start_time": "2025-06-29T11:21:25.419Z"
   },
   {
    "duration": 200,
    "start_time": "2025-06-29T11:21:25.597Z"
   },
   {
    "duration": 205,
    "start_time": "2025-06-29T11:21:25.799Z"
   },
   {
    "duration": 15,
    "start_time": "2025-06-29T11:21:26.006Z"
   },
   {
    "duration": 8,
    "start_time": "2025-06-29T11:21:26.035Z"
   },
   {
    "duration": 34,
    "start_time": "2025-06-29T11:21:26.046Z"
   },
   {
    "duration": 8,
    "start_time": "2025-06-29T11:21:26.081Z"
   },
   {
    "duration": 6,
    "start_time": "2025-06-29T11:21:26.091Z"
   },
   {
    "duration": 13,
    "start_time": "2025-06-29T11:21:26.099Z"
   },
   {
    "duration": 123,
    "start_time": "2025-06-29T11:21:26.115Z"
   },
   {
    "duration": 12,
    "start_time": "2025-06-29T11:21:26.245Z"
   },
   {
    "duration": 128,
    "start_time": "2025-06-29T11:21:26.258Z"
   },
   {
    "duration": 165,
    "start_time": "2025-06-29T11:21:26.388Z"
   },
   {
    "duration": 87,
    "start_time": "2025-06-29T11:21:26.556Z"
   },
   {
    "duration": 76,
    "start_time": "2025-06-29T11:21:26.646Z"
   },
   {
    "duration": 259,
    "start_time": "2025-06-29T11:21:26.724Z"
   },
   {
    "duration": 83,
    "start_time": "2025-06-29T11:21:26.984Z"
   },
   {
    "duration": 31,
    "start_time": "2025-06-29T11:21:27.069Z"
   },
   {
    "duration": 100,
    "start_time": "2025-06-29T11:21:27.102Z"
   },
   {
    "duration": 114,
    "start_time": "2025-06-29T11:25:05.001Z"
   },
   {
    "duration": 451,
    "start_time": "2025-06-29T11:25:20.054Z"
   },
   {
    "duration": 486,
    "start_time": "2025-06-29T11:25:44.292Z"
   },
   {
    "duration": 532,
    "start_time": "2025-06-29T11:26:00.268Z"
   },
   {
    "duration": 481,
    "start_time": "2025-06-29T11:26:22.223Z"
   },
   {
    "duration": 506,
    "start_time": "2025-06-29T11:26:33.949Z"
   },
   {
    "duration": 533,
    "start_time": "2025-06-29T11:26:56.051Z"
   },
   {
    "duration": 515,
    "start_time": "2025-06-29T11:27:28.748Z"
   },
   {
    "duration": 3,
    "start_time": "2025-06-29T11:30:13.285Z"
   },
   {
    "duration": 4,
    "start_time": "2025-06-29T11:31:43.960Z"
   },
   {
    "duration": 123,
    "start_time": "2025-06-29T11:36:24.735Z"
   },
   {
    "duration": 211,
    "start_time": "2025-06-29T11:40:24.373Z"
   },
   {
    "duration": 118,
    "start_time": "2025-06-29T11:40:49.479Z"
   },
   {
    "duration": 116,
    "start_time": "2025-06-29T11:41:02.147Z"
   },
   {
    "duration": 118,
    "start_time": "2025-06-29T11:41:07.670Z"
   },
   {
    "duration": 84,
    "start_time": "2025-06-29T11:52:17.073Z"
   },
   {
    "duration": 67,
    "start_time": "2025-06-29T11:52:34.055Z"
   },
   {
    "duration": 15,
    "start_time": "2025-06-29T11:53:00.953Z"
   },
   {
    "duration": 13,
    "start_time": "2025-06-29T11:53:05.709Z"
   },
   {
    "duration": 105,
    "start_time": "2025-06-29T11:53:18.874Z"
   },
   {
    "duration": 7,
    "start_time": "2025-06-29T11:53:55.714Z"
   },
   {
    "duration": 72,
    "start_time": "2025-06-29T11:54:54.761Z"
   },
   {
    "duration": 81,
    "start_time": "2025-06-29T11:55:18.899Z"
   },
   {
    "duration": 81,
    "start_time": "2025-06-29T11:55:49.917Z"
   },
   {
    "duration": 84,
    "start_time": "2025-06-29T11:56:14.704Z"
   },
   {
    "duration": 1198,
    "start_time": "2025-06-29T12:54:34.187Z"
   },
   {
    "duration": 1146,
    "start_time": "2025-06-29T12:54:35.387Z"
   },
   {
    "duration": 732,
    "start_time": "2025-06-29T12:54:36.535Z"
   },
   {
    "duration": 589,
    "start_time": "2025-06-29T12:54:37.269Z"
   },
   {
    "duration": 225,
    "start_time": "2025-06-29T12:54:37.862Z"
   },
   {
    "duration": 207,
    "start_time": "2025-06-29T12:54:38.089Z"
   },
   {
    "duration": 18,
    "start_time": "2025-06-29T12:54:38.299Z"
   },
   {
    "duration": 5,
    "start_time": "2025-06-29T12:54:38.319Z"
   },
   {
    "duration": 35,
    "start_time": "2025-06-29T12:54:38.344Z"
   },
   {
    "duration": 8,
    "start_time": "2025-06-29T12:54:38.381Z"
   },
   {
    "duration": 3,
    "start_time": "2025-06-29T12:54:38.391Z"
   },
   {
    "duration": 4,
    "start_time": "2025-06-29T12:54:38.396Z"
   },
   {
    "duration": 164,
    "start_time": "2025-06-29T12:54:38.402Z"
   },
   {
    "duration": 7,
    "start_time": "2025-06-29T12:54:38.569Z"
   },
   {
    "duration": 149,
    "start_time": "2025-06-29T12:54:38.577Z"
   },
   {
    "duration": 148,
    "start_time": "2025-06-29T12:54:38.728Z"
   },
   {
    "duration": 109,
    "start_time": "2025-06-29T12:54:38.877Z"
   },
   {
    "duration": 106,
    "start_time": "2025-06-29T12:54:38.987Z"
   },
   {
    "duration": 273,
    "start_time": "2025-06-29T12:54:39.095Z"
   },
   {
    "duration": 76,
    "start_time": "2025-06-29T12:54:39.370Z"
   },
   {
    "duration": 48,
    "start_time": "2025-06-29T12:54:39.448Z"
   },
   {
    "duration": 122,
    "start_time": "2025-06-29T12:54:39.497Z"
   },
   {
    "duration": 9,
    "start_time": "2025-06-29T12:59:36.049Z"
   },
   {
    "duration": 9,
    "start_time": "2025-06-29T12:59:52.855Z"
   },
   {
    "duration": 220,
    "start_time": "2025-06-29T13:00:35.910Z"
   },
   {
    "duration": 142,
    "start_time": "2025-06-29T13:00:44.742Z"
   },
   {
    "duration": 9,
    "start_time": "2025-06-29T13:00:52.293Z"
   },
   {
    "duration": 213,
    "start_time": "2025-06-29T13:01:03.444Z"
   },
   {
    "duration": 9,
    "start_time": "2025-06-29T13:01:05.413Z"
   },
   {
    "duration": 83,
    "start_time": "2025-06-29T13:02:45.706Z"
   },
   {
    "duration": 1145,
    "start_time": "2025-06-29T13:07:12.490Z"
   },
   {
    "duration": 1142,
    "start_time": "2025-06-29T13:07:13.637Z"
   },
   {
    "duration": 693,
    "start_time": "2025-06-29T13:07:14.781Z"
   },
   {
    "duration": 548,
    "start_time": "2025-06-29T13:07:15.476Z"
   },
   {
    "duration": 207,
    "start_time": "2025-06-29T13:07:16.039Z"
   },
   {
    "duration": 213,
    "start_time": "2025-06-29T13:07:16.248Z"
   },
   {
    "duration": 15,
    "start_time": "2025-06-29T13:07:16.463Z"
   },
   {
    "duration": 4,
    "start_time": "2025-06-29T13:07:16.480Z"
   },
   {
    "duration": 41,
    "start_time": "2025-06-29T13:07:16.486Z"
   },
   {
    "duration": 12,
    "start_time": "2025-06-29T13:07:16.529Z"
   },
   {
    "duration": 5,
    "start_time": "2025-06-29T13:07:16.542Z"
   },
   {
    "duration": 5,
    "start_time": "2025-06-29T13:07:16.549Z"
   },
   {
    "duration": 153,
    "start_time": "2025-06-29T13:07:16.557Z"
   },
   {
    "duration": 8,
    "start_time": "2025-06-29T13:07:16.713Z"
   },
   {
    "duration": 135,
    "start_time": "2025-06-29T13:07:16.723Z"
   },
   {
    "duration": 133,
    "start_time": "2025-06-29T13:07:16.860Z"
   },
   {
    "duration": 95,
    "start_time": "2025-06-29T13:07:16.995Z"
   },
   {
    "duration": 90,
    "start_time": "2025-06-29T13:07:17.093Z"
   },
   {
    "duration": 266,
    "start_time": "2025-06-29T13:07:17.185Z"
   },
   {
    "duration": 68,
    "start_time": "2025-06-29T13:07:17.453Z"
   },
   {
    "duration": 54,
    "start_time": "2025-06-29T13:07:17.522Z"
   },
   {
    "duration": 115,
    "start_time": "2025-06-29T13:07:17.579Z"
   },
   {
    "duration": 55,
    "start_time": "2025-06-29T13:47:24.812Z"
   },
   {
    "duration": 1365,
    "start_time": "2025-06-29T13:47:33.821Z"
   },
   {
    "duration": 1062,
    "start_time": "2025-06-29T13:47:35.188Z"
   },
   {
    "duration": 647,
    "start_time": "2025-06-29T13:47:36.252Z"
   },
   {
    "duration": 525,
    "start_time": "2025-06-29T13:47:36.902Z"
   },
   {
    "duration": 212,
    "start_time": "2025-06-29T13:47:37.430Z"
   },
   {
    "duration": 206,
    "start_time": "2025-06-29T13:47:37.644Z"
   },
   {
    "duration": 13,
    "start_time": "2025-06-29T13:47:37.852Z"
   },
   {
    "duration": 13,
    "start_time": "2025-06-29T13:47:37.867Z"
   },
   {
    "duration": 44,
    "start_time": "2025-06-29T13:47:37.881Z"
   },
   {
    "duration": 5,
    "start_time": "2025-06-29T13:47:37.927Z"
   },
   {
    "duration": 18,
    "start_time": "2025-06-29T13:47:37.933Z"
   },
   {
    "duration": 5,
    "start_time": "2025-06-29T13:47:37.953Z"
   },
   {
    "duration": 125,
    "start_time": "2025-06-29T13:47:37.960Z"
   },
   {
    "duration": 7,
    "start_time": "2025-06-29T13:47:38.086Z"
   },
   {
    "duration": 125,
    "start_time": "2025-06-29T13:47:38.095Z"
   },
   {
    "duration": 136,
    "start_time": "2025-06-29T13:47:38.221Z"
   },
   {
    "duration": 92,
    "start_time": "2025-06-29T13:47:38.358Z"
   },
   {
    "duration": 75,
    "start_time": "2025-06-29T13:47:38.451Z"
   },
   {
    "duration": 244,
    "start_time": "2025-06-29T13:47:38.536Z"
   },
   {
    "duration": 68,
    "start_time": "2025-06-29T13:47:38.782Z"
   },
   {
    "duration": 30,
    "start_time": "2025-06-29T13:47:38.852Z"
   },
   {
    "duration": 103,
    "start_time": "2025-06-29T13:47:38.884Z"
   },
   {
    "duration": 121,
    "start_time": "2025-06-29T13:51:04.565Z"
   },
   {
    "duration": 257,
    "start_time": "2025-06-29T13:51:41.852Z"
   },
   {
    "duration": 1482,
    "start_time": "2025-06-30T05:35:40.008Z"
   },
   {
    "duration": 1134,
    "start_time": "2025-06-30T05:35:41.492Z"
   },
   {
    "duration": 645,
    "start_time": "2025-06-30T05:35:42.628Z"
   },
   {
    "duration": 539,
    "start_time": "2025-06-30T05:35:43.275Z"
   },
   {
    "duration": 200,
    "start_time": "2025-06-30T05:35:43.817Z"
   },
   {
    "duration": 207,
    "start_time": "2025-06-30T05:35:44.019Z"
   },
   {
    "duration": 25,
    "start_time": "2025-06-30T05:35:44.228Z"
   },
   {
    "duration": 4,
    "start_time": "2025-06-30T05:35:44.255Z"
   },
   {
    "duration": 32,
    "start_time": "2025-06-30T05:35:44.261Z"
   },
   {
    "duration": 39,
    "start_time": "2025-06-30T05:35:44.295Z"
   },
   {
    "duration": 5,
    "start_time": "2025-06-30T05:35:44.336Z"
   },
   {
    "duration": 4,
    "start_time": "2025-06-30T05:35:44.343Z"
   },
   {
    "duration": 134,
    "start_time": "2025-06-30T05:35:44.349Z"
   },
   {
    "duration": 8,
    "start_time": "2025-06-30T05:35:44.486Z"
   },
   {
    "duration": 153,
    "start_time": "2025-06-30T05:35:44.495Z"
   },
   {
    "duration": 121,
    "start_time": "2025-06-30T05:35:44.649Z"
   },
   {
    "duration": 93,
    "start_time": "2025-06-30T05:35:44.772Z"
   },
   {
    "duration": 88,
    "start_time": "2025-06-30T05:35:44.867Z"
   },
   {
    "duration": 274,
    "start_time": "2025-06-30T05:35:44.957Z"
   },
   {
    "duration": 74,
    "start_time": "2025-06-30T05:35:45.233Z"
   },
   {
    "duration": 45,
    "start_time": "2025-06-30T05:35:45.309Z"
   },
   {
    "duration": 94,
    "start_time": "2025-06-30T05:35:45.356Z"
   },
   {
    "duration": 65,
    "start_time": "2025-08-15T14:55:21.575Z"
   },
   {
    "duration": 1455,
    "start_time": "2025-08-15T14:55:34.842Z"
   },
   {
    "duration": 1191,
    "start_time": "2025-08-15T14:55:36.299Z"
   },
   {
    "duration": 703,
    "start_time": "2025-08-15T14:55:37.492Z"
   },
   {
    "duration": 568,
    "start_time": "2025-08-15T14:55:38.197Z"
   },
   {
    "duration": 218,
    "start_time": "2025-08-15T14:55:38.774Z"
   },
   {
    "duration": 213,
    "start_time": "2025-08-15T14:55:38.993Z"
   },
   {
    "duration": 16,
    "start_time": "2025-08-15T14:55:39.208Z"
   },
   {
    "duration": 5,
    "start_time": "2025-08-15T14:55:39.226Z"
   },
   {
    "duration": 43,
    "start_time": "2025-08-15T14:55:39.233Z"
   },
   {
    "duration": 8,
    "start_time": "2025-08-15T14:55:39.278Z"
   },
   {
    "duration": 5,
    "start_time": "2025-08-15T14:55:39.287Z"
   },
   {
    "duration": 6,
    "start_time": "2025-08-15T14:55:39.294Z"
   },
   {
    "duration": 161,
    "start_time": "2025-08-15T14:55:39.302Z"
   },
   {
    "duration": 8,
    "start_time": "2025-08-15T14:55:39.471Z"
   },
   {
    "duration": 142,
    "start_time": "2025-08-15T14:55:39.481Z"
   },
   {
    "duration": 134,
    "start_time": "2025-08-15T14:55:39.625Z"
   },
   {
    "duration": 96,
    "start_time": "2025-08-15T14:55:39.761Z"
   },
   {
    "duration": 96,
    "start_time": "2025-08-15T14:55:39.859Z"
   },
   {
    "duration": 280,
    "start_time": "2025-08-15T14:55:39.956Z"
   },
   {
    "duration": 81,
    "start_time": "2025-08-15T14:55:40.238Z"
   },
   {
    "duration": 34,
    "start_time": "2025-08-15T14:55:40.320Z"
   },
   {
    "duration": 122,
    "start_time": "2025-08-15T14:55:40.356Z"
   }
  ],
  "colab": {
   "provenance": []
  },
  "kernelspec": {
   "display_name": "Python 3 (ipykernel)",
   "language": "python",
   "name": "python3"
  },
  "language_info": {
   "codemirror_mode": {
    "name": "ipython",
    "version": 3
   },
   "file_extension": ".py",
   "mimetype": "text/x-python",
   "name": "python",
   "nbconvert_exporter": "python",
   "pygments_lexer": "ipython3",
   "version": "3.9.5"
  },
  "toc": {
   "base_numbering": 1,
   "nav_menu": {},
   "number_sections": true,
   "sideBar": true,
   "skip_h1_title": true,
   "title_cell": "Table of Contents",
   "title_sidebar": "Contents",
   "toc_cell": false,
   "toc_position": {},
   "toc_section_display": true,
   "toc_window_display": false
  }
 },
 "nbformat": 4,
 "nbformat_minor": 1
}
